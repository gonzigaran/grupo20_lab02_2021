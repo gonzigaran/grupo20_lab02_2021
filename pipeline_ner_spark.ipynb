{
 "cells": [
  {
   "cell_type": "markdown",
   "id": "split-coral",
   "metadata": {},
   "source": [
    "# Named Entity Recognition Pipeline\n",
    "\n",
    "El pipeline toma una URL de un feed en formato RSS, obtiene el título y descripción de los artículos en el feed, detecta las NER con un modelo pre-entrenado, y las muestra ordenadas por frecuencia de aparición.\n",
    "\n",
    "### Versiones\n",
    "Probado con:\n",
    "* Almond 0.6.0\n",
    "* Ammonite 1.6.7\n",
    "* Scala library version **2.11.12** -- Copyright 2002-2017, LAMP/EPFL\n",
    "* Java 1.8.0_282\n",
    "\n",
    "Para ver más información ir a (Help -> About Scala Kernel)"
   ]
  },
  {
   "cell_type": "markdown",
   "id": "split-boring",
   "metadata": {
    "tags": []
   },
   "source": [
    "## 1. Obtener texto"
   ]
  },
  {
   "cell_type": "markdown",
   "id": "friendly-arbitration",
   "metadata": {},
   "source": [
    "### 1.1 Importar librerías\n",
    "\n",
    "Markdown **negrita**"
   ]
  },
  {
   "cell_type": "code",
   "execution_count": 3,
   "id": "forward-bulgarian",
   "metadata": {
    "tags": []
   },
   "outputs": [
    {
     "data": {
      "text/plain": [
       "\u001b[32mimport \u001b[39m\u001b[36m$ivy.$                              \n",
       "// \"org.scala-lang.modules\" %% \"scala-xml\" % \"1.3.0\"\n",
       "\u001b[39m\n",
       "\u001b[32mimport \u001b[39m\u001b[36m$ivy.$                                        \u001b[39m"
      ]
     },
     "execution_count": 3,
     "metadata": {},
     "output_type": "execute_result"
    }
   ],
   "source": [
    "// Equivalent of adding dependencies to maven or sbt files\n",
    "// For example, to add \"org.scalaj\" %% \"scalaj-http\" % \"2.4.2\" \n",
    "import $ivy.`org.scalaj::scalaj-http:2.4.2`\n",
    "// \"org.scala-lang.modules\" %% \"scala-xml\" % \"1.3.0\"\n",
    "import $ivy.`org.scala-lang.modules::scala-xml:1.3.0`"
   ]
  },
  {
   "cell_type": "code",
   "execution_count": 4,
   "id": "confirmed-choir",
   "metadata": {},
   "outputs": [
    {
     "data": {
      "text/plain": [
       "\u001b[32mimport \u001b[39m\u001b[36mscalaj.http.{Http, HttpResponse}\n",
       "\u001b[39m\n",
       "\u001b[32mimport \u001b[39m\u001b[36mscala.xml.XML\u001b[39m"
      ]
     },
     "execution_count": 4,
     "metadata": {},
     "output_type": "execute_result"
    }
   ],
   "source": [
    "import scalaj.http.{Http, HttpResponse}\n",
    "import scala.xml.XML"
   ]
  },
  {
   "cell_type": "markdown",
   "id": "international-search",
   "metadata": {},
   "source": [
    "### 1.1 Obtener el texto del RSS Feed\n",
    "\n",
    "Realizamos una consulta HTTP, que nos devuelve una instancia de HTTPResponse. Dentro del atributo `body` de la HTTPResponse, se encuentra el texto del feed en formato XML. Luego, se parsea el XML para extraer los campos `title` y `description`."
   ]
  },
  {
   "cell_type": "code",
   "execution_count": 3,
   "id": "intended-talent",
   "metadata": {
    "collapsed": true,
    "jupyter": {
     "outputs_hidden": true
    },
    "tags": []
   },
   "outputs": [
    {
     "data": {
      "text/plain": [
       "\u001b[36murl\u001b[39m: \u001b[32mString\u001b[39m = \u001b[32m\"https://www.chicagotribune.com/arcio/rss/category/sports/?query=display_date:[now-2d+TO+now]&sort=display_date:desc\"\u001b[39m\n",
       "\u001b[36mresponse\u001b[39m: \u001b[32mHttpResponse\u001b[39m[\u001b[32mString\u001b[39m] = \u001b[33mHttpResponse\u001b[39m(\n",
       "  \u001b[32m\"\"\"<?xml version=\"1.0\" encoding=\"utf-8\"?>\n",
       "<rss version=\"2.0\" xmlns:atom=\"http://www.w3.org/2005/Atom\" xmlns:content=\"http://purl.org/rss/1.0/modules/content/\" xmlns:dc=\"http://purl.org/dc/elements/1.1/\" xmlns:media=\"http://search.yahoo.com/mrss/\" xmlns:sy=\"http://purl.org/rss/1.0/modules/syndication/\"><channel><title>Chicago Tribune</title><link>https://www.chicagotribune.com</link><language>en-US</language><copyright>© 2021 Chicago Tribune</copyright><atom:link href=\"https://www.chicagotribune.com/arcio/rss/category/sports/?query=display_date:%5Bnow-2d+TO+now%5D&amp;sort=display_date:desc\" rel=\"self\" type=\"application/rss+xml\"/><description>Chicago Tribune News Feed</description><lastBuildDate>Mon, 12 Apr 2021 21:06:00 +0000</lastBuildDate><ttl>1</ttl><sy:updatePeriod>hourly</sy:updatePeriod><sy:updateFrequency>1</sy:updateFrequency><item><title>White Sox shortstop Tim Anderson and his hot bat commemorated with new bobblehead</title><link>https://www.chicagotribune.com/sports/national-sports/ct-aud-tim-anderson-bobblehead-20210412-jlxfnyjcjnf4bh2i6y7d4k6vvu-story.html#ed=rss_www.chicagotribune.com/arcio/rss/category/sports/</link><guid isPermaLink=\"true\">https://www.chicagotribune.com/sports/national-sports/ct-aud-tim-anderson-bobblehead-20210412-jlxfnyjcjnf4bh2i6y7d4k6vvu-story.html</guid><dc:creator>Chicago Tribune staff</dc:creator><pubDate>Mon, 12 Apr 2021 20:52:41 +0000</pubDate><description>Celebrating Tim Anderson and his stellar batting average, FOCO has released a commemorative bobblehead that is perfect for any fan’s collection.</description><content:encoded><![CDATA[<p>Celebrating Tim Anderson and his stellar batting average, FOCO has released a commemorative bobblehead that is perfect for any fan’s collection.</p>]]></content:encoded><media:content type=\"image/jpeg\" url=\"https://www.chicagotribune.com/resizer/WDhvDpCJzqfkZJaPpDAFPFnLfX8=/cloudfront-us-east-1.images.arcpublishing.com/tronc/ORZOFGT5OFFHVIEANG3VM4RF6M.jpg\"><media:description type=\"plain\"><![CDATA[(FOCO)]]></media:description></media:content></item><item><title>Minnesota Twins, Wild and Timberwolves postpone their games Monday after fatal police shooting near Minneapolis</title><link>https://www.chicagotribune.com/sports/breaking/ct-minnesota-twins-boston-red-sox-postponed-shooting-20210412-lfuhog6xabhqdebwbbdpgp4bay-story.html#ed=rss_www.chicagotribune.com/arcio/rss/category/sports/</link><guid isPermaLink=\"true\">https://www.chicagotribune.com/sports/breaking/ct-minnesota-twins-boston-red-sox-postponed-shooting-20210412-lfuhog6xabhqdebwbbdpgp4bay-story.html</guid><dc:creator>Dave Campbell</dc:creator><pubDate>Mon, 12 Apr 2021 20:00:39 +0000</pubDate><description>The Minnesota Twins postponed their game against the Boston Red Sox on Monday because of safety concerns after the fatal police shooting of a Black man and the potential for unrest in the area. The NHL’s Minnesota Wild and NBA’s Minnesota Timberwolves also postponed their games scheduled for Monday night.</descrip\u001b[39m...\n",
       "\u001b[36mxmlString\u001b[39m: \u001b[32mString\u001b[39m = \u001b[32m\"\"\"<?xml version=\"1.0\" encoding=\"utf-8\"?>\n",
       "<rss version=\"2.0\" xmlns:atom=\"http://www.w3.org/2005/Atom\" xmlns:content=\"http://purl.org/rss/1.0/modules/content/\" xmlns:dc=\"http://purl.org/dc/elements/1.1/\" xmlns:media=\"http://search.yahoo.com/mrss/\" xmlns:sy=\"http://purl.org/rss/1.0/modules/syndication/\"><channel><title>Chicago Tribune</title><link>https://www.chicagotribune.com</link><language>en-US</language><copyright>© 2021 Chicago Tribune</copyright><atom:link href=\"https://www.chicagotribune.com/arcio/rss/category/sports/?query=display_date:%5Bnow-2d+TO+now%5D&amp;sort=display_date:desc\" rel=\"self\" type=\"application/rss+xml\"/><description>Chicago Tribune News Feed</description><lastBuildDate>Mon, 12 Apr 2021 21:06:00 +0000</lastBuildDate><ttl>1</ttl><sy:updatePeriod>hourly</sy:updatePeriod><sy:updateFrequency>1</sy:updateFrequency><item><title>White Sox shortstop Tim Anderson and his hot bat commemorated with new bobblehead</title><link>https://www.chicagotribune.com/sports/national-sports/ct-aud-tim-anderson-bobblehead-20210412-jlxfnyjcjnf4bh2i6y7d4k6vvu-story.html#ed=rss_www.chicagotribune.com/arcio/rss/category/sports/</link><guid isPermaLink=\"true\">https://www.chicagotribune.com/sports/national-sports/ct-aud-tim-anderson-bobblehead-20210412-jlxfnyjcjnf4bh2i6y7d4k6vvu-story.html</guid><dc:creator>Chicago Tribune staff</dc:creator><pubDate>Mon, 12 Apr 2021 20:52:41 +0000</pubDate><description>Celebrating Tim Anderson and his stellar batting average, FOCO has released a commemorative bobblehead that is perfect for any fan’s collection.</description><content:encoded><![CDATA[<p>Celebrating Tim Anderson and his stellar batting average, FOCO has released a commemorative bobblehead that is perfect for any fan’s collection.</p>]]></content:encoded><media:content type=\"image/jpeg\" url=\"https://www.chicagotribune.com/resizer/WDhvDpCJzqfkZJaPpDAFPFnLfX8=/cloudfront-us-east-1.images.arcpublishing.com/tronc/ORZOFGT5OFFHVIEANG3VM4RF6M.jpg\"><media:description type=\"plain\"><![CDATA[(FOCO)]]></media:description></media:content></item><item><title>Minnesota Twins, Wild and Timberwolves postpone their games Monday after fatal police shooting near Minneapolis</title><link>https://www.chicagotribune.com/sports/breaking/ct-minnesota-twins-boston-red-sox-postponed-shooting-20210412-lfuhog6xabhqdebwbbdpgp4bay-story.html#ed=rss_www.chicagotribune.com/arcio/rss/category/sports/</link><guid isPermaLink=\"true\">https://www.chicagotribune.com/sports/breaking/ct-minnesota-twins-boston-red-sox-postponed-shooting-20210412-lfuhog6xabhqdebwbbdpgp4bay-story.html</guid><dc:creator>Dave Campbell</dc:creator><pubDate>Mon, 12 Apr 2021 20:00:39 +0000</pubDate><description>The Minnesota Twins postponed their game against the Boston Red Sox on Monday because of safety concerns after the fatal police shooting of a Black man and the potential for unrest in the area. The NHL’s Minnesota Wild and NBA’s Minnesota Timberwolves also postponed their games scheduled for Monday night.</description><content:encoded><![CDATA[<p>The Minnesota Twins postponed their game again\u001b[39m...\n",
       "\u001b[36mxml\u001b[39m: \u001b[32mscala\u001b[39m.\u001b[32mxml\u001b[39m.\u001b[32mElem\u001b[39m = <rss version=\"2.0\" xmlns:sy=\"http://purl.org/rss/1.0/modules/syndication/\" xmlns:media=\"http://search.yahoo.com/mrss/\" xmlns:dc=\"http://purl.org/dc/elements/1.1/\" xmlns:content=\"http://purl.org/rss/1.0/modules/content/\" xmlns:atom=\"http://www.w3.org/2005/Atom\"><channel><title>Chicago Tribune</title><link>https://www.chicagotribune.com</link><language>en-US</language><copyright>© 2021 Chicago Tribune</copyright><atom:link type=\"application/rss+xml\" rel=\"self\" href=\"https://www.chicagotribune.com/arcio/rss/category/sports/?query=display_date:%5Bnow-2d+TO+now%5D&amp;sort=display_date:desc\"/><description>Chicago Tribune News Feed</description><lastBuildDate>Mon, 12 Apr 2021 21:06:00 +0000</lastBuildDate><ttl>1</ttl><sy:updatePeriod>hourly</sy:updatePeriod><sy:updateFrequency>1</sy:updateFrequency><item><title>White Sox shortstop Tim Anderson and his hot bat commemorated with new bobblehead</title><link>https://www.chicagotribune.com/sports/national-sports/ct-aud-tim-anderson-bobblehead-20210412-jlxfnyjcjnf4bh2i6y7d4k6vvu-story.html#ed=rss_www.chicagotribune.com/arcio/rss/category/sports/</link><guid isPermaLink=\"true\">https://www.chicagotribune.com/sports/national-sports/ct-aud-tim-anderson-bobblehead-20210412-jlxfnyjcjnf4bh2i6y7d4k6vvu-story.html</guid><dc:creator>Chicago Tribune staff</dc:creator><pubDate>Mon, 12 Apr 2021 20:52:41 +0000</pubDate><description>Celebrating Tim Anderson and his stellar batting average, FOCO has released a commemorative bobblehead that is perfect for any fan’s collection.</description><content:encoded>&lt;p&gt;Celebrating Tim Anderson and his stellar batting average, FOCO has released a commemorative bobblehead that is perfect for any fan’s collection.&lt;/p&gt;</content:encoded><media:content url=\"https://www.chicagotribune.com/resizer/WDhvDpCJzqfkZJaPpDAFPFnLfX8=/cloudfront-us-east-1.images.arcpublishing.com/tronc/ORZOFGT5OFFHVIEANG3VM4RF6M.jpg\" type=\"image/jpeg\"><media:description type=\"plain\">(FOCO)</media:description></media:content></item><item><title>Minnesota Twins, Wild and Timberwolves postpone their games Monday after fatal police shooting near Minneapolis</title><link>https://www.chicagotribune.com/sports/breaking/ct-minnesota-twins-boston-red-sox-postponed-shooting-20210412-lfuhog6xabhqdebwbbdpgp4bay-story.html#ed=rss_www.chicagotribune.com/arcio/rss/category/sports/</link><guid isPermaLink=\"true\">https://www.chicagotribune.com/sports/breaking/ct-minnesota-twins-boston-red-sox-postponed-shooting-20210412-lfuhog6xabhqdebwbbdpgp4bay-story.html</guid><dc:creator>Dave Campbell</dc:creator><pubDate>Mon, 12 Apr 2021 20:00:39 +0000</pubDate><description>The Minnesota Twins postponed their game against the Boston Red Sox on Monday because of safety concerns after the fatal police shooting of a Black man and the potential for unrest in the area. The NHL’s Minnesota Wild and NBA’s Minnesota Timberwolves also postponed their games scheduled for Monday night.</description><content:encoded>&lt;p&gt;The Minnesota Twins postponed their game against the Boston Red Sox on Monday because of safety concerns after the fatal police shooting of a...\n",
       "\u001b[36mrssText\u001b[39m: \u001b[32mcollection\u001b[39m.\u001b[32mimmutable\u001b[39m.\u001b[32mSeq\u001b[39m[\u001b[32mString\u001b[39m] = \u001b[33mList\u001b[39m(\n",
       "  \u001b[32m\"White Sox shortstop Tim Anderson and his hot bat commemorated with new bobblehead Celebrating Tim Anderson and his stellar batting average, FOCO has released a commemorative bobblehead that is perfect for any fan\\u2019s collection.\"\u001b[39m,\n",
       "  \u001b[32m\"Minnesota Twins, Wild and Timberwolves postpone their games Monday after fatal police shooting near Minneapolis The Minnesota Twins postponed their game against the Boston Red Sox on Monday because of safety concerns after the fatal police shooting of a Black man and the potential for unrest in the area. The NHL\\u2019s Minnesota Wild and NBA\\u2019s Minnesota Timberwolves also postponed their games scheduled for Monday night.\"\u001b[39m,\n",
       "  \u001b[32m\"Chicago Blackhawks at the NHL trade deadline: 4 moves include landing Adam Gaudette and dealing Mattias Janmark, Carl Soderberg and Matthew Highmore The Chicago Blackhawks made four trades in advance of the NHL trade deadline.\"\u001b[39m,\n",
       "  \u001b[32m\"Britt Reid, a former Kansas City Chiefs assistant, is charged with DWI in the crash that critically injured a 5-year-old girl Former Kansas City Chiefs assistant coach Britt Reid was charged Monday with driving while intoxicated resulting in serious physical injury after a crash that left a 5-year-old girl critically injured.\"\u001b[39m,\n",
       "  \u001b[32m\"Eddie George is reportedly set to become Tennessee State\\u2019s new football coach Tennessee State announced Monday it will not renew coach Rod Reed\\u2019s contract after 11 seasons running the Tigers football program, with former NFL running back Eddie George reportedly poised to replace him.\"\u001b[39m,\n",
       "  \u001b[32m\"What \\u2014 and where \\u2014 is NBC Sports Chicago+2? How to find the White Sox, Bulls and Blackhawks games when all 3 are playing at the same time. With the Chicago White Sox, Bulls and Blackhawks all playing at the same time, how do fans find their NBC Sports Chicago telecasts?\"\u001b[39m,\n",
       "  \u001b[32m\"Premier League kickoff moved back to avoid starting during Prince Philip\\u2019s funeral More sports events are being moved to avoid clashing with Prince Philip\\u2019s funeral, with a Premier League match between Wolverhampton and Sheffield United pushed to Saturday evening.\"\u001b[39m,\n",
       "  \u001b[32m\"All-girls youth baseball team: the Humboldt Park Gators The Humboldt Park Gators, a girls baseball team, are about to start their first full season and most of their competition will be boys.\"\u001b[39m,\n",
       "  \u001b[32m\"4 takeaways from the Chicago White Sox series vs. the Kansas City Royals, including Lance Lynn showing why he was a big addition and Yerm\\u00edn Mercedes showing no signs of slowing down The Chicago White Sox split a pair in a rain-shortened series against the Kansas City Royals, getting some highs and lows from the bullpen Sunday after Lance Lynn's stellar shutout Thursday.\"\u001b[39m,\n",
       "  \u001b[32m\"3 takeaways from the Chicago Cubs series vs. the Pittsburgh Pirates, includin\u001b[39m..."
      ]
     },
     "execution_count": 3,
     "metadata": {},
     "output_type": "execute_result"
    }
   ],
   "source": [
    "// Tutorial https://alvinalexander.com/source-code/scala-how-to-http-download-xml-rss-feed-timeout/\n",
    "// get the xml content using scalaj-http\n",
    "val url = \"https://www.chicagotribune.com/arcio/rss/category/sports/?query=display_date:[now-2d+TO+now]&sort=display_date:desc\"\n",
    "val response: HttpResponse[String] = Http(url)\n",
    "  .timeout(connTimeoutMs = 2000, readTimeoutMs = 5000)\n",
    "  .asString\n",
    "val xmlString = response.body\n",
    "// convert the `String` to a `scala.xml.Elem`\n",
    "val xml = XML.loadString(xmlString)\n",
    "// Extract text from title and description\n",
    "val rssText = (xml \\\\ \"item\").map { item =>\n",
    "    ((item \\ \"title\").text ++ \" \" ++ (item \\ \"description\").text)\n",
    "}"
   ]
  },
  {
   "cell_type": "markdown",
   "id": "assured-syndication",
   "metadata": {},
   "source": [
    "## 2. Detectar las entidades nombradas"
   ]
  },
  {
   "cell_type": "markdown",
   "id": "ethical-shannon",
   "metadata": {},
   "source": [
    "### 2.1 Importar librerías"
   ]
  },
  {
   "cell_type": "code",
   "execution_count": 4,
   "id": "streaming-relations",
   "metadata": {
    "tags": []
   },
   "outputs": [
    {
     "data": {
      "text/plain": [
       "\u001b[32mimport \u001b[39m\u001b[36m$ivy.$                                  \n",
       "\u001b[39m\n",
       "\u001b[32mimport \u001b[39m\u001b[36m$ivy.$                                    \n",
       "\u001b[39m\n",
       "\u001b[32mimport \u001b[39m\u001b[36m$ivy.$                                      \n",
       "\u001b[39m\n",
       "\u001b[32mimport \u001b[39m\u001b[36m$ivy.$                              \u001b[39m"
      ]
     },
     "execution_count": 4,
     "metadata": {},
     "output_type": "execute_result"
    }
   ],
   "source": [
    "// Equivalent of adding dependencies to maven or sbt files\n",
    "import $ivy.`org.apache.spark::spark-sql:2.4.4`\n",
    "import $ivy.`org.apache.spark::spark-mllib:2.4.4`\n",
    "import $ivy.`com.johnsnowlabs.nlp::spark-nlp:2.7.4`\n",
    "import $ivy.`sh.almond::almond-spark:0.6.0`"
   ]
  },
  {
   "cell_type": "code",
   "execution_count": 5,
   "id": "indonesian-illustration",
   "metadata": {
    "tags": []
   },
   "outputs": [
    {
     "data": {
      "text/plain": [
       "\u001b[32mimport \u001b[39m\u001b[36morg.apache.log4j.{Level, Logger}\n",
       "\n",
       "\u001b[39m"
      ]
     },
     "execution_count": 5,
     "metadata": {},
     "output_type": "execute_result"
    }
   ],
   "source": [
    "import org.apache.log4j.{Level, Logger}\n",
    "\n",
    "Logger.getLogger(\"org\").setLevel(Level.OFF)"
   ]
  },
  {
   "cell_type": "code",
   "execution_count": 6,
   "id": "recent-royalty",
   "metadata": {
    "tags": []
   },
   "outputs": [
    {
     "data": {
      "text/plain": [
       "\u001b[32mimport \u001b[39m\u001b[36mcom.johnsnowlabs.nlp.base._\n",
       "\u001b[39m\n",
       "\u001b[32mimport \u001b[39m\u001b[36mcom.johnsnowlabs.nlp.annotator._\n",
       "\u001b[39m\n",
       "\u001b[32mimport \u001b[39m\u001b[36morg.apache.spark.ml.Pipeline\n",
       "\u001b[39m\n",
       "\u001b[32mimport \u001b[39m\u001b[36morg.apache.spark.sql.{functions => F}  // Rename import\u001b[39m"
      ]
     },
     "execution_count": 6,
     "metadata": {},
     "output_type": "execute_result"
    }
   ],
   "source": [
    "import com.johnsnowlabs.nlp.base._\n",
    "import com.johnsnowlabs.nlp.annotator._\n",
    "import org.apache.spark.ml.Pipeline\n",
    "import org.apache.spark.sql.{functions => F}  // Rename import"
   ]
  },
  {
   "cell_type": "code",
   "execution_count": 7,
   "id": "mineral-plant",
   "metadata": {
    "tags": []
   },
   "outputs": [
    {
     "name": "stdout",
     "output_type": "stream",
     "text": [
      "Loading spark-stubs\n",
      "Creating SparkSession\n"
     ]
    },
    {
     "data": {
      "text/html": [
       "<a href=\"http://ada.fibertel.com.ar:4041\">Spark UI</a>"
      ]
     },
     "metadata": {},
     "output_type": "display_data"
    },
    {
     "data": {
      "text/plain": [
       "\u001b[32mimport \u001b[39m\u001b[36morg.apache.spark.sql._\n",
       "// If a new library is included, this cell must be re-run\n",
       "\u001b[39m\n",
       "\u001b[36mspark\u001b[39m: \u001b[32mSparkSession\u001b[39m = org.apache.spark.sql.SparkSession@756602fc\n",
       "\u001b[32mimport \u001b[39m\u001b[36mspark.implicits._ // This is necessary for all the .toDF\n",
       "// And it has to go after starting the session\u001b[39m"
      ]
     },
     "execution_count": 7,
     "metadata": {},
     "output_type": "execute_result"
    }
   ],
   "source": [
    "// NO SACAR ESTA CELDA DE LA NOTEBOOK!!!\n",
    "import org.apache.spark.sql._\n",
    "// If a new library is included, this cell must be re-run\n",
    "val spark = {\n",
    "  NotebookSparkSession.builder()\n",
    "    .master(\"local[*]\")\n",
    "    .getOrCreate()\n",
    "}\n",
    "import spark.implicits._ // This is necessary for all the .toDF\n",
    "// And it has to go after starting the session"
   ]
  },
  {
   "cell_type": "markdown",
   "id": "impossible-instruction",
   "metadata": {},
   "source": [
    "### 2.2 Crear la instancia de SparkML Pipeline\n",
    "\n",
    "Este código genera el pipeline de datos.\n",
    "\n",
    "El **modelo** en sí es la instancia de `NerDLModel`. El código anterior son transformadores que pre-procesan el texto para dejarlo en el formato esperado por el modelo. La instancia de `NerConverter` es un transformador que procesa la salida del modelo a un formato más fácil de leer. Todas estas etapas se combinan en un **pipeline** de datos que recibe texto plano y devuelve las entidades nombradas.\n",
    "\n",
    "La entrada debe ser un DataFrame y tener una única columna llamada `description`"
   ]
  },
  {
   "cell_type": "code",
   "execution_count": 8,
   "id": "nervous-peter",
   "metadata": {},
   "outputs": [
    {
     "data": {
      "text/plain": [
       "\u001b[36minput_col\u001b[39m: \u001b[32mString\u001b[39m = \u001b[32m\"description\"\u001b[39m"
      ]
     },
     "execution_count": 8,
     "metadata": {},
     "output_type": "execute_result"
    }
   ],
   "source": [
    "val input_col = \"description\""
   ]
  },
  {
   "cell_type": "code",
   "execution_count": 9,
   "id": "hungry-encounter",
   "metadata": {
    "tags": []
   },
   "outputs": [
    {
     "name": "stdout",
     "output_type": "stream",
     "text": [
      "glove_100d download started this may take some time.\n",
      "Approximate size to download 145.3 MB\n",
      "Download done! Loading the resource.\n"
     ]
    },
    {
     "data": {
      "text/html": [
       "<script>\n",
       "var comm = Jupyter.notebook.kernel.comm_manager.new_comm('cancel-stage-59cc70b7-eaac-4c6b-84a9-4aa5e381d913', {});\n",
       "\n",
       "function cancelStage(stageId) {\n",
       "  console.log('Cancelling stage ' + stageId);\n",
       "  comm.send({ 'stageId': stageId });\n",
       "}\n",
       "</script>\n",
       "          "
      ]
     },
     "metadata": {},
     "output_type": "display_data"
    },
    {
     "data": {
      "text/html": [
       "<div>\n",
       "  <span style=\"float: left;\">first at ReadWrite.scala:615</span>\n",
       "</div>\n"
      ]
     },
     "metadata": {},
     "output_type": "display_data"
    },
    {
     "data": {
      "text/html": [
       "<div class=\"progress\">\n",
       "  <div class=\"progress-bar\" role=\"progressbar\" style=\"background-color: blue; width: 100%; word-wrap: normal; white-space: nowrap; text-align: center; color: white\" aria-valuenow=\"100\" aria-valuemin=\"0\" aria-valuemax=\"100\">\n",
       "    1 / 1\n",
       "  </div>\n",
       "  <div class=\"progress-bar\" role=\"progressbar\" style=\"background-color: red; width: 0%\" aria-valuenow=\"0\" aria-valuemin=\"0\" aria-valuemax=\"100\"></div>\n",
       "</div>\n"
      ]
     },
     "metadata": {},
     "output_type": "display_data"
    },
    {
     "name": "stdout",
     "output_type": "stream",
     "text": [
      "ner_dl download started this may take some time.\n",
      "Approximate size to download 13.6 MB\n",
      "Download done! Loading the resource.\n"
     ]
    },
    {
     "data": {
      "text/html": [
       "<div>\n",
       "  <span style=\"float: left;\">first at ReadWrite.scala:615</span>\n",
       "</div>\n"
      ]
     },
     "metadata": {},
     "output_type": "display_data"
    },
    {
     "data": {
      "text/html": [
       "<div class=\"progress\">\n",
       "  <div class=\"progress-bar\" role=\"progressbar\" style=\"background-color: blue; width: 100%; word-wrap: normal; white-space: nowrap; text-align: center; color: white\" aria-valuenow=\"100\" aria-valuemin=\"0\" aria-valuemax=\"100\">\n",
       "    1 / 1\n",
       "  </div>\n",
       "  <div class=\"progress-bar\" role=\"progressbar\" style=\"background-color: red; width: 0%\" aria-valuenow=\"0\" aria-valuemin=\"0\" aria-valuemax=\"100\"></div>\n",
       "</div>\n"
      ]
     },
     "metadata": {},
     "output_type": "display_data"
    },
    {
     "data": {
      "text/html": [
       "<div>\n",
       "  <span style=\"float: left;\">first at Feature.scala:120</span>\n",
       "</div>\n"
      ]
     },
     "metadata": {},
     "output_type": "display_data"
    },
    {
     "data": {
      "text/html": [
       "<div class=\"progress\">\n",
       "  <div class=\"progress-bar\" role=\"progressbar\" style=\"background-color: blue; width: 100%; word-wrap: normal; white-space: nowrap; text-align: center; color: white\" aria-valuenow=\"100\" aria-valuemin=\"0\" aria-valuemax=\"100\">\n",
       "    1 / 1\n",
       "  </div>\n",
       "  <div class=\"progress-bar\" role=\"progressbar\" style=\"background-color: red; width: 0%\" aria-valuenow=\"0\" aria-valuemin=\"0\" aria-valuemax=\"100\"></div>\n",
       "</div>\n"
      ]
     },
     "metadata": {},
     "output_type": "display_data"
    },
    {
     "data": {
      "text/html": [
       "<div>\n",
       "  <span style=\"float: left;\">first at Feature.scala:120</span>\n",
       "</div>\n"
      ]
     },
     "metadata": {},
     "output_type": "display_data"
    },
    {
     "data": {
      "text/html": [
       "<div class=\"progress\">\n",
       "  <div class=\"progress-bar\" role=\"progressbar\" style=\"background-color: blue; width: 100%; word-wrap: normal; white-space: nowrap; text-align: center; color: white\" aria-valuenow=\"100\" aria-valuemin=\"0\" aria-valuemax=\"100\">\n",
       "    4 / 4\n",
       "  </div>\n",
       "  <div class=\"progress-bar\" role=\"progressbar\" style=\"background-color: red; width: 0%\" aria-valuenow=\"0\" aria-valuemin=\"0\" aria-valuemax=\"100\"></div>\n",
       "</div>\n"
      ]
     },
     "metadata": {},
     "output_type": "display_data"
    },
    {
     "data": {
      "text/html": [
       "<div>\n",
       "  <span style=\"float: left;\">first at Feature.scala:120</span>\n",
       "</div>\n"
      ]
     },
     "metadata": {},
     "output_type": "display_data"
    },
    {
     "data": {
      "text/html": [
       "<div class=\"progress\">\n",
       "  <div class=\"progress-bar\" role=\"progressbar\" style=\"background-color: blue; width: 100%; word-wrap: normal; white-space: nowrap; text-align: center; color: white\" aria-valuenow=\"100\" aria-valuemin=\"0\" aria-valuemax=\"100\">\n",
       "    20 / 20\n",
       "  </div>\n",
       "  <div class=\"progress-bar\" role=\"progressbar\" style=\"background-color: red; width: 0%\" aria-valuenow=\"0\" aria-valuemin=\"0\" aria-valuemax=\"100\"></div>\n",
       "</div>\n"
      ]
     },
     "metadata": {},
     "output_type": "display_data"
    },
    {
     "data": {
      "text/plain": [
       "\u001b[36mdocumentAssembler\u001b[39m: \u001b[32mDocumentAssembler\u001b[39m = document_56210cf5c4d1\n",
       "\u001b[36msentenceDetector\u001b[39m: \u001b[32mSentenceDetector\u001b[39m = SENTENCE_bd6a4a299202\n",
       "\u001b[36mtokenizer\u001b[39m: \u001b[32mTokenizer\u001b[39m = REGEX_TOKENIZER_af4d9a4105f0\n",
       "\u001b[36membeddings\u001b[39m: \u001b[32mWordEmbeddingsModel\u001b[39m = WORD_EMBEDDINGS_MODEL_48cffc8b9a76\n",
       "\u001b[36mner\u001b[39m: \u001b[32mNerDLModel\u001b[39m = NerDLModel_d4424c9af5f4\n",
       "\u001b[36mnerConverter\u001b[39m: \u001b[32mNerConverter\u001b[39m = NER_CONVERTER_871261986c76\n",
       "\u001b[36mpipeline\u001b[39m: \u001b[32mPipeline\u001b[39m = pipeline_30544d6d9eac"
      ]
     },
     "execution_count": 9,
     "metadata": {},
     "output_type": "execute_result"
    }
   ],
   "source": [
    "// https://medium.com/@saif1988/spark-nlp-walkthrough-powered-by-tensorflow-9965538663fd\n",
    "val documentAssembler = new DocumentAssembler()\n",
    "    .setInputCol(\"description\")\n",
    "    .setOutputCol(\"document\")\n",
    "\n",
    "val sentenceDetector = new SentenceDetector()\n",
    "    .setInputCols(\"document\")\n",
    "    .setOutputCol(\"sentence\")\n",
    "\n",
    "val tokenizer = new Tokenizer()\n",
    "    .setInputCols(Array(\"sentence\"))\n",
    "    .setOutputCol(\"token\")\n",
    "\n",
    "// Search for other pretrained models here\n",
    "// https://nlp.johnsnowlabs.com/docs/en/models\n",
    "val embeddings = WordEmbeddingsModel.pretrained(\"glove_100d\", \"en\")\n",
    "    .setInputCols(Array(\"sentence\", \"token\"))\n",
    "    .setOutputCol(\"embeddings\")\n",
    "\n",
    "val ner = NerDLModel.pretrained(\"ner_dl\")\n",
    "    .setInputCols(Array(\"sentence\", \"token\", \"embeddings\"))\n",
    "    .setOutputCol(\"ner\")\n",
    "\n",
    "val nerConverter = new NerConverter()\n",
    "    .setInputCols(Array(\"document\", \"token\", \"ner\"))\n",
    "    .setOutputCol(\"ner_chunk\")\n",
    "\n",
    "val pipeline = new Pipeline()\n",
    "    .setStages(Array(documentAssembler, sentenceDetector, tokenizer,\n",
    "                     embeddings, ner, nerConverter))"
   ]
  },
  {
   "cell_type": "markdown",
   "id": "tender-spank",
   "metadata": {},
   "source": [
    "### 2.3 Cargar los datos en un DataFrame\n",
    "\n",
    "El pipeline espera que el texto esté en una instancia DataFrame de Spark, que es como una tabla con filas (una para cada artículo) y columnas (sólo una, para el texto). Para poder usar DataFrames, se debe crear primero una sesión de Spark."
   ]
  },
  {
   "cell_type": "markdown",
   "id": "occasional-korea",
   "metadata": {},
   "source": [
    "Convertimos el texto en DataFrame, que tiene que tener una única columna con el mismo nombre que espera el modelo."
   ]
  },
  {
   "cell_type": "code",
   "execution_count": 10,
   "id": "departmental-crystal",
   "metadata": {
    "tags": []
   },
   "outputs": [
    {
     "data": {
      "text/plain": [
       "\u001b[36mdata\u001b[39m: \u001b[32mDataFrame\u001b[39m = [description: string]"
      ]
     },
     "execution_count": 10,
     "metadata": {},
     "output_type": "execute_result"
    }
   ],
   "source": [
    "val data = (rssText).toDF(input_col)"
   ]
  },
  {
   "cell_type": "markdown",
   "id": "twenty-breakfast",
   "metadata": {},
   "source": [
    "### 2.4 Aplicar el SparkML Pipeline a los datos"
   ]
  },
  {
   "cell_type": "code",
   "execution_count": 11,
   "id": "figured-dodge",
   "metadata": {},
   "outputs": [
    {
     "data": {
      "text/plain": [
       "\u001b[36mtrainedModel\u001b[39m: \u001b[32morg\u001b[39m.\u001b[32mapache\u001b[39m.\u001b[32mspark\u001b[39m.\u001b[32mml\u001b[39m.\u001b[32mPipelineModel\u001b[39m = pipeline_30544d6d9eac\n",
       "\u001b[36mresult\u001b[39m: \u001b[32mDataFrame\u001b[39m = [description: string, document: array<struct<annotatorType:string,begin:int,end:int,result:string,metadata:map<string,string>,embeddings:array<float>>> ... 5 more fields]"
      ]
     },
     "execution_count": 11,
     "metadata": {},
     "output_type": "execute_result"
    }
   ],
   "source": [
    "val trainedModel = pipeline.fit(data.limit(1))  // Use only first row, we only need the schema\n",
    "val result = trainedModel.transform(data)"
   ]
  },
  {
   "cell_type": "markdown",
   "id": "classified-screen",
   "metadata": {},
   "source": [
    "Vemos el resultado sólo para el primer artículo."
   ]
  },
  {
   "cell_type": "code",
   "execution_count": 12,
   "id": "portuguese-machinery",
   "metadata": {
    "tags": []
   },
   "outputs": [
    {
     "name": "stdout",
     "output_type": "stream",
     "text": [
      "+-------------------------------------------------------------------------------------------------------------------------------------------------------------------------------------------------------------------------------------------------------------------------------------------------------------------------------------------------------------------------------------------------+\n",
      "|ner_chunk                                                                                                                                                                                                                                                                                                                                                                                        |\n",
      "+-------------------------------------------------------------------------------------------------------------------------------------------------------------------------------------------------------------------------------------------------------------------------------------------------------------------------------------------------------------------------------------------------+\n",
      "|[[chunk, 0, 8, White Sox, [entity -> ORG, sentence -> 0, chunk -> 0], []], [chunk, 20, 31, Tim Anderson, [entity -> PER, sentence -> 0, chunk -> 1], []], [chunk, 82, 92, Celebrating, [entity -> MISC, sentence -> 0, chunk -> 2], []], [chunk, 94, 105, Tim Anderson, [entity -> PER, sentence -> 0, chunk -> 3], []], [chunk, 140, 143, FOCO, [entity -> ORG, sentence -> 0, chunk -> 4], []]]|\n",
      "+-------------------------------------------------------------------------------------------------------------------------------------------------------------------------------------------------------------------------------------------------------------------------------------------------------------------------------------------------------------------------------------------------+\n",
      "\n"
     ]
    }
   ],
   "source": [
    "// Prediction is not executed until we actually want to use the results\n",
    "result.select(\"ner_chunk\").limit(1).show(truncate=false)"
   ]
  },
  {
   "cell_type": "markdown",
   "id": "weekly-asthma",
   "metadata": {
    "tags": []
   },
   "source": [
    "## 3. Contar y ordenar las entidades"
   ]
  },
  {
   "cell_type": "code",
   "execution_count": 14,
   "id": "overhead-ireland",
   "metadata": {
    "tags": []
   },
   "outputs": [
    {
     "data": {
      "text/html": [
       "<div>\n",
       "  <span style=\"float: left;\">collect at cmd13.sc:10</span>\n",
       "</div>\n"
      ]
     },
     "metadata": {},
     "output_type": "display_data"
    },
    {
     "data": {
      "text/html": [
       "<div class=\"progress\">\n",
       "  <div class=\"progress-bar\" role=\"progressbar\" style=\"background-color: blue; width: 100%; word-wrap: normal; white-space: nowrap; text-align: center; color: white\" aria-valuenow=\"100\" aria-valuemin=\"0\" aria-valuemax=\"100\">\n",
       "    4 / 4\n",
       "  </div>\n",
       "  <div class=\"progress-bar\" role=\"progressbar\" style=\"background-color: red; width: 0%\" aria-valuenow=\"0\" aria-valuemin=\"0\" aria-valuemax=\"100\"></div>\n",
       "</div>\n"
      ]
     },
     "metadata": {},
     "output_type": "display_data"
    },
    {
     "data": {
      "text/html": [
       "<div>\n",
       "  <span style=\"float: left;\">collect at cmd13.sc:10</span>\n",
       "</div>\n"
      ]
     },
     "metadata": {},
     "output_type": "display_data"
    },
    {
     "data": {
      "text/html": [
       "<div class=\"progress\">\n",
       "  <div class=\"progress-bar\" role=\"progressbar\" style=\"background-color: blue; width: 100%; word-wrap: normal; white-space: nowrap; text-align: center; color: white\" aria-valuenow=\"100\" aria-valuemin=\"0\" aria-valuemax=\"100\">\n",
       "    200 / 200\n",
       "  </div>\n",
       "  <div class=\"progress-bar\" role=\"progressbar\" style=\"background-color: red; width: 0%\" aria-valuenow=\"0\" aria-valuemin=\"0\" aria-valuemax=\"100\"></div>\n",
       "</div>\n"
      ]
     },
     "metadata": {},
     "output_type": "display_data"
    },
    {
     "data": {
      "text/html": [
       "<div>\n",
       "  <span style=\"float: left;\">collect at cmd13.sc:10</span>\n",
       "</div>\n"
      ]
     },
     "metadata": {},
     "output_type": "display_data"
    },
    {
     "data": {
      "text/html": [
       "<div class=\"progress\">\n",
       "  <div class=\"progress-bar\" role=\"progressbar\" style=\"background-color: blue; width: 100%; word-wrap: normal; white-space: nowrap; text-align: center; color: white\" aria-valuenow=\"100\" aria-valuemin=\"0\" aria-valuemax=\"100\">\n",
       "    200 / 200\n",
       "  </div>\n",
       "  <div class=\"progress-bar\" role=\"progressbar\" style=\"background-color: red; width: 0%\" aria-valuenow=\"0\" aria-valuemin=\"0\" aria-valuemax=\"100\"></div>\n",
       "</div>\n"
      ]
     },
     "metadata": {},
     "output_type": "display_data"
    },
    {
     "data": {
      "text/html": [
       "<div>\n",
       "  <span style=\"float: left;\">collect at cmd13.sc:10</span>\n",
       "</div>\n"
      ]
     },
     "metadata": {},
     "output_type": "display_data"
    },
    {
     "data": {
      "text/html": [
       "<div class=\"progress\">\n",
       "  <div class=\"progress-bar\" role=\"progressbar\" style=\"background-color: blue; width: 100%; word-wrap: normal; white-space: nowrap; text-align: center; color: white\" aria-valuenow=\"100\" aria-valuemin=\"0\" aria-valuemax=\"100\">\n",
       "    7 / 7\n",
       "  </div>\n",
       "  <div class=\"progress-bar\" role=\"progressbar\" style=\"background-color: red; width: 0%\" aria-valuenow=\"0\" aria-valuemin=\"0\" aria-valuemax=\"100\"></div>\n",
       "</div>\n"
      ]
     },
     "metadata": {},
     "output_type": "display_data"
    },
    {
     "data": {
      "text/plain": [
       "\u001b[36msortedNEs\u001b[39m: \u001b[32mArray\u001b[39m[\u001b[32mRow\u001b[39m] = \u001b[33mArray\u001b[39m(\n",
       "  [Chicago White Sox,9],\n",
       "  [Chicago Cubs,6],\n",
       "  [Humboldt Park Gators,4],\n",
       "  [Pittsburgh Pirates,4],\n",
       "  [Masters,4],\n",
       "  [Kansas City Royals,4],\n",
       "  [COVID-19,4],\n",
       "  [Hideki Matsuyama,4],\n",
       "  [Japanese,3],\n",
       "  [Yermín Mercedes,3],\n",
       "  [White Sox,3],\n",
       "  [Chicago Blackhawks,3],\n",
       "  [Chicago Bulls,3],\n",
       "  [Chicago Cubs’,2],\n",
       "  [Kansas City Chiefs,2],\n",
       "  [Los Angeles Angels,2],\n",
       "  [Britt Reid,2],\n",
       "  [Bulls,2],\n",
       "  [Eddie George,2],\n",
       "  [Sweden,2],\n",
       "  [NBA,2],\n",
       "  [Zach Davies,2],\n",
       "  [Prince Philip’s,2],\n",
       "  [Tim Anderson,2],\n",
       "  [Pittsburgh,2],\n",
       "  [Pirates,2],\n",
       "  [Columbus Blue Jackets,2],\n",
       "  [Minnesota Timberwolves,2],\n",
       "  [Blackhawks,2],\n",
       "  [Craig Driver,2],\n",
       "  [NHL,2],\n",
       "  [Dexter Fowler,2],\n",
       "  [Royals,2],\n",
       "  [ACL,2],\n",
       "  [Timberwolves,2],\n",
       "  [Minneapolis The Minnesota Twins,1],\n",
       "  [Chicago Bulls’,1],\n",
       "  [Nationwide Arena,1],\n",
       "..."
      ]
     },
     "execution_count": 14,
     "metadata": {},
     "output_type": "execute_result"
    }
   ],
   "source": [
    "val sortedNEs = result.select(\n",
    "  F.explode(\n",
    "    F.arrays_zip(F.col(\"ner_chunk.result\"), F.col(\"ner_chunk.metadata\")))\n",
    "    .alias(\"entities\"))\n",
    "  .select(\n",
    "      F.expr(\"entities['0']\").alias(\"entity\"),\n",
    "      F.expr(\"entities['1'].entity\").alias(\"label\"))\n",
    "  .groupBy(\"entity\", \"label\").count().orderBy(F.desc(\"count\"))\n",
    "  .select(\"entity\", \"count\")\n",
    "  .collect()"
   ]
  },
  {
   "cell_type": "code",
   "execution_count": null,
   "id": "willing-costa",
   "metadata": {},
   "outputs": [],
   "source": []
  }
 ],
 "metadata": {
  "kernelspec": {
   "display_name": "Scala",
   "language": "scala",
   "name": "scala"
  },
  "language_info": {
   "codemirror_mode": "text/x-scala",
   "file_extension": ".scala",
   "mimetype": "text/x-scala",
   "name": "scala",
   "nbconvert_exporter": "script",
   "version": "2.11.12"
  }
 },
 "nbformat": 4,
 "nbformat_minor": 5
}
