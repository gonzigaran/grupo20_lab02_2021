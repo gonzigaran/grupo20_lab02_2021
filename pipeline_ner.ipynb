{
 "cells": [
  {
   "cell_type": "markdown",
   "id": "pleased-container",
   "metadata": {},
   "source": [
    "# Named Entity Recognition Pipeline\n",
    "\n",
    "El pipeline toma una URL de un feed en formato RSS, obtiene el título y descripción de los artículos en el feed, detecta las NER con un modelo pre-entrenado, y las muestra ordenadas por frecuencia de aparición.\n",
    "\n",
    "### Versiones\n",
    "Probado con:\n",
    "* Almond 0.6.0\n",
    "* Ammonite 1.6.7\n",
    "* Scala library version **2.11.12** -- Copyright 2002-2017, LAMP/EPFL\n",
    "* Java 1.8.0_282\n",
    "\n",
    "Para ver más información ir a (Help -> About Scala Kernel)"
   ]
  },
  {
   "cell_type": "markdown",
   "id": "compliant-nursing",
   "metadata": {
    "tags": []
   },
   "source": [
    "## 1. Obtener texto"
   ]
  },
  {
   "cell_type": "markdown",
   "id": "important-swaziland",
   "metadata": {},
   "source": [
    "### 1.1 Importar librerías"
   ]
  },
  {
   "cell_type": "code",
   "execution_count": 1,
   "id": "automated-russian",
   "metadata": {
    "tags": []
   },
   "outputs": [
    {
     "data": {
      "text/plain": [
       "\u001b[32mimport \u001b[39m\u001b[36m$ivy.$                              \n",
       "// \"org.scala-lang.modules\" %% \"scala-xml\" % \"1.3.0\"\n",
       "\u001b[39m\n",
       "\u001b[32mimport \u001b[39m\u001b[36m$ivy.$                                        \u001b[39m"
      ]
     },
     "execution_count": 1,
     "metadata": {},
     "output_type": "execute_result"
    }
   ],
   "source": [
    "// Equivalent of adding dependencies to maven or sbt files\n",
    "// For example, to add \"org.scalaj\" %% \"scalaj-http\" % \"2.4.2\" \n",
    "import $ivy.`org.scalaj::scalaj-http:2.4.2`\n",
    "// \"org.scala-lang.modules\" %% \"scala-xml\" % \"1.3.0\"\n",
    "import $ivy.`org.scala-lang.modules::scala-xml:1.3.0`"
   ]
  },
  {
   "cell_type": "code",
   "execution_count": 2,
   "id": "composed-porter",
   "metadata": {},
   "outputs": [
    {
     "data": {
      "text/plain": [
       "\u001b[32mimport \u001b[39m\u001b[36mscalaj.http.{Http, HttpResponse}\n",
       "\u001b[39m\n",
       "\u001b[32mimport \u001b[39m\u001b[36mscala.xml.XML\u001b[39m"
      ]
     },
     "execution_count": 2,
     "metadata": {},
     "output_type": "execute_result"
    }
   ],
   "source": [
    "import scalaj.http.{Http, HttpResponse}\n",
    "import scala.xml.XML"
   ]
  },
  {
   "cell_type": "markdown",
   "id": "interstate-painting",
   "metadata": {},
   "source": [
    "### 1.1 Obtener el texto del RSS Feed\n",
    "\n",
    "Realizamos una consulta HTTP, que nos devuelve una instancia de HTTPResponse. Dentro del atributo `body` de la HTTPResponse, se encuentra el texto del feed en formato XML. Luego, se parsea el XML para extraer los campos `title` y `description`."
   ]
  },
  {
   "cell_type": "code",
   "execution_count": 3,
   "id": "e28b8389-4886-488b-905b-847edc7522fb",
   "metadata": {},
   "outputs": [
    {
     "data": {
      "text/plain": [
       "defined \u001b[32mclass\u001b[39m \u001b[36mParser\u001b[39m"
      ]
     },
     "execution_count": 3,
     "metadata": {},
     "output_type": "execute_result"
    }
   ],
   "source": [
    "class Parser() {\n",
    "    // Get the xml content\n",
    "    def openFile(url: String): String = {\n",
    "        try {\n",
    "            var response = Http(url)\n",
    "          .timeout(connTimeoutMs = 2000, readTimeoutMs = 5000)\n",
    "          .asString\n",
    "            response.body\n",
    "        } catch {\n",
    "            case e => println(\"Error in http response\")\n",
    "            \"<rss></rss>\"\n",
    "        }\n",
    "        \n",
    "    }\n",
    "    // Extract text \n",
    "    def processText(xmlString: String): collection.immutable.Seq[String] = {\n",
    "        // convert the `String` to a `scala.xml.Elem`\n",
    "        val xml = XML.loadString(xmlString)\n",
    "        // Extract text from title and description\n",
    "        (xml \\\\ \"item\").map { item =>\n",
    "            ((item \\ \"title\").text ++ \" \" ++ (item \\ \"description\").text)\n",
    "        }\n",
    "    }\n",
    "    \n",
    "}"
   ]
  },
  {
   "cell_type": "code",
   "execution_count": 4,
   "id": "a6466474-b820-4a1f-a4ec-48ba52014a56",
   "metadata": {},
   "outputs": [
    {
     "data": {
      "text/plain": [
       "\u001b[36mparser\u001b[39m: \u001b[32mParser\u001b[39m = ammonite.$sess.cmd2$Helper$Parser@172dda9d"
      ]
     },
     "execution_count": 4,
     "metadata": {},
     "output_type": "execute_result"
    }
   ],
   "source": [
    "val parser = new Parser"
   ]
  },
  {
   "cell_type": "code",
   "execution_count": 5,
   "id": "acb82a7d-1414-4607-b099-baa2e9122f0d",
   "metadata": {},
   "outputs": [
    {
     "data": {
      "text/plain": [
       "\u001b[36murl\u001b[39m: \u001b[32mString\u001b[39m = \u001b[32m\"https://www.chicagotribune.com/arcio/rss/category/sports/?query=display_date:[now-2d+TO+now]&sort=display_date:desc\"\u001b[39m\n",
       "\u001b[36mxmlString\u001b[39m: \u001b[32mString\u001b[39m = \u001b[32m\"\"\"<?xml version=\"1.0\" encoding=\"utf-8\"?>\n",
       "<rss version=\"2.0\" xmlns:atom=\"http://www.w3.org/2005/Atom\" xmlns:content=\"http://purl.org/rss/1.0/modules/content/\" xmlns:dc=\"http://purl.org/dc/elements/1.1/\" xmlns:media=\"http://search.yahoo.com/mrss/\" xmlns:sy=\"http://purl.org/rss/1.0/modules/syndication/\"><channel><title>Chicago Tribune</title><link>https://www.chicagotribune.com</link><language>en-US</language><copyright>© 2021 Chicago Tribune</copyright><atom:link href=\"https://www.chicagotribune.com/arcio/rss/category/sports/?query=display_date:%5Bnow-2d+TO+now%5D&amp;sort=display_date:desc\" rel=\"self\" type=\"application/rss+xml\"/><description>Chicago Tribune News Feed</description><lastBuildDate>Sun, 23 May 2021 02:10:38 +0000</lastBuildDate><ttl>1</ttl><sy:updatePeriod>hourly</sy:updatePeriod><sy:updateFrequency>1</sy:updateFrequency><item><title>Chicago Red Stars fans return to SeatGeek Stadium for the 1st time since a historic 2019 season: ‘You just can’t replicate the atmosphere of a home game’</title><link>https://www.chicagotribune.com/sports/soccer/ct-chicago-red-stars-nj-ny-gotham-fc-20210523-gzd75vb7zbebvod5lsp7s5fyne-story.html#ed=rss_www.chicagotribune.com/arcio/rss/category/sports/</link><guid isPermaLink=\"true\">https://www.chicagotribune.com/sports/soccer/ct-chicago-red-stars-nj-ny-gotham-fc-20210523-gzd75vb7zbebvod5lsp7s5fyne-story.html</guid><dc:creator>Jeremy Mikula</dc:creator><pubDate>Sun, 23 May 2021 01:25:44 +0000</pubDate><description>A lot has changed since the Chicago Red Stars last had fans for a match at SeatGeek Stadium in Bridgeview. But for the first time in a long time, Saturday night against NJ/NY Gotham FC was a return to normalcy.</description><content:encoded><![CDATA[<p>A lot has changed since the Chicago Red Stars last had fans for a match at SeatGeek Stadium in Bridgeview. But for the first time in a long time, Saturday night against NJ/NY Gotham FC was a return to normalcy.</p>]]></content:encoded><media:content type=\"image/jpeg\" url=\"https://www.chicagotribune.com/resizer/GhzAigWy-iK5rYXj1devPwxTM3o=/cloudfront-us-east-1.images.arcpublishing.com/tronc/3WMXCWNKMVFZDOXFOHEP6AWGPU.jpg\"><media:description type=\"plain\"><![CDATA[More than 17,000 fans attend the Chicago Red Stars game against the North Carolina Courage at SeatGeek Stadium on Sunday, July 21, 2019, in Bridgeview.]]></media:description><media:credit role=\"author\" scheme=\"urn:ebu\"><![CDATA[Stacey Wescott / Chicago Tribune]]></media:credit></media:content></item><item><title>Chicago Fire get their 1st win of the season 1-0 over Inter Miami</title><link>https://www.chicagotribune.com/sports/soccer/ct-chicago-fire-inter-miami-20210523-6d5osxc6fjfetnyqrepdatdqyi-story.html#ed=rss_www.chicagotribune.com/arcio/rss/category/sports/</link><guid isPermaLink=\"true\">https://www.chicagotribune.com/sports/soccer/ct-chicago-fire-inter-miami-20210523-6d5osxc6fjfetnyqrepdatdqyi-story.html</guid><dc:creator>Associated Press Staff</dc:creator><pubDate>Sun, 23 May 2021 00:54:53 +0000</pubDate><description>Luka Stojanović scored on a free kick in the 69\u001b[39m...\n",
       "\u001b[36mrssText\u001b[39m: \u001b[32mcollection\u001b[39m.\u001b[32mimmutable\u001b[39m.\u001b[32mSeq\u001b[39m[\u001b[32mString\u001b[39m] = \u001b[33mList\u001b[39m(\n",
       "  \u001b[32m\"Chicago Red Stars fans return to SeatGeek Stadium for the 1st time since a historic 2019 season: \\u2018You just can\\u2019t replicate the atmosphere of a home game\\u2019 A lot has changed since the Chicago Red Stars last had fans for a match at SeatGeek Stadium in Bridgeview. But for the first time in a long time, Saturday night against NJ/NY Gotham FC was a return to normalcy.\"\u001b[39m,\n",
       "  \u001b[32m\"Chicago Fire get their 1st win of the season 1-0 over Inter Miami Luka Stojanovi\\u0107 scored on a free kick in the 69th minute and the Chicago Fire beat Inter Miami 1-0 on Saturday night at Soldier Field.\"\u001b[39m,\n",
       "  \u001b[32m\"Phil Mickelson, 50, takes a 1-shot lead into the final round of the PGA Championship, seeking to become the oldest major champion Phil Mickelson will carry a one-shot lead over Brooks Koepka into Sunday\\u2019s final round of the PGA Championship as he tries for his sixth career major and second PGA title. At 50 years, 11 months, Mickelson would be the oldest major champion by more than 2\\u00bd years.\"\u001b[39m,\n",
       "  \u001b[32m\"Column: Joc Pederson is filling in fine as the Chicago Cubs leadoff man. His new mustache, alas, is another story. Joc Pederson followed in a long line of new Chicago Cubs players who got off to slow starts on the North Side. But now he's hitting in the leadoff spot and creating a stir with his new mustache.\"\u001b[39m,\n",
       "  \u001b[32m\"Chicago White Sox lose 7-0 to New York Yankees as they ground into 4 double plays and strike out 10 times: \\u2018It\\u2019s been two rough days\\u2019 Chicago White Sox starter Dylan Cease allowed five runs on five hits with six strikeouts and four walks in 4\\u2153 innings in a 7-0 loss to the New York Yankees Saturday at Yankee Stadium. The Sox hit into four double plays.\"\u001b[39m,\n",
       "  \u001b[32m\"John Tavares will likely miss the rest of the Toronto Maple Leafs\\u2019 first-round series against the Montreal Canadiens after sustaining a concussion and knee injury Toronto captain John Tavares will probably miss the rest of the first-round series against the Montreal Canadiens after sustaining a concussion and a knee injury during Game 1.\"\u001b[39m,\n",
       "  \u001b[32m\"NBA allows fully vaccinated head coaches to go without masks on the sidelines during playoff games Just in time for the playoffs, the NBA told its head coaches Saturday they may work without masks during games if they have been fully vaccinated.\"\u001b[39m,\n",
       "  \u001b[32m\"Chicago White Sox\\u2019s Jos\\u00e9 Abreu reflects on his dash to the plate, the injury that sidelined him and playing his 1,000th career game: \\u2018I\\u2019m just grateful\\u2019 After missing three games because of left ankle inflammation, Chicago White Sox first baseman Jos\\u00e9 Abreu returned to the lineup Friday. It was his 1,000th career major-league game.\"\u001b[39m,\n",
       "  \u001b[32m\"The Chicago Sky will make their home debut with Candace Parker tomorrow. Here\u001b[39m..."
      ]
     },
     "execution_count": 5,
     "metadata": {},
     "output_type": "execute_result"
    }
   ],
   "source": [
    "val url = \"https://www.chicagotribune.com/arcio/rss/category/sports/?query=display_date:[now-2d+TO+now]&sort=display_date:desc\"\n",
    "val xmlString = parser.openFile(url)\n",
    "val rssText = parser.processText(xmlString)"
   ]
  },
  {
   "cell_type": "markdown",
   "id": "initial-gambling",
   "metadata": {},
   "source": [
    "## 2. Detectar las entidades nombradas"
   ]
  },
  {
   "cell_type": "markdown",
   "id": "portable-tender",
   "metadata": {},
   "source": [
    "### 2.1 Crear el modelo\n",
    "\n",
    "El **modelo** es sólo la función `getNEs`, que recibe una lista de textos.\n",
    "Para cada texto, se separa las palabras del texto usando los espacios, y considera que es una entidad nombrada si empieza con mayúscula."
   ]
  },
  {
   "cell_type": "markdown",
   "id": "charitable-experiment",
   "metadata": {},
   "source": [
    "Este código lista los signos de puntuación y algunas palabras comunes del inglés que se van a sacar del texto."
   ]
  },
  {
   "cell_type": "code",
   "execution_count": 6,
   "id": "experimental-flight",
   "metadata": {
    "tags": []
   },
   "outputs": [
    {
     "data": {
      "text/plain": [
       "\u001b[36mSTOPWORDS\u001b[39m: \u001b[32mSeq\u001b[39m[\u001b[32mString\u001b[39m] = \u001b[33mList\u001b[39m(\n",
       "  \u001b[32m\"i\"\u001b[39m,\n",
       "  \u001b[32m\"me\"\u001b[39m,\n",
       "  \u001b[32m\"my\"\u001b[39m,\n",
       "  \u001b[32m\"myself\"\u001b[39m,\n",
       "  \u001b[32m\"we\"\u001b[39m,\n",
       "  \u001b[32m\"our\"\u001b[39m,\n",
       "  \u001b[32m\"ours\"\u001b[39m,\n",
       "  \u001b[32m\"ourselves\"\u001b[39m,\n",
       "  \u001b[32m\"you\"\u001b[39m,\n",
       "  \u001b[32m\"yours\"\u001b[39m,\n",
       "  \u001b[32m\"yourself\"\u001b[39m,\n",
       "  \u001b[32m\"yourselves\"\u001b[39m,\n",
       "  \u001b[32m\"he\"\u001b[39m,\n",
       "  \u001b[32m\"him\"\u001b[39m,\n",
       "  \u001b[32m\"his\"\u001b[39m,\n",
       "  \u001b[32m\"himself\"\u001b[39m,\n",
       "  \u001b[32m\"she\"\u001b[39m,\n",
       "  \u001b[32m\"her\"\u001b[39m,\n",
       "  \u001b[32m\"hers\"\u001b[39m,\n",
       "  \u001b[32m\"herself\"\u001b[39m,\n",
       "  \u001b[32m\"it\"\u001b[39m,\n",
       "  \u001b[32m\"its\"\u001b[39m,\n",
       "  \u001b[32m\"itself\"\u001b[39m,\n",
       "  \u001b[32m\"they\"\u001b[39m,\n",
       "  \u001b[32m\"them\"\u001b[39m,\n",
       "  \u001b[32m\"your\"\u001b[39m,\n",
       "  \u001b[32m\"their\"\u001b[39m,\n",
       "  \u001b[32m\"theirs\"\u001b[39m,\n",
       "  \u001b[32m\"themselves\"\u001b[39m,\n",
       "  \u001b[32m\"what\"\u001b[39m,\n",
       "  \u001b[32m\"which\"\u001b[39m,\n",
       "  \u001b[32m\"who\"\u001b[39m,\n",
       "  \u001b[32m\"whom\"\u001b[39m,\n",
       "  \u001b[32m\"this\"\u001b[39m,\n",
       "  \u001b[32m\"that\"\u001b[39m,\n",
       "  \u001b[32m\"these\"\u001b[39m,\n",
       "  \u001b[32m\"those\"\u001b[39m,\n",
       "  \u001b[32m\"am\"\u001b[39m,\n",
       "..."
      ]
     },
     "execution_count": 6,
     "metadata": {},
     "output_type": "execute_result"
    }
   ],
   "source": [
    "val STOPWORDS = Seq (\n",
    "    \"i\", \"me\", \"my\", \"myself\", \"we\", \"our\", \"ours\", \"ourselves\", \"you\",\n",
    "    \"yours\", \"yourself\", \"yourselves\", \"he\", \"him\", \"his\", \"himself\", \"she\",\n",
    "    \"her\", \"hers\", \"herself\", \"it\", \"its\", \"itself\", \"they\", \"them\", \"your\",\n",
    "    \"their\", \"theirs\", \"themselves\", \"what\", \"which\", \"who\", \"whom\",\n",
    "    \"this\", \"that\", \"these\", \"those\", \"am\", \"is\", \"are\", \"was\", \"were\",\n",
    "    \"be\", \"been\", \"being\", \"have\", \"has\", \"had\", \"having\", \"do\", \"does\",\n",
    "    \"did\", \"doing\", \"a\", \"an\", \"the\", \"and\", \"but\", \"if\", \"or\",\n",
    "    \"because\", \"as\", \"until\", \"while\", \"of\", \"at\", \"by\", \"for\", \"with\",\n",
    "    \"about\", \"against\", \"between\", \"into\", \"through\", \"during\", \"before\",\n",
    "    \"after\", \"above\", \"below\", \"to\", \"from\", \"up\", \"down\", \"in\", \"out\",\n",
    "    \"off\", \"over\", \"under\", \"again\", \"further\", \"then\", \"once\", \"here\",\n",
    "    \"there\", \"when\", \"where\", \"why\", \"how\", \"all\", \"any\", \"both\", \"each\",\n",
    "    \"few\", \"more\", \"most\", \"other\", \"some\", \"such\", \"no\", \"nor\", \"not\",\n",
    "    \"only\", \"own\", \"same\", \"so\", \"than\", \"too\", \"very\", \"s\", \"t\", \"can\",\n",
    "    \"will\", \"just\", \"don\", \"should\", \"now\", \"on\",\n",
    "    // Contractions without '\n",
    "    \"im\", \"ive\", \"id\", \"Youre\", \"youd\", \"youve\",\n",
    "    \"hes\", \"hed\", \"shes\", \"shed\", \"itd\", \"were\", \"wed\", \"weve\",\n",
    "    \"theyre\", \"theyd\", \"theyve\",\n",
    "    \"shouldnt\", \"couldnt\", \"musnt\", \"cant\", \"wont\",\n",
    "    // Common uppercase words\n",
    "    \"hi\", \"hello\"\n",
    ")"
   ]
  },
  {
   "cell_type": "code",
   "execution_count": 7,
   "id": "042f75de-816f-460f-8669-30318f5d3f12",
   "metadata": {},
   "outputs": [
    {
     "data": {
      "text/plain": [
       "defined \u001b[32mclass\u001b[39m \u001b[36mNERModel\u001b[39m"
      ]
     },
     "execution_count": 7,
     "metadata": {},
     "output_type": "execute_result"
    }
   ],
   "source": [
    "class NERModel(STOPWORDS: Seq[String]) {\n",
    "    \n",
    "    val punctuationSymbols = \".,()!?;:'`´\\n\"\n",
    "    val punctuationRegex = \"\\\\\" + punctuationSymbols.split(\"\").mkString(\"|\\\\\")\n",
    "    \n",
    "    // Extract Named Entitis\n",
    "    def getNEsSingle(text: String): Seq[String] = {\n",
    "      text.replaceAll(punctuationRegex, \"\").split(\" \")\n",
    "        .filter { word:String => word.length > 1 &&\n",
    "                  Character.isUpperCase(word.charAt(0)) &&\n",
    "                  !STOPWORDS.contains(word.toLowerCase) }.toSeq\n",
    "    }\n",
    "    def getNEs(textList: Seq[String]): Seq[Seq[String]] = {\n",
    "        textList.map(getNEsSingle)\n",
    "    }\n",
    "    \n",
    "    // Counts Named Entities\n",
    "    def countNEs(result: Seq[Seq[String]]): Map[String, Int] = {\n",
    "        result.flatten.foldLeft(Map.empty[String, Int]) {\n",
    "         (count, word) => count + (word -> (count.getOrElse(word, 0) + 1)) }\n",
    "    }\n",
    "    \n",
    "    // Sorts Named Entities\n",
    "    def sortNEs(counts: Map[String, Int]): List[(String, Int)] = {\n",
    "        counts.toList.sortBy(_._2)(Ordering[Int].reverse)\n",
    "    } \n",
    "}"
   ]
  },
  {
   "cell_type": "code",
   "execution_count": 8,
   "id": "aquatic-preservation",
   "metadata": {
    "tags": []
   },
   "outputs": [
    {
     "data": {
      "text/plain": [
       "\u001b[36mmodel\u001b[39m: \u001b[32mNERModel\u001b[39m = ammonite.$sess.cmd6$Helper$NERModel@20f05553"
      ]
     },
     "execution_count": 8,
     "metadata": {},
     "output_type": "execute_result"
    }
   ],
   "source": [
    "val model = new NERModel(STOPWORDS)"
   ]
  },
  {
   "cell_type": "markdown",
   "id": "victorian-moderator",
   "metadata": {},
   "source": [
    "### 2.2 Aplicar el \"Modelo\" a los datos"
   ]
  },
  {
   "cell_type": "code",
   "execution_count": 9,
   "id": "educated-bronze",
   "metadata": {
    "tags": []
   },
   "outputs": [
    {
     "data": {
      "text/plain": [
       "\u001b[36mresult\u001b[39m: \u001b[32mSeq\u001b[39m[\u001b[32mSeq\u001b[39m[\u001b[32mString\u001b[39m]] = \u001b[33mList\u001b[39m(\n",
       "  \u001b[33mArrayBuffer\u001b[39m(\n",
       "    \u001b[32m\"Chicago\"\u001b[39m,\n",
       "    \u001b[32m\"Red\"\u001b[39m,\n",
       "    \u001b[32m\"Stars\"\u001b[39m,\n",
       "    \u001b[32m\"SeatGeek\"\u001b[39m,\n",
       "    \u001b[32m\"Stadium\"\u001b[39m,\n",
       "    \u001b[32m\"Chicago\"\u001b[39m,\n",
       "    \u001b[32m\"Red\"\u001b[39m,\n",
       "    \u001b[32m\"Stars\"\u001b[39m,\n",
       "    \u001b[32m\"SeatGeek\"\u001b[39m,\n",
       "    \u001b[32m\"Stadium\"\u001b[39m,\n",
       "    \u001b[32m\"Bridgeview\"\u001b[39m,\n",
       "    \u001b[32m\"Saturday\"\u001b[39m,\n",
       "    \u001b[32m\"NJ/NY\"\u001b[39m,\n",
       "    \u001b[32m\"Gotham\"\u001b[39m,\n",
       "    \u001b[32m\"FC\"\u001b[39m\n",
       "  ),\n",
       "  \u001b[33mArrayBuffer\u001b[39m(\n",
       "    \u001b[32m\"Chicago\"\u001b[39m,\n",
       "    \u001b[32m\"Fire\"\u001b[39m,\n",
       "    \u001b[32m\"Inter\"\u001b[39m,\n",
       "    \u001b[32m\"Miami\"\u001b[39m,\n",
       "    \u001b[32m\"Luka\"\u001b[39m,\n",
       "    \u001b[32m\"Stojanovi\\u0107\"\u001b[39m,\n",
       "    \u001b[32m\"Chicago\"\u001b[39m,\n",
       "    \u001b[32m\"Fire\"\u001b[39m,\n",
       "    \u001b[32m\"Inter\"\u001b[39m,\n",
       "    \u001b[32m\"Miami\"\u001b[39m,\n",
       "    \u001b[32m\"Saturday\"\u001b[39m,\n",
       "    \u001b[32m\"Soldier\"\u001b[39m,\n",
       "    \u001b[32m\"Field\"\u001b[39m\n",
       "  ),\n",
       "  \u001b[33mArrayBuffer\u001b[39m(\n",
       "    \u001b[32m\"Phil\"\u001b[39m,\n",
       "    \u001b[32m\"Mickelson\"\u001b[39m,\n",
       "    \u001b[32m\"PGA\"\u001b[39m,\n",
       "    \u001b[32m\"Championship\"\u001b[39m,\n",
       "    \u001b[32m\"Phil\"\u001b[39m,\n",
       "..."
      ]
     },
     "execution_count": 9,
     "metadata": {},
     "output_type": "execute_result"
    }
   ],
   "source": [
    "val result = model.getNEs(rssText)"
   ]
  },
  {
   "cell_type": "markdown",
   "id": "located-cookbook",
   "metadata": {
    "tags": []
   },
   "source": [
    "## 3. Contar y ordenar las entidades\n",
    "\n",
    "Concatenar todas las listas, contar cada Named Entity, y luego ordernar por frecuencia"
   ]
  },
  {
   "cell_type": "code",
   "execution_count": 10,
   "id": "dynamic-nickel",
   "metadata": {
    "tags": []
   },
   "outputs": [
    {
     "data": {
      "text/plain": [
       "\u001b[36mcounts\u001b[39m: \u001b[32mMap\u001b[39m[\u001b[32mString\u001b[39m, \u001b[32mInt\u001b[39m] = \u001b[33mMap\u001b[39m(\n",
       "  \u001b[32m\"Much\"\u001b[39m -> \u001b[32m1\u001b[39m,\n",
       "  \u001b[32m\"Gleyber\"\u001b[39m -> \u001b[32m1\u001b[39m,\n",
       "  \u001b[32m\"Mercedes\"\u001b[39m -> \u001b[32m2\u001b[39m,\n",
       "  \u001b[32m\"Pederson\"\u001b[39m -> \u001b[32m2\u001b[39m,\n",
       "  \u001b[32m\"Parker\"\u001b[39m -> \u001b[32m2\u001b[39m,\n",
       "  \u001b[32m\"Bridgeview\"\u001b[39m -> \u001b[32m1\u001b[39m,\n",
       "  \u001b[32m\"John\"\u001b[39m -> \u001b[32m2\u001b[39m,\n",
       "  \u001b[32m\"Yerm\\u00edn\"\u001b[39m -> \u001b[32m2\u001b[39m,\n",
       "  \u001b[32m\"Foster\\u2019s\"\u001b[39m -> \u001b[32m1\u001b[39m,\n",
       "  \u001b[32m\"Canadiens\"\u001b[39m -> \u001b[32m2\u001b[39m,\n",
       "  \u001b[32m\"Column\"\u001b[39m -> \u001b[32m1\u001b[39m,\n",
       "  \u001b[32m\"Yankee\"\u001b[39m -> \u001b[32m2\u001b[39m,\n",
       "  \u001b[32m\"Sky\"\u001b[39m -> \u001b[32m4\u001b[39m,\n",
       "  \u001b[32m\"Mariners\"\u001b[39m -> \u001b[32m2\u001b[39m,\n",
       "  \u001b[32m\"Rod\\u00f3n\"\u001b[39m -> \u001b[32m1\u001b[39m,\n",
       "  \u001b[32m\"Skys\"\u001b[39m -> \u001b[32m1\u001b[39m,\n",
       "  \u001b[32m\"Sunday\\u2019s\"\u001b[39m -> \u001b[32m1\u001b[39m,\n",
       "  \u001b[32m\"Louis\"\u001b[39m -> \u001b[32m2\u001b[39m,\n",
       "  \u001b[32m\"Cease\"\u001b[39m -> \u001b[32m1\u001b[39m,\n",
       "  \u001b[32m\"FC\"\u001b[39m -> \u001b[32m1\u001b[39m,\n",
       "  \u001b[32m\"Foster\"\u001b[39m -> \u001b[32m1\u001b[39m,\n",
       "  \u001b[32m\"Olympic\"\u001b[39m -> \u001b[32m1\u001b[39m,\n",
       "  \u001b[32m\"Sox\\u2019s\"\u001b[39m -> \u001b[32m1\u001b[39m,\n",
       "  \u001b[32m\"Rod\\u00f3n\\u2019s\"\u001b[39m -> \u001b[32m1\u001b[39m,\n",
       "  \u001b[32m\"Kyle\"\u001b[39m -> \u001b[32m1\u001b[39m,\n",
       "  \u001b[32m\"MVP\"\u001b[39m -> \u001b[32m1\u001b[39m,\n",
       "  \u001b[32m\"IOC\"\u001b[39m -> \u001b[32m1\u001b[39m,\n",
       "  \u001b[32m\"Mickelson\"\u001b[39m -> \u001b[32m3\u001b[39m,\n",
       "  \u001b[32m\"Matt\"\u001b[39m -> \u001b[32m2\u001b[39m,\n",
       "  \u001b[32m\"Maple\"\u001b[39m -> \u001b[32m1\u001b[39m,\n",
       "  \u001b[32m\"Side\"\u001b[39m -> \u001b[32m1\u001b[39m,\n",
       "  \u001b[32m\"Red\"\u001b[39m -> \u001b[32m2\u001b[39m,\n",
       "  \u001b[32m\"Tavares\"\u001b[39m -> \u001b[32m2\u001b[39m,\n",
       "  \u001b[32m\"What\\u2019s\"\u001b[39m -> \u001b[32m1\u001b[39m,\n",
       "  \u001b[32m\"White\"\u001b[39m -> \u001b[32m11\u001b[39m,\n",
       "  \u001b[32m\"QB\"\u001b[39m -> \u001b[32m1\u001b[39m,\n",
       "  \u001b[32m\"Stadium\"\u001b[39m -> \u001b[32m5\u001b[39m,\n",
       "  \u001b[32m\"Underwood\\u2019s\"\u001b[39m -> \u001b[32m1\u001b[39m,\n",
       "...\n",
       "\u001b[36msortedNEs\u001b[39m: \u001b[32mList\u001b[39m[(\u001b[32mString\u001b[39m, \u001b[32mInt\u001b[39m)] = \u001b[33mList\u001b[39m(\n",
       "  (\u001b[32m\"Chicago\"\u001b[39m, \u001b[32m29\u001b[39m),\n",
       "  (\u001b[32m\"Sox\"\u001b[39m, \u001b[32m12\u001b[39m),\n",
       "  (\u001b[32m\"White\"\u001b[39m, \u001b[32m11\u001b[39m),\n",
       "  (\u001b[32m\"Friday\"\u001b[39m, \u001b[32m7\u001b[39m),\n",
       "  (\u001b[32m\"Cubs\"\u001b[39m, \u001b[32m7\u001b[39m),\n",
       "  (\u001b[32m\"Stadium\"\u001b[39m, \u001b[32m5\u001b[39m),\n",
       "  (\u001b[32m\"York\"\u001b[39m, \u001b[32m5\u001b[39m),\n",
       "  (\u001b[32m\"New\"\u001b[39m, \u001b[32m5\u001b[39m),\n",
       "  (\u001b[32m\"Sky\"\u001b[39m, \u001b[32m4\u001b[39m),\n",
       "  (\u001b[32m\"Saturday\"\u001b[39m, \u001b[32m4\u001b[39m),\n",
       "  (\u001b[32m\"Bears\"\u001b[39m, \u001b[32m4\u001b[39m),\n",
       "  (\u001b[32m\"Yankees\"\u001b[39m, \u001b[32m4\u001b[39m),\n",
       "  (\u001b[32m\"Mickelson\"\u001b[39m, \u001b[32m3\u001b[39m),\n",
       "  (\u001b[32m\"PGA\"\u001b[39m, \u001b[32m3\u001b[39m),\n",
       "  (\u001b[32m\"Anderson\"\u001b[39m, \u001b[32m3\u001b[39m),\n",
       "  (\u001b[32m\"Mercedes\"\u001b[39m, \u001b[32m2\u001b[39m),\n",
       "  (\u001b[32m\"Pederson\"\u001b[39m, \u001b[32m2\u001b[39m),\n",
       "  (\u001b[32m\"Parker\"\u001b[39m, \u001b[32m2\u001b[39m),\n",
       "  (\u001b[32m\"John\"\u001b[39m, \u001b[32m2\u001b[39m),\n",
       "  (\u001b[32m\"Yerm\\u00edn\"\u001b[39m, \u001b[32m2\u001b[39m),\n",
       "  (\u001b[32m\"Canadiens\"\u001b[39m, \u001b[32m2\u001b[39m),\n",
       "  (\u001b[32m\"Yankee\"\u001b[39m, \u001b[32m2\u001b[39m),\n",
       "  (\u001b[32m\"Mariners\"\u001b[39m, \u001b[32m2\u001b[39m),\n",
       "  (\u001b[32m\"Louis\"\u001b[39m, \u001b[32m2\u001b[39m),\n",
       "  (\u001b[32m\"Matt\"\u001b[39m, \u001b[32m2\u001b[39m),\n",
       "  (\u001b[32m\"Red\"\u001b[39m, \u001b[32m2\u001b[39m),\n",
       "  (\u001b[32m\"Tavares\"\u001b[39m, \u001b[32m2\u001b[39m),\n",
       "  (\u001b[32m\"Jos\\u00e9\"\u001b[39m, \u001b[32m2\u001b[39m),\n",
       "  (\u001b[32m\"Montreal\"\u001b[39m, \u001b[32m2\u001b[39m),\n",
       "  (\u001b[32m\"Gonzaga\"\u001b[39m, \u001b[32m2\u001b[39m),\n",
       "  (\u001b[32m\"Jr\"\u001b[39m, \u001b[32m2\u001b[39m),\n",
       "  (\u001b[32m\"Russa\"\u001b[39m, \u001b[32m2\u001b[39m),\n",
       "  (\u001b[32m\"Candace\"\u001b[39m, \u001b[32m2\u001b[39m),\n",
       "  (\u001b[32m\"Championship\"\u001b[39m, \u001b[32m2\u001b[39m),\n",
       "  (\u001b[32m\"Carlos\"\u001b[39m, \u001b[32m2\u001b[39m),\n",
       "  (\u001b[32m\"Joc\"\u001b[39m, \u001b[32m2\u001b[39m),\n",
       "  (\u001b[32m\"WNBA\"\u001b[39m, \u001b[32m2\u001b[39m),\n",
       "  (\u001b[32m\"Inter\"\u001b[39m, \u001b[32m2\u001b[39m),\n",
       "..."
      ]
     },
     "execution_count": 10,
     "metadata": {},
     "output_type": "execute_result"
    }
   ],
   "source": [
    "val counts = model.countNEs(result)\n",
    "val sortedNEs = model.sortNEs(counts)"
   ]
  },
  {
   "cell_type": "code",
   "execution_count": null,
   "id": "racial-learning",
   "metadata": {},
   "outputs": [],
   "source": []
  }
 ],
 "metadata": {
  "kernelspec": {
   "display_name": "Scala",
   "language": "scala",
   "name": "scala"
  },
  "language_info": {
   "codemirror_mode": "text/x-scala",
   "file_extension": ".scala",
   "mimetype": "text/x-scala",
   "name": "scala",
   "nbconvert_exporter": "script",
   "version": "2.11.12"
  }
 },
 "nbformat": 4,
 "nbformat_minor": 5
}
