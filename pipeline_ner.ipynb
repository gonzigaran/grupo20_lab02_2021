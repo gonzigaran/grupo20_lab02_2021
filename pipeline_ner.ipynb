{
 "cells": [
  {
   "cell_type": "markdown",
   "id": "pleased-container",
   "metadata": {},
   "source": [
    "# Named Entity Recognition Pipeline\n",
    "\n",
    "El pipeline toma una URL de un feed en formato RSS, obtiene el título y descripción de los artículos en el feed, detecta las NER con un modelo pre-entrenado, y las muestra ordenadas por frecuencia de aparición.\n",
    "\n",
    "### Versiones\n",
    "Probado con:\n",
    "* Almond 0.6.0\n",
    "* Ammonite 1.6.7\n",
    "* Scala library version **2.11.12** -- Copyright 2002-2017, LAMP/EPFL\n",
    "* Java 1.8.0_282\n",
    "\n",
    "Para ver más información ir a (Help -> About Scala Kernel)"
   ]
  },
  {
   "cell_type": "markdown",
   "id": "compliant-nursing",
   "metadata": {
    "tags": []
   },
   "source": [
    "## 1. Obtener texto"
   ]
  },
  {
   "cell_type": "markdown",
   "id": "important-swaziland",
   "metadata": {},
   "source": [
    "### 1.1 Importar librerías"
   ]
  },
  {
   "cell_type": "code",
   "execution_count": 22,
   "id": "automated-russian",
   "metadata": {
    "tags": []
   },
   "outputs": [
    {
     "data": {
      "text/plain": [
       "\u001b[32mimport \u001b[39m\u001b[36m$ivy.$                              \n",
       "// \"org.scala-lang.modules\" %% \"scala-xml\" % \"1.3.0\"\n",
       "\u001b[39m\n",
       "\u001b[32mimport \u001b[39m\u001b[36m$ivy.$                                        \u001b[39m"
      ]
     },
     "execution_count": 22,
     "metadata": {},
     "output_type": "execute_result"
    }
   ],
   "source": [
    "// Equivalent of adding dependencies to maven or sbt files\n",
    "// For example, to add \"org.scalaj\" %% \"scalaj-http\" % \"2.4.2\" \n",
    "import $ivy.`org.scalaj::scalaj-http:2.4.2`\n",
    "// \"org.scala-lang.modules\" %% \"scala-xml\" % \"1.3.0\"\n",
    "import $ivy.`org.scala-lang.modules::scala-xml:1.3.0`"
   ]
  },
  {
   "cell_type": "code",
   "execution_count": 23,
   "id": "composed-porter",
   "metadata": {},
   "outputs": [
    {
     "data": {
      "text/plain": [
       "\u001b[32mimport \u001b[39m\u001b[36mscalaj.http.{Http, HttpResponse}\n",
       "\u001b[39m\n",
       "\u001b[32mimport \u001b[39m\u001b[36mscala.xml.XML\u001b[39m"
      ]
     },
     "execution_count": 23,
     "metadata": {},
     "output_type": "execute_result"
    }
   ],
   "source": [
    "import scalaj.http.{Http, HttpResponse}\n",
    "import scala.xml.XML"
   ]
  },
  {
   "cell_type": "markdown",
   "id": "interstate-painting",
   "metadata": {},
   "source": [
    "### 1.1 Obtener el texto del RSS Feed\n",
    "\n",
    "Realizamos una consulta HTTP, que nos devuelve una instancia de HTTPResponse. Dentro del atributo `body` de la HTTPResponse, se encuentra el texto del feed en formato XML. Luego, se parsea el XML para extraer los campos `title` y `description`."
   ]
  },
  {
   "cell_type": "code",
   "execution_count": 24,
   "id": "ongoing-hindu",
   "metadata": {
    "collapsed": true,
    "jupyter": {
     "outputs_hidden": true
    },
    "tags": []
   },
   "outputs": [
    {
     "data": {
      "text/plain": [
       "\u001b[36murl\u001b[39m: \u001b[32mString\u001b[39m = \u001b[32m\"https://www.chicagotribune.com/arcio/rss/category/sports/?query=display_date:[now-2d+TO+now]&sort=display_date:desc\"\u001b[39m\n",
       "\u001b[36mresponse\u001b[39m: \u001b[32mHttpResponse\u001b[39m[\u001b[32mString\u001b[39m] = \u001b[33mHttpResponse\u001b[39m(\n",
       "  \u001b[32m\"\"\"<?xml version=\"1.0\" encoding=\"utf-8\"?>\n",
       "<rss version=\"2.0\" xmlns:atom=\"http://www.w3.org/2005/Atom\" xmlns:content=\"http://purl.org/rss/1.0/modules/content/\" xmlns:dc=\"http://purl.org/dc/elements/1.1/\" xmlns:media=\"http://search.yahoo.com/mrss/\" xmlns:sy=\"http://purl.org/rss/1.0/modules/syndication/\"><channel><title>Chicago Tribune</title><link>https://www.chicagotribune.com</link><language>en-US</language><copyright>© 2021 Chicago Tribune</copyright><atom:link href=\"https://www.chicagotribune.com/arcio/rss/category/sports/?query=display_date:%5Bnow-2d+TO+now%5D&amp;sort=display_date:desc\" rel=\"self\" type=\"application/rss+xml\"/><description>Chicago Tribune News Feed</description><lastBuildDate>Mon, 12 Apr 2021 21:11:37 +0000</lastBuildDate><ttl>1</ttl><sy:updatePeriod>hourly</sy:updatePeriod><sy:updateFrequency>1</sy:updateFrequency><item><title>White Sox shortstop Tim Anderson and his hot bat commemorated with new bobblehead</title><link>https://www.chicagotribune.com/sports/national-sports/ct-aud-tim-anderson-bobblehead-20210412-jlxfnyjcjnf4bh2i6y7d4k6vvu-story.html#ed=rss_www.chicagotribune.com/arcio/rss/category/sports/</link><guid isPermaLink=\"true\">https://www.chicagotribune.com/sports/national-sports/ct-aud-tim-anderson-bobblehead-20210412-jlxfnyjcjnf4bh2i6y7d4k6vvu-story.html</guid><dc:creator>Chicago Tribune staff</dc:creator><pubDate>Mon, 12 Apr 2021 20:52:41 +0000</pubDate><description>Celebrating Tim Anderson and his stellar batting average, FOCO has released a commemorative bobblehead that is perfect for any fan’s collection.</description><content:encoded><![CDATA[<p>Celebrating Tim Anderson and his stellar batting average, FOCO has released a commemorative bobblehead that is perfect for any fan’s collection.</p>]]></content:encoded><media:content type=\"image/jpeg\" url=\"https://www.chicagotribune.com/resizer/WDhvDpCJzqfkZJaPpDAFPFnLfX8=/cloudfront-us-east-1.images.arcpublishing.com/tronc/ORZOFGT5OFFHVIEANG3VM4RF6M.jpg\"><media:description type=\"plain\"><![CDATA[(FOCO)]]></media:description></media:content></item><item><title>Minnesota Twins, Wild and Timberwolves postpone their games Monday after fatal police shooting near Minneapolis</title><link>https://www.chicagotribune.com/sports/breaking/ct-minnesota-twins-boston-red-sox-postponed-shooting-20210412-lfuhog6xabhqdebwbbdpgp4bay-story.html#ed=rss_www.chicagotribune.com/arcio/rss/category/sports/</link><guid isPermaLink=\"true\">https://www.chicagotribune.com/sports/breaking/ct-minnesota-twins-boston-red-sox-postponed-shooting-20210412-lfuhog6xabhqdebwbbdpgp4bay-story.html</guid><dc:creator>Dave Campbell</dc:creator><pubDate>Mon, 12 Apr 2021 20:00:39 +0000</pubDate><description>The Minnesota Twins postponed their game against the Boston Red Sox on Monday because of safety concerns after the fatal police shooting of a Black man and the potential for unrest in the area. The NHL’s Minnesota Wild and NBA’s Minnesota Timberwolves also postponed their games scheduled for Monday night.</descrip\u001b[39m...\n",
       "\u001b[36mxmlString\u001b[39m: \u001b[32mString\u001b[39m = \u001b[32m\"\"\"<?xml version=\"1.0\" encoding=\"utf-8\"?>\n",
       "<rss version=\"2.0\" xmlns:atom=\"http://www.w3.org/2005/Atom\" xmlns:content=\"http://purl.org/rss/1.0/modules/content/\" xmlns:dc=\"http://purl.org/dc/elements/1.1/\" xmlns:media=\"http://search.yahoo.com/mrss/\" xmlns:sy=\"http://purl.org/rss/1.0/modules/syndication/\"><channel><title>Chicago Tribune</title><link>https://www.chicagotribune.com</link><language>en-US</language><copyright>© 2021 Chicago Tribune</copyright><atom:link href=\"https://www.chicagotribune.com/arcio/rss/category/sports/?query=display_date:%5Bnow-2d+TO+now%5D&amp;sort=display_date:desc\" rel=\"self\" type=\"application/rss+xml\"/><description>Chicago Tribune News Feed</description><lastBuildDate>Mon, 12 Apr 2021 21:11:37 +0000</lastBuildDate><ttl>1</ttl><sy:updatePeriod>hourly</sy:updatePeriod><sy:updateFrequency>1</sy:updateFrequency><item><title>White Sox shortstop Tim Anderson and his hot bat commemorated with new bobblehead</title><link>https://www.chicagotribune.com/sports/national-sports/ct-aud-tim-anderson-bobblehead-20210412-jlxfnyjcjnf4bh2i6y7d4k6vvu-story.html#ed=rss_www.chicagotribune.com/arcio/rss/category/sports/</link><guid isPermaLink=\"true\">https://www.chicagotribune.com/sports/national-sports/ct-aud-tim-anderson-bobblehead-20210412-jlxfnyjcjnf4bh2i6y7d4k6vvu-story.html</guid><dc:creator>Chicago Tribune staff</dc:creator><pubDate>Mon, 12 Apr 2021 20:52:41 +0000</pubDate><description>Celebrating Tim Anderson and his stellar batting average, FOCO has released a commemorative bobblehead that is perfect for any fan’s collection.</description><content:encoded><![CDATA[<p>Celebrating Tim Anderson and his stellar batting average, FOCO has released a commemorative bobblehead that is perfect for any fan’s collection.</p>]]></content:encoded><media:content type=\"image/jpeg\" url=\"https://www.chicagotribune.com/resizer/WDhvDpCJzqfkZJaPpDAFPFnLfX8=/cloudfront-us-east-1.images.arcpublishing.com/tronc/ORZOFGT5OFFHVIEANG3VM4RF6M.jpg\"><media:description type=\"plain\"><![CDATA[(FOCO)]]></media:description></media:content></item><item><title>Minnesota Twins, Wild and Timberwolves postpone their games Monday after fatal police shooting near Minneapolis</title><link>https://www.chicagotribune.com/sports/breaking/ct-minnesota-twins-boston-red-sox-postponed-shooting-20210412-lfuhog6xabhqdebwbbdpgp4bay-story.html#ed=rss_www.chicagotribune.com/arcio/rss/category/sports/</link><guid isPermaLink=\"true\">https://www.chicagotribune.com/sports/breaking/ct-minnesota-twins-boston-red-sox-postponed-shooting-20210412-lfuhog6xabhqdebwbbdpgp4bay-story.html</guid><dc:creator>Dave Campbell</dc:creator><pubDate>Mon, 12 Apr 2021 20:00:39 +0000</pubDate><description>The Minnesota Twins postponed their game against the Boston Red Sox on Monday because of safety concerns after the fatal police shooting of a Black man and the potential for unrest in the area. The NHL’s Minnesota Wild and NBA’s Minnesota Timberwolves also postponed their games scheduled for Monday night.</description><content:encoded><![CDATA[<p>The Minnesota Twins postponed their game again\u001b[39m...\n",
       "\u001b[36mxml\u001b[39m: \u001b[32mscala\u001b[39m.\u001b[32mxml\u001b[39m.\u001b[32mElem\u001b[39m = <rss version=\"2.0\" xmlns:sy=\"http://purl.org/rss/1.0/modules/syndication/\" xmlns:media=\"http://search.yahoo.com/mrss/\" xmlns:dc=\"http://purl.org/dc/elements/1.1/\" xmlns:content=\"http://purl.org/rss/1.0/modules/content/\" xmlns:atom=\"http://www.w3.org/2005/Atom\"><channel><title>Chicago Tribune</title><link>https://www.chicagotribune.com</link><language>en-US</language><copyright>© 2021 Chicago Tribune</copyright><atom:link type=\"application/rss+xml\" rel=\"self\" href=\"https://www.chicagotribune.com/arcio/rss/category/sports/?query=display_date:%5Bnow-2d+TO+now%5D&amp;sort=display_date:desc\"/><description>Chicago Tribune News Feed</description><lastBuildDate>Mon, 12 Apr 2021 21:11:37 +0000</lastBuildDate><ttl>1</ttl><sy:updatePeriod>hourly</sy:updatePeriod><sy:updateFrequency>1</sy:updateFrequency><item><title>White Sox shortstop Tim Anderson and his hot bat commemorated with new bobblehead</title><link>https://www.chicagotribune.com/sports/national-sports/ct-aud-tim-anderson-bobblehead-20210412-jlxfnyjcjnf4bh2i6y7d4k6vvu-story.html#ed=rss_www.chicagotribune.com/arcio/rss/category/sports/</link><guid isPermaLink=\"true\">https://www.chicagotribune.com/sports/national-sports/ct-aud-tim-anderson-bobblehead-20210412-jlxfnyjcjnf4bh2i6y7d4k6vvu-story.html</guid><dc:creator>Chicago Tribune staff</dc:creator><pubDate>Mon, 12 Apr 2021 20:52:41 +0000</pubDate><description>Celebrating Tim Anderson and his stellar batting average, FOCO has released a commemorative bobblehead that is perfect for any fan’s collection.</description><content:encoded>&lt;p&gt;Celebrating Tim Anderson and his stellar batting average, FOCO has released a commemorative bobblehead that is perfect for any fan’s collection.&lt;/p&gt;</content:encoded><media:content url=\"https://www.chicagotribune.com/resizer/WDhvDpCJzqfkZJaPpDAFPFnLfX8=/cloudfront-us-east-1.images.arcpublishing.com/tronc/ORZOFGT5OFFHVIEANG3VM4RF6M.jpg\" type=\"image/jpeg\"><media:description type=\"plain\">(FOCO)</media:description></media:content></item><item><title>Minnesota Twins, Wild and Timberwolves postpone their games Monday after fatal police shooting near Minneapolis</title><link>https://www.chicagotribune.com/sports/breaking/ct-minnesota-twins-boston-red-sox-postponed-shooting-20210412-lfuhog6xabhqdebwbbdpgp4bay-story.html#ed=rss_www.chicagotribune.com/arcio/rss/category/sports/</link><guid isPermaLink=\"true\">https://www.chicagotribune.com/sports/breaking/ct-minnesota-twins-boston-red-sox-postponed-shooting-20210412-lfuhog6xabhqdebwbbdpgp4bay-story.html</guid><dc:creator>Dave Campbell</dc:creator><pubDate>Mon, 12 Apr 2021 20:00:39 +0000</pubDate><description>The Minnesota Twins postponed their game against the Boston Red Sox on Monday because of safety concerns after the fatal police shooting of a Black man and the potential for unrest in the area. The NHL’s Minnesota Wild and NBA’s Minnesota Timberwolves also postponed their games scheduled for Monday night.</description><content:encoded>&lt;p&gt;The Minnesota Twins postponed their game against the Boston Red Sox on Monday because of safety concerns after the fatal police shooting of a...\n",
       "\u001b[36mrssText\u001b[39m: \u001b[32mcollection\u001b[39m.\u001b[32mimmutable\u001b[39m.\u001b[32mSeq\u001b[39m[\u001b[32mString\u001b[39m] = \u001b[33mList\u001b[39m(\n",
       "  \u001b[32m\"White Sox shortstop Tim Anderson and his hot bat commemorated with new bobblehead Celebrating Tim Anderson and his stellar batting average, FOCO has released a commemorative bobblehead that is perfect for any fan\\u2019s collection.\"\u001b[39m,\n",
       "  \u001b[32m\"Minnesota Twins, Wild and Timberwolves postpone their games Monday after fatal police shooting near Minneapolis The Minnesota Twins postponed their game against the Boston Red Sox on Monday because of safety concerns after the fatal police shooting of a Black man and the potential for unrest in the area. The NHL\\u2019s Minnesota Wild and NBA\\u2019s Minnesota Timberwolves also postponed their games scheduled for Monday night.\"\u001b[39m,\n",
       "  \u001b[32m\"Chicago Blackhawks at the NHL trade deadline: 4 moves include landing Adam Gaudette and dealing Mattias Janmark, Carl Soderberg and Matthew Highmore The Chicago Blackhawks made four trades in advance of the NHL trade deadline.\"\u001b[39m,\n",
       "  \u001b[32m\"Britt Reid, a former Kansas City Chiefs assistant, is charged with DWI in the crash that critically injured a 5-year-old girl Former Kansas City Chiefs assistant coach Britt Reid was charged Monday with driving while intoxicated resulting in serious physical injury after a crash that left a 5-year-old girl critically injured.\"\u001b[39m,\n",
       "  \u001b[32m\"Eddie George is reportedly set to become Tennessee State\\u2019s new football coach Tennessee State announced Monday it will not renew coach Rod Reed\\u2019s contract after 11 seasons running the Tigers football program, with former NFL running back Eddie George reportedly poised to replace him.\"\u001b[39m,\n",
       "  \u001b[32m\"What \\u2014 and where \\u2014 is NBC Sports Chicago+2? How to find the White Sox, Bulls and Blackhawks games when all 3 are playing at the same time. With the Chicago White Sox, Bulls and Blackhawks all playing at the same time, how do fans find their NBC Sports Chicago telecasts?\"\u001b[39m,\n",
       "  \u001b[32m\"Premier League kickoff moved back to avoid starting during Prince Philip\\u2019s funeral More sports events are being moved to avoid clashing with Prince Philip\\u2019s funeral, with a Premier League match between Wolverhampton and Sheffield United pushed to Saturday evening.\"\u001b[39m,\n",
       "  \u001b[32m\"All-girls youth baseball team: the Humboldt Park Gators The Humboldt Park Gators, a girls baseball team, are about to start their first full season and most of their competition will be boys.\"\u001b[39m,\n",
       "  \u001b[32m\"4 takeaways from the Chicago White Sox series vs. the Kansas City Royals, including Lance Lynn showing why he was a big addition and Yerm\\u00edn Mercedes showing no signs of slowing down The Chicago White Sox split a pair in a rain-shortened series against the Kansas City Royals, getting some highs and lows from the bullpen Sunday after Lance Lynn's stellar shutout Thursday.\"\u001b[39m,\n",
       "  \u001b[32m\"3 takeaways from the Chicago Cubs series vs. the Pittsburgh Pirates, includin\u001b[39m..."
      ]
     },
     "execution_count": 24,
     "metadata": {},
     "output_type": "execute_result"
    }
   ],
   "source": [
    "// Tutorial https://alvinalexander.com/source-code/scala-how-to-http-download-xml-rss-feed-timeout/\n",
    "// get the xml content using scalaj-http\n",
    "val url = \"https://www.chicagotribune.com/arcio/rss/category/sports/?query=display_date:[now-2d+TO+now]&sort=display_date:desc\"\n",
    "val response: HttpResponse[String] = Http(url)\n",
    "  .timeout(connTimeoutMs = 2000, readTimeoutMs = 5000)\n",
    "  .asString\n",
    "val xmlString = response.body\n",
    "// convert the `String` to a `scala.xml.Elem`\n",
    "val xml = XML.loadString(xmlString)\n",
    "// Extract text from title and description\n",
    "val rssText = (xml \\\\ \"item\").map { item =>\n",
    "    ((item \\ \"title\").text ++ \" \" ++ (item \\ \"description\").text)\n",
    "}"
   ]
  },
  {
   "cell_type": "markdown",
   "id": "initial-gambling",
   "metadata": {},
   "source": [
    "## 2. Detectar las entidades nombradas"
   ]
  },
  {
   "cell_type": "markdown",
   "id": "portable-tender",
   "metadata": {},
   "source": [
    "### 2.1 Crear el modelo\n",
    "\n",
    "El **modelo** es sólo la función `getNEs`, que recibe una lista de textos.\n",
    "Para cada texto, se separa las palabras del texto usando los espacios, y considera que es una entidad nombrada si empieza con mayúscula."
   ]
  },
  {
   "cell_type": "markdown",
   "id": "charitable-experiment",
   "metadata": {},
   "source": [
    "Este código lista los signos de puntuación y algunas palabras comunes del inglés que se van a sacar del texto."
   ]
  },
  {
   "cell_type": "code",
   "execution_count": 25,
   "id": "experimental-flight",
   "metadata": {
    "tags": []
   },
   "outputs": [
    {
     "data": {
      "text/plain": [
       "\u001b[36mSTOPWORDS\u001b[39m: \u001b[32mSeq\u001b[39m[\u001b[32mString\u001b[39m] = \u001b[33mList\u001b[39m(\n",
       "  \u001b[32m\"i\"\u001b[39m,\n",
       "  \u001b[32m\"me\"\u001b[39m,\n",
       "  \u001b[32m\"my\"\u001b[39m,\n",
       "  \u001b[32m\"myself\"\u001b[39m,\n",
       "  \u001b[32m\"we\"\u001b[39m,\n",
       "  \u001b[32m\"our\"\u001b[39m,\n",
       "  \u001b[32m\"ours\"\u001b[39m,\n",
       "  \u001b[32m\"ourselves\"\u001b[39m,\n",
       "  \u001b[32m\"you\"\u001b[39m,\n",
       "  \u001b[32m\"yours\"\u001b[39m,\n",
       "  \u001b[32m\"yourself\"\u001b[39m,\n",
       "  \u001b[32m\"yourselves\"\u001b[39m,\n",
       "  \u001b[32m\"he\"\u001b[39m,\n",
       "  \u001b[32m\"him\"\u001b[39m,\n",
       "  \u001b[32m\"his\"\u001b[39m,\n",
       "  \u001b[32m\"himself\"\u001b[39m,\n",
       "  \u001b[32m\"she\"\u001b[39m,\n",
       "  \u001b[32m\"her\"\u001b[39m,\n",
       "  \u001b[32m\"hers\"\u001b[39m,\n",
       "  \u001b[32m\"herself\"\u001b[39m,\n",
       "  \u001b[32m\"it\"\u001b[39m,\n",
       "  \u001b[32m\"its\"\u001b[39m,\n",
       "  \u001b[32m\"itself\"\u001b[39m,\n",
       "  \u001b[32m\"they\"\u001b[39m,\n",
       "  \u001b[32m\"them\"\u001b[39m,\n",
       "  \u001b[32m\"your\"\u001b[39m,\n",
       "  \u001b[32m\"their\"\u001b[39m,\n",
       "  \u001b[32m\"theirs\"\u001b[39m,\n",
       "  \u001b[32m\"themselves\"\u001b[39m,\n",
       "  \u001b[32m\"what\"\u001b[39m,\n",
       "  \u001b[32m\"which\"\u001b[39m,\n",
       "  \u001b[32m\"who\"\u001b[39m,\n",
       "  \u001b[32m\"whom\"\u001b[39m,\n",
       "  \u001b[32m\"this\"\u001b[39m,\n",
       "  \u001b[32m\"that\"\u001b[39m,\n",
       "  \u001b[32m\"these\"\u001b[39m,\n",
       "  \u001b[32m\"those\"\u001b[39m,\n",
       "  \u001b[32m\"am\"\u001b[39m,\n",
       "...\n",
       "\u001b[36mpunctuationSymbols\u001b[39m: \u001b[32mString\u001b[39m = \u001b[32m\"\"\".,()!?;:'`´\n",
       "\"\"\"\u001b[39m\n",
       "\u001b[36mpunctuationRegex\u001b[39m: \u001b[32mString\u001b[39m = \u001b[32m\"\"\"\\.|\\,|\\(|\\)|\\!|\\?|\\;|\\:|\\'|\\`|\\´|\\\n",
       "\"\"\"\u001b[39m"
      ]
     },
     "execution_count": 25,
     "metadata": {},
     "output_type": "execute_result"
    }
   ],
   "source": [
    "val STOPWORDS = Seq (\n",
    "    \"i\", \"me\", \"my\", \"myself\", \"we\", \"our\", \"ours\", \"ourselves\", \"you\",\n",
    "    \"yours\", \"yourself\", \"yourselves\", \"he\", \"him\", \"his\", \"himself\", \"she\",\n",
    "    \"her\", \"hers\", \"herself\", \"it\", \"its\", \"itself\", \"they\", \"them\", \"your\",\n",
    "    \"their\", \"theirs\", \"themselves\", \"what\", \"which\", \"who\", \"whom\",\n",
    "    \"this\", \"that\", \"these\", \"those\", \"am\", \"is\", \"are\", \"was\", \"were\",\n",
    "    \"be\", \"been\", \"being\", \"have\", \"has\", \"had\", \"having\", \"do\", \"does\",\n",
    "    \"did\", \"doing\", \"a\", \"an\", \"the\", \"and\", \"but\", \"if\", \"or\",\n",
    "    \"because\", \"as\", \"until\", \"while\", \"of\", \"at\", \"by\", \"for\", \"with\",\n",
    "    \"about\", \"against\", \"between\", \"into\", \"through\", \"during\", \"before\",\n",
    "    \"after\", \"above\", \"below\", \"to\", \"from\", \"up\", \"down\", \"in\", \"out\",\n",
    "    \"off\", \"over\", \"under\", \"again\", \"further\", \"then\", \"once\", \"here\",\n",
    "    \"there\", \"when\", \"where\", \"why\", \"how\", \"all\", \"any\", \"both\", \"each\",\n",
    "    \"few\", \"more\", \"most\", \"other\", \"some\", \"such\", \"no\", \"nor\", \"not\",\n",
    "    \"only\", \"own\", \"same\", \"so\", \"than\", \"too\", \"very\", \"s\", \"t\", \"can\",\n",
    "    \"will\", \"just\", \"don\", \"should\", \"now\", \"on\",\n",
    "    // Contractions without '\n",
    "    \"im\", \"ive\", \"id\", \"Youre\", \"youd\", \"youve\",\n",
    "    \"hes\", \"hed\", \"shes\", \"shed\", \"itd\", \"were\", \"wed\", \"weve\",\n",
    "    \"theyre\", \"theyd\", \"theyve\",\n",
    "    \"shouldnt\", \"couldnt\", \"musnt\", \"cant\", \"wont\",\n",
    "    // Common uppercase words\n",
    "    \"hi\", \"hello\"\n",
    ")\n",
    "val punctuationSymbols = \".,()!?;:'`´\\n\"\n",
    "val punctuationRegex = \"\\\\\" + punctuationSymbols.split(\"\").mkString(\"|\\\\\")"
   ]
  },
  {
   "cell_type": "code",
   "execution_count": 26,
   "id": "aquatic-preservation",
   "metadata": {
    "tags": []
   },
   "outputs": [
    {
     "data": {
      "text/plain": [
       "defined \u001b[32mfunction\u001b[39m \u001b[36mgetNEsSingle\u001b[39m\n",
       "defined \u001b[32mfunction\u001b[39m \u001b[36mgetNEs\u001b[39m"
      ]
     },
     "execution_count": 26,
     "metadata": {},
     "output_type": "execute_result"
    }
   ],
   "source": [
    "// Extract Named Entities from a single text\n",
    "def getNEsSingle(text: String): Seq[String] =\n",
    "  text.replaceAll(punctuationRegex, \"\").split(\" \")\n",
    "    .filter { word:String => word.length > 1 &&\n",
    "              Character.isUpperCase(word.charAt(0)) &&\n",
    "              !STOPWORDS.contains(word.toLowerCase) }.toSeq\n",
    "\n",
    "def getNEs(textList: Seq[String]): Seq[Seq[String]] = textList.map(getNEsSingle)"
   ]
  },
  {
   "cell_type": "markdown",
   "id": "victorian-moderator",
   "metadata": {},
   "source": [
    "### 2.2 Aplicar el \"Modelo\" a los datos"
   ]
  },
  {
   "cell_type": "code",
   "execution_count": 27,
   "id": "educated-bronze",
   "metadata": {
    "tags": []
   },
   "outputs": [
    {
     "data": {
      "text/plain": [
       "\u001b[36mresult\u001b[39m: \u001b[32mSeq\u001b[39m[\u001b[32mSeq\u001b[39m[\u001b[32mString\u001b[39m]] = \u001b[33mList\u001b[39m(\n",
       "  \u001b[33mArrayBuffer\u001b[39m(\n",
       "    \u001b[32m\"White\"\u001b[39m,\n",
       "    \u001b[32m\"Sox\"\u001b[39m,\n",
       "    \u001b[32m\"Tim\"\u001b[39m,\n",
       "    \u001b[32m\"Anderson\"\u001b[39m,\n",
       "    \u001b[32m\"Celebrating\"\u001b[39m,\n",
       "    \u001b[32m\"Tim\"\u001b[39m,\n",
       "    \u001b[32m\"Anderson\"\u001b[39m,\n",
       "    \u001b[32m\"FOCO\"\u001b[39m\n",
       "  ),\n",
       "  \u001b[33mArrayBuffer\u001b[39m(\n",
       "    \u001b[32m\"Minnesota\"\u001b[39m,\n",
       "    \u001b[32m\"Twins\"\u001b[39m,\n",
       "    \u001b[32m\"Wild\"\u001b[39m,\n",
       "    \u001b[32m\"Timberwolves\"\u001b[39m,\n",
       "    \u001b[32m\"Monday\"\u001b[39m,\n",
       "    \u001b[32m\"Minneapolis\"\u001b[39m,\n",
       "    \u001b[32m\"Minnesota\"\u001b[39m,\n",
       "    \u001b[32m\"Twins\"\u001b[39m,\n",
       "    \u001b[32m\"Boston\"\u001b[39m,\n",
       "    \u001b[32m\"Red\"\u001b[39m,\n",
       "    \u001b[32m\"Sox\"\u001b[39m,\n",
       "    \u001b[32m\"Monday\"\u001b[39m,\n",
       "    \u001b[32m\"Black\"\u001b[39m,\n",
       "    \u001b[32m\"NHL\\u2019s\"\u001b[39m,\n",
       "    \u001b[32m\"Minnesota\"\u001b[39m,\n",
       "    \u001b[32m\"Wild\"\u001b[39m,\n",
       "    \u001b[32m\"NBA\\u2019s\"\u001b[39m,\n",
       "    \u001b[32m\"Minnesota\"\u001b[39m,\n",
       "    \u001b[32m\"Timberwolves\"\u001b[39m,\n",
       "    \u001b[32m\"Monday\"\u001b[39m\n",
       "  ),\n",
       "  \u001b[33mArrayBuffer\u001b[39m(\n",
       "    \u001b[32m\"Chicago\"\u001b[39m,\n",
       "    \u001b[32m\"Blackhawks\"\u001b[39m,\n",
       "    \u001b[32m\"NHL\"\u001b[39m,\n",
       "    \u001b[32m\"Adam\"\u001b[39m,\n",
       "    \u001b[32m\"Gaudette\"\u001b[39m,\n",
       "..."
      ]
     },
     "execution_count": 27,
     "metadata": {},
     "output_type": "execute_result"
    }
   ],
   "source": [
    "val result = getNEs(rssText)"
   ]
  },
  {
   "cell_type": "markdown",
   "id": "located-cookbook",
   "metadata": {
    "tags": []
   },
   "source": [
    "## 3. Contar y ordenar las entidades\n",
    "\n",
    "Concatenar todas las listas, contar cada Named Entity, y luego ordernar por frecuencia"
   ]
  },
  {
   "cell_type": "code",
   "execution_count": 28,
   "id": "dynamic-nickel",
   "metadata": {
    "tags": []
   },
   "outputs": [
    {
     "data": {
      "text/plain": [
       "\u001b[36mcounts\u001b[39m: \u001b[32mMap\u001b[39m[\u001b[32mString\u001b[39m, \u001b[32mInt\u001b[39m] = \u001b[33mMap\u001b[39m(\n",
       "  \u001b[32m\"Rate\"\u001b[39m -> \u001b[32m1\u001b[39m,\n",
       "  \u001b[32m\"Rapinoe\"\u001b[39m -> \u001b[32m1\u001b[39m,\n",
       "  \u001b[32m\"Los\"\u001b[39m -> \u001b[32m2\u001b[39m,\n",
       "  \u001b[32m\"Mercedes\"\u001b[39m -> \u001b[32m3\u001b[39m,\n",
       "  \u001b[32m\"Park\"\u001b[39m -> \u001b[32m5\u001b[39m,\n",
       "  \u001b[32m\"Wolverhampton\"\u001b[39m -> \u001b[32m1\u001b[39m,\n",
       "  \u001b[32m\"That\\u2019s\"\u001b[39m -> \u001b[32m1\u001b[39m,\n",
       "  \u001b[32m\"Yerm\\u00edn\"\u001b[39m -> \u001b[32m3\u001b[39m,\n",
       "  \u001b[32m\"FOCO\"\u001b[39m -> \u001b[32m1\u001b[39m,\n",
       "  \u001b[32m\"Blackhawks\\u2019\"\u001b[39m -> \u001b[32m1\u001b[39m,\n",
       "  \u001b[32m\"Lynx\"\u001b[39m -> \u001b[32m2\u001b[39m,\n",
       "  \u001b[32m\"Sports\"\u001b[39m -> \u001b[32m2\u001b[39m,\n",
       "  \u001b[32m\"Gaudette\"\u001b[39m -> \u001b[32m1\u001b[39m,\n",
       "  \u001b[32m\"Celebrating\"\u001b[39m -> \u001b[32m1\u001b[39m,\n",
       "  \u001b[32m\"Minneapolis\"\u001b[39m -> \u001b[32m1\u001b[39m,\n",
       "  \u001b[32m\"Nationwide\"\u001b[39m -> \u001b[32m1\u001b[39m,\n",
       "  \u001b[32m\"Alex\"\u001b[39m -> \u001b[32m2\u001b[39m,\n",
       "  \u001b[32m\"Japan\"\u001b[39m -> \u001b[32m1\u001b[39m,\n",
       "  \u001b[32m\"Lore\"\u001b[39m -> \u001b[32m1\u001b[39m,\n",
       "  \u001b[32m\"Angeles\"\u001b[39m -> \u001b[32m2\u001b[39m,\n",
       "  \u001b[32m\"Boston\"\u001b[39m -> \u001b[32m1\u001b[39m,\n",
       "  \u001b[32m\"Prince\"\u001b[39m -> \u001b[32m2\u001b[39m,\n",
       "  \u001b[32m\"Crochet\"\u001b[39m -> \u001b[32m1\u001b[39m,\n",
       "  \u001b[32m\"Closer\"\u001b[39m -> \u001b[32m1\u001b[39m,\n",
       "  \u001b[32m\"Megan\"\u001b[39m -> \u001b[32m1\u001b[39m,\n",
       "  \u001b[32m\"Liam\"\u001b[39m -> \u001b[32m1\u001b[39m,\n",
       "  \u001b[32m\"Tigers\"\u001b[39m -> \u001b[32m1\u001b[39m,\n",
       "  \u001b[32m\"US\"\u001b[39m -> \u001b[32m1\u001b[39m,\n",
       "  \u001b[32m\"Towns\"\u001b[39m -> \u001b[32m1\u001b[39m,\n",
       "  \u001b[32m\"Timberwolves\"\u001b[39m -> \u001b[32m6\u001b[39m,\n",
       "  \u001b[32m\"Tennessee\"\u001b[39m -> \u001b[32m2\u001b[39m,\n",
       "  \u001b[32m\"Minnesota\"\u001b[39m -> \u001b[32m9\u001b[39m,\n",
       "  \u001b[32m\"Rodriguez\"\u001b[39m -> \u001b[32m2\u001b[39m,\n",
       "  \u001b[32m\"Cubs\\u2019\"\u001b[39m -> \u001b[32m2\u001b[39m,\n",
       "  \u001b[32m\"WNBA\\u2019s\"\u001b[39m -> \u001b[32m1\u001b[39m,\n",
       "  \u001b[32m\"Guaranteed\"\u001b[39m -> \u001b[32m1\u001b[39m,\n",
       "  \u001b[32m\"Janmark\"\u001b[39m -> \u001b[32m1\u001b[39m,\n",
       "  \u001b[32m\"Red\"\u001b[39m -> \u001b[32m1\u001b[39m,\n",
       "...\n",
       "\u001b[36msortedNEs\u001b[39m: \u001b[32mList\u001b[39m[(\u001b[32mString\u001b[39m, \u001b[32mInt\u001b[39m)] = \u001b[33mList\u001b[39m(\n",
       "  (\u001b[32m\"Chicago\"\u001b[39m, \u001b[32m29\u001b[39m),\n",
       "  (\u001b[32m\"Sox\"\u001b[39m, \u001b[32m14\u001b[39m),\n",
       "  (\u001b[32m\"White\"\u001b[39m, \u001b[32m13\u001b[39m),\n",
       "  (\u001b[32m\"Minnesota\"\u001b[39m, \u001b[32m9\u001b[39m),\n",
       "  (\u001b[32m\"Pirates\"\u001b[39m, \u001b[32m7\u001b[39m),\n",
       "  (\u001b[32m\"Cubs\"\u001b[39m, \u001b[32m7\u001b[39m),\n",
       "  (\u001b[32m\"Pittsburgh\"\u001b[39m, \u001b[32m7\u001b[39m),\n",
       "  (\u001b[32m\"Timberwolves\"\u001b[39m, \u001b[32m6\u001b[39m),\n",
       "  (\u001b[32m\"Saturday\"\u001b[39m, \u001b[32m6\u001b[39m),\n",
       "  (\u001b[32m\"Royals\"\u001b[39m, \u001b[32m6\u001b[39m),\n",
       "  (\u001b[32m\"City\"\u001b[39m, \u001b[32m6\u001b[39m),\n",
       "  (\u001b[32m\"Kansas\"\u001b[39m, \u001b[32m6\u001b[39m),\n",
       "  (\u001b[32m\"Park\"\u001b[39m, \u001b[32m5\u001b[39m),\n",
       "  (\u001b[32m\"Monday\"\u001b[39m, \u001b[32m5\u001b[39m),\n",
       "  (\u001b[32m\"Blackhawks\"\u001b[39m, \u001b[32m5\u001b[39m),\n",
       "  (\u001b[32m\"Gators\"\u001b[39m, \u001b[32m5\u001b[39m),\n",
       "  (\u001b[32m\"Bulls\"\u001b[39m, \u001b[32m5\u001b[39m),\n",
       "  (\u001b[32m\"Hideki\"\u001b[39m, \u001b[32m4\u001b[39m),\n",
       "  (\u001b[32m\"Masters\"\u001b[39m, \u001b[32m4\u001b[39m),\n",
       "  (\u001b[32m\"Matsuyama\"\u001b[39m, \u001b[32m4\u001b[39m),\n",
       "  (\u001b[32m\"COVID-19\"\u001b[39m, \u001b[32m4\u001b[39m),\n",
       "  (\u001b[32m\"Humboldt\"\u001b[39m, \u001b[32m4\u001b[39m),\n",
       "  (\u001b[32m\"Mercedes\"\u001b[39m, \u001b[32m3\u001b[39m),\n",
       "  (\u001b[32m\"Yerm\\u00edn\"\u001b[39m, \u001b[32m3\u001b[39m),\n",
       "  (\u001b[32m\"Davies\"\u001b[39m, \u001b[32m3\u001b[39m),\n",
       "  (\u001b[32m\"Zach\"\u001b[39m, \u001b[32m3\u001b[39m),\n",
       "  (\u001b[32m\"Japanese\"\u001b[39m, \u001b[32m3\u001b[39m),\n",
       "  (\u001b[32m\"Los\"\u001b[39m, \u001b[32m2\u001b[39m),\n",
       "  (\u001b[32m\"Lynx\"\u001b[39m, \u001b[32m2\u001b[39m),\n",
       "  (\u001b[32m\"Sports\"\u001b[39m, \u001b[32m2\u001b[39m),\n",
       "  (\u001b[32m\"Alex\"\u001b[39m, \u001b[32m2\u001b[39m),\n",
       "  (\u001b[32m\"Angeles\"\u001b[39m, \u001b[32m2\u001b[39m),\n",
       "  (\u001b[32m\"Prince\"\u001b[39m, \u001b[32m2\u001b[39m),\n",
       "  (\u001b[32m\"Tennessee\"\u001b[39m, \u001b[32m2\u001b[39m),\n",
       "  (\u001b[32m\"Rodriguez\"\u001b[39m, \u001b[32m2\u001b[39m),\n",
       "  (\u001b[32m\"Cubs\\u2019\"\u001b[39m, \u001b[32m2\u001b[39m),\n",
       "  (\u001b[32m\"Blue\"\u001b[39m, \u001b[32m2\u001b[39m),\n",
       "  (\u001b[32m\"Craig\"\u001b[39m, \u001b[32m2\u001b[39m),\n",
       "..."
      ]
     },
     "execution_count": 28,
     "metadata": {},
     "output_type": "execute_result"
    }
   ],
   "source": [
    "val counts: Map[String, Int] = result.flatten\n",
    "  .foldLeft(Map.empty[String, Int]) {\n",
    "     (count, word) => count + (word -> (count.getOrElse(word, 0) + 1)) }\n",
    "val sortedNEs = counts.toList\n",
    "  .sortBy(_._2)(Ordering[Int].reverse)"
   ]
  },
  {
   "cell_type": "code",
   "execution_count": null,
   "id": "racial-learning",
   "metadata": {},
   "outputs": [],
   "source": []
  }
 ],
 "metadata": {
  "kernelspec": {
   "display_name": "Scala",
   "language": "scala",
   "name": "scala"
  },
  "language_info": {
   "codemirror_mode": "text/x-scala",
   "file_extension": ".scala",
   "mimetype": "text/x-scala",
   "name": "scala",
   "nbconvert_exporter": "script",
   "version": "2.11.12"
  }
 },
 "nbformat": 4,
 "nbformat_minor": 5
}
