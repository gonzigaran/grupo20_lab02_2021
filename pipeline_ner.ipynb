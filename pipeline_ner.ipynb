{
 "cells": [
  {
   "cell_type": "markdown",
   "id": "pleased-container",
   "metadata": {},
   "source": [
    "# Named Entity Recognition Pipeline\n",
    "\n",
    "El pipeline toma una URL de un feed en formato RSS, obtiene el título y descripción de los artículos en el feed, detecta las NER con un modelo pre-entrenado, y las muestra ordenadas por frecuencia de aparición.\n",
    "\n",
    "### Versiones\n",
    "Probado con:\n",
    "* Almond 0.6.0\n",
    "* Ammonite 1.6.7\n",
    "* Scala library version **2.11.12** -- Copyright 2002-2017, LAMP/EPFL\n",
    "* Java 1.8.0_282\n",
    "\n",
    "Para ver más información ir a (Help -> About Scala Kernel)"
   ]
  },
  {
   "cell_type": "markdown",
   "id": "compliant-nursing",
   "metadata": {
    "tags": []
   },
   "source": [
    "## 1. Obtener texto"
   ]
  },
  {
   "cell_type": "markdown",
   "id": "important-swaziland",
   "metadata": {},
   "source": [
    "### 1.1 Importar librerías"
   ]
  },
  {
   "cell_type": "code",
   "execution_count": 1,
   "id": "automated-russian",
   "metadata": {
    "tags": []
   },
   "outputs": [
    {
     "data": {
      "text/plain": [
       "\u001b[32mimport \u001b[39m\u001b[36m$ivy.$                              \n",
       "// \"org.scala-lang.modules\" %% \"scala-xml\" % \"1.3.0\"\n",
       "\u001b[39m\n",
       "\u001b[32mimport \u001b[39m\u001b[36m$ivy.$                                        \n",
       "\u001b[39m\n",
       "\u001b[32mimport \u001b[39m\u001b[36m$ivy.$                                 \u001b[39m"
      ]
     },
     "execution_count": 1,
     "metadata": {},
     "output_type": "execute_result"
    }
   ],
   "source": [
    "// Equivalent of adding dependencies to maven or sbt files\n",
    "// For example, to add \"org.scalaj\" %% \"scalaj-http\" % \"2.4.2\" \n",
    "import $ivy.`org.scalaj::scalaj-http:2.4.2`\n",
    "// \"org.scala-lang.modules\" %% \"scala-xml\" % \"1.3.0\"\n",
    "import $ivy.`org.scala-lang.modules::scala-xml:1.3.0`\n",
    "import $ivy.`org.json4s::json4s-jackson:3.4.0`"
   ]
  },
  {
   "cell_type": "code",
   "execution_count": 2,
   "id": "composed-porter",
   "metadata": {},
   "outputs": [
    {
     "data": {
      "text/plain": [
       "\u001b[32mimport \u001b[39m\u001b[36mscalaj.http.{Http, HttpResponse}\n",
       "\u001b[39m\n",
       "\u001b[32mimport \u001b[39m\u001b[36mscala.xml.XML\n",
       "\u001b[39m\n",
       "\u001b[32mimport \u001b[39m\u001b[36mscala.collection.mutable.MutableList\n",
       "//import org.json4s.JsonDSL._\n",
       "\u001b[39m\n",
       "\u001b[32mimport \u001b[39m\u001b[36morg.json4s._\n",
       "\u001b[39m\n",
       "\u001b[32mimport \u001b[39m\u001b[36morg.json4s.jackson.JsonMethods._\n",
       "\u001b[39m\n",
       "\u001b[36mformats\u001b[39m: \u001b[32mDefaultFormats\u001b[39m.type = org.json4s.DefaultFormats$@2bdce90"
      ]
     },
     "execution_count": 2,
     "metadata": {},
     "output_type": "execute_result"
    }
   ],
   "source": [
    "import scalaj.http.{Http, HttpResponse}\n",
    "import scala.xml.XML\n",
    "import scala.collection.mutable.MutableList\n",
    "//import org.json4s.JsonDSL._\n",
    "import org.json4s._\n",
    "import org.json4s.jackson.JsonMethods._\n",
    "implicit val formats = DefaultFormats"
   ]
  },
  {
   "cell_type": "markdown",
   "id": "interstate-painting",
   "metadata": {},
   "source": [
    "### 1.1 Obtener el texto del RSS Feed\n",
    "\n",
    "Realizamos una consulta HTTP, que nos devuelve una instancia de HTTPResponse. Dentro del atributo `body` de la HTTPResponse, se encuentra el texto del feed en formato XML. Luego, se parsea el XML para extraer los campos `title` y `description`."
   ]
  },
  {
   "cell_type": "code",
   "execution_count": 3,
   "id": "e28b8389-4886-488b-905b-847edc7522fb",
   "metadata": {},
   "outputs": [
    {
     "data": {
      "text/plain": [
       "defined \u001b[32mclass\u001b[39m \u001b[36mParser\u001b[39m\n",
       "defined \u001b[32mclass\u001b[39m \u001b[36mRSSParser\u001b[39m\n",
       "defined \u001b[32mclass\u001b[39m \u001b[36mRedditParser\u001b[39m"
      ]
     },
     "execution_count": 3,
     "metadata": {},
     "output_type": "execute_result"
    }
   ],
   "source": [
    "abstract class Parser {\n",
    "    val emptyText: String\n",
    "    \n",
    "    // Get the content\n",
    "    def openURL(url: String): String = {\n",
    "        try {\n",
    "            var response = Http(url)\n",
    "            .timeout(connTimeoutMs = 2000, readTimeoutMs = 5000)\n",
    "            .asString\n",
    "            response.body\n",
    "        } catch {\n",
    "            case e : Throwable  => println(\"Error in HTTP response\")\n",
    "            emptyText \n",
    "        }\n",
    "    }\n",
    "    \n",
    "    // Extract text \n",
    "    def processText(rawText: String): Seq[String] \n",
    "    \n",
    "    // Read the text\n",
    "    def readText(url: String): Seq[String] = {\n",
    "        processText(openURL(url))\n",
    "    }\n",
    "}\n",
    "\n",
    "class RSSParser() extends Parser {\n",
    "    val emptyText = \"<rss></rss>\"\n",
    "    \n",
    "    def processText(rawText: String): Seq[String] = {\n",
    "        // convert the `String` to a `scala.xml.Elem`\n",
    "        val xml = XML.loadString(rawText)\n",
    "        // Extract text from title and description\n",
    "        (xml \\\\ \"item\").map { item =>\n",
    "            ((item \\ \"title\").text ++ \" \" ++ (item \\ \"description\").text)\n",
    "        }\n",
    "    }\n",
    "}\n",
    "\n",
    "class RedditParser() extends Parser {\n",
    "    val emptyText = \"{}\"\n",
    "    \n",
    "    def processText(rawText: String): Seq[String] = {\n",
    "        val urlPattern = \"(https?|ftp|file)://[-a-zA-Z0-9+&@#/%?=~_|!:,.;]*[-a-zA-Z0-9+&@#/%=~_|]\"\n",
    "        val titles = (parse(rawText) \\ \"data\" \\ \"children\" \\ \"data\" \\ \"title\" )\n",
    "         .extract[List[String]]\n",
    "        val selftexts = (parse(rawText) \\ \"data\" \\ \"children\" \\ \"data\" \\ \"selftext\" )\n",
    "         .extract[List[String]]\n",
    "        val result = titles.zip(selftexts).map{case (a,b) => a ++ \" \" ++b}\n",
    "        result.map(text => text.replaceAll(urlPattern, \" \"))\n",
    "    }\n",
    "}\n",
    "\n"
   ]
  },
  {
   "cell_type": "code",
   "execution_count": 4,
   "id": "7678da81-353d-46a4-9e00-a3fff0373fe4",
   "metadata": {},
   "outputs": [
    {
     "data": {
      "text/plain": [
       "defined \u001b[32mclass\u001b[39m \u001b[36mFeedService\u001b[39m"
      ]
     },
     "execution_count": 4,
     "metadata": {},
     "output_type": "execute_result"
    }
   ],
   "source": [
    "class FeedService() {\n",
    "    var urls: MutableList[(String, Parser)] = new MutableList[(String, Parser)]()\n",
    "    \n",
    "    def subscribe(urlTemplate: String, params: Seq[String], parser: Parser) = {\n",
    "        if (params == Seq()){\n",
    "            urls ++= Seq((urlTemplate, parser))\n",
    "        } else {\n",
    "            val result = params.map(x => urlTemplate.format(x)).map(y =>(y, parser))\n",
    "            urls ++= result\n",
    "        }\n",
    "    }\n",
    "    \n",
    "    def getText(): Seq[String] = {\n",
    "        urls.flatMap{case (a, b) => b.readText(a)}\n",
    "    }\n",
    "}"
   ]
  },
  {
   "cell_type": "code",
   "execution_count": 5,
   "id": "acb82a7d-1414-4607-b099-baa2e9122f0d",
   "metadata": {},
   "outputs": [
    {
     "data": {
      "text/plain": [
       "\u001b[36mrss_parser\u001b[39m: \u001b[32mRSSParser\u001b[39m = ammonite.$sess.cmd2$Helper$RSSParser@6ea69848\n",
       "\u001b[36murl_rss\u001b[39m: \u001b[32mString\u001b[39m = \u001b[32m\"https://www.chicagotribune.com/arcio/rss/category/sports/?query=display_date:[now-2d+TO+now]&sort=display_date:desc\"\u001b[39m\n",
       "\u001b[36mrssText\u001b[39m: \u001b[32mSeq\u001b[39m[\u001b[32mString\u001b[39m] = \u001b[33mList\u001b[39m(\n",
       "  \u001b[32m\"As United Center, other sites wind down, Chicago shifting vaccination focus to local events As the city of Chicago prepares to wind down its biggest mass vaccination site, officials said Tuesday they are focused on a hyperlocal that includes dozens of pop-up events, vaccine incentives and home visits.\"\u001b[39m,\n",
       "  \u001b[32m\"Chicago Bears are optimistic about their cornerback competition, but they still are considering adding a veteran free-agent option such as Bashaud Breeland The Chicago Bears are optimistic about the competition they have at cornerback with Desmond Trufant and Kindle Vildor. But the team still is window shopping and considering a veteran option such as Bashaud Breeland.\"\u001b[39m,\n",
       "  \u001b[32m\"Illinois\\u2019 home Big Ten football game vs. Maryland is moved to a Friday Illinois will play on a Friday this season, hosting Maryland on Sept. 17, the Big Ten announced.\"\u001b[39m,\n",
       "  \u001b[32m\"Chicago Bull Zach LaVine sells Lakeview mansion for $3M Chicago Bulls guard Zach LaVine on May 21 sold his five-bedroom mansion in the city's Lakeview neighborhood for $3 million.\"\u001b[39m,\n",
       "  \u001b[32m\"Aaron Rodgers doesn\\u2019t attend the 1st day of Green Bay Packers OTAs \\u2014 and remains noncommittal about his future in ESPN interview Green Bay Packers quarterback Aaron Rodgers wasn\\u2019t present for the first day of organized team activities Monday, and his future with the team remains uncertain.\"\u001b[39m,\n",
       "  \u001b[32m\"US travel warning for COVID-19 won\\u2019t affect Olympians, says Japan The Japanese government Tuesday was quick to deny a U.S. warning for Americans to avoid traveling to Japan would have an impact on Olympians wanting to compete in the postponed Tokyo Games.\"\u001b[39m,\n",
       "  \u001b[32m\"Chicago Blackhawks Q&A: What would\\u2019ve happened if Corey Crawford stayed? Why are they so set on their defensive scheme? And is there any hope in next season\\u2019s Central Division? The Chicago Blackhawks have tough evaluations to make for the next phase of the rebuild. Their decisions will illustrate the road map they believe will return them to Stanley Cup contention. Phil Thompson answers readers\\u2019 questions about free-agent targets, the defensive scheme and the outlook for next season\\u2019s realigned Central Division.\"\u001b[39m,\n",
       "  \u001b[32m\"Lucas Giolito and Jack Flaherty \\u2014 former high school teammates \\u2014 square off tonight for a \\u2018very cool moment\\u2019 in the Chicago White Sox-St. Louis Cardinals series Lucas Giolito and Jack Flaherty were high school teammates at Harvard-Westlake School in Los Angeles. The two are scheduled to be opposing starters in Tuesday night's Chicago White Sox-St. Louis Cardinals game at Guaranteed Rate Field.\"\u001b[39m,\n",
       "  \u001b[32m\"Lance Lynn calls his 3-hit outing vs. his former team \\u2018the most satisfying win in my career\\u2019 as the Chicago White Sox end a 3-game skid by beating \u001b[39m..."
      ]
     },
     "execution_count": 5,
     "metadata": {},
     "output_type": "execute_result"
    }
   ],
   "source": [
    "val rss_parser = new RSSParser\n",
    "val url_rss = \"https://www.chicagotribune.com/arcio/rss/category/sports/?query=display_date:[now-2d+TO+now]&sort=display_date:desc\"\n",
    "val rssText = rss_parser.readText(url_rss)"
   ]
  },
  {
   "cell_type": "code",
   "execution_count": 7,
   "id": "046681d9-e70f-4c67-b3f0-c427739b1ebd",
   "metadata": {},
   "outputs": [
    {
     "data": {
      "text/plain": [
       "\u001b[36mreddit_parser\u001b[39m: \u001b[32mRedditParser\u001b[39m = ammonite.$sess.cmd2$Helper$RedditParser@9c36188\n",
       "\u001b[36murl_reddit\u001b[39m: \u001b[32mString\u001b[39m = \u001b[32m\"https://www.reddit.com/r/Android/hot/.json?count=10\"\u001b[39m\n",
       "\u001b[36mredditText\u001b[39m: \u001b[32mSeq\u001b[39m[\u001b[32mString\u001b[39m] = \u001b[33mList\u001b[39m(\n",
       "  \u001b[32m\"\"\"Moronic Monday (May 24 2021) - Your weekly questions thread! Note 1. Join us at /r/MoronicMondayAndroid, a sub serving as a repository for our retired weekly threads. Just pick any thread and Ctrl-F your way to wisdom! \n",
       "\n",
       "Note 2. Join our IRC, and Telegram chat-rooms! [Please see our wiki for instructions.]( )\"\"\"\u001b[39m,\n",
       "  \u001b[32m\"Google Assistant will soon be able to power off your Android - 9to5Google \"\u001b[39m,\n",
       "  \u001b[32m\"Arm Announces Mobile Armv9 CPU Microarchitectures: Cortex-X2, Cortex-A710 &amp; Cortex-A510 \"\u001b[39m,\n",
       "  \u001b[32m\"Anker teases Nebula Android TV dongle for 2021 release - 9to5Google \"\u001b[39m,\n",
       "  \u001b[32m\"VideoCardz: \\\"ARM announces Mali-G710, G610, G510 and G310 graphics processing units\\\" \"\u001b[39m,\n",
       "  \u001b[32m\"Galaxy Upcycling: How Samsung Ruined Their Best Idea in Years \"\u001b[39m,\n",
       "  \u001b[32m\"\"\"ShieldTV Best Emulators \"Guide\" This is just to save someone searching for this the hours of time it took me to narrow things down. Credit to u/NaturalViolence\n",
       "\n",
       "Android already has a fairly limited selection of good emulators compared to windows/linux and android tv has an even more limited selection. And many don't work properly with external controllers or external storage which are necessary for a \"proper\" couch gaming experience on the shield tv.\n",
       "\n",
       " \n",
       "\n",
       "**Optimal Emulators:**\n",
       "\n",
       "**Free:**\n",
       "\n",
       "- Gameboy/Gameboy Color: Retroarch (mgba or gambatte, I prefer mgba slightly)\n",
       "\n",
       "- Gameboy Advance: Retroarch (mgba)\n",
       "\n",
       "- NES: Retroarch (nestopia)\n",
       "\n",
       "- SNES: Retroarch (snes9x), snes9x standalone\n",
       "\n",
       "- Genesis: Retroarch (genesis plus gx)\n",
       "\n",
       "\u001b[39m..."
      ]
     },
     "execution_count": 7,
     "metadata": {},
     "output_type": "execute_result"
    }
   ],
   "source": [
    "val reddit_parser = new RedditParser\n",
    "val url_reddit = \"https://www.reddit.com/r/Android/hot/.json?count=10\"\n",
    "val redditText = reddit_parser.readText(url_reddit)"
   ]
  },
  {
   "cell_type": "code",
   "execution_count": 8,
   "id": "0de77868-ec35-4dcd-92f6-36301c18b675",
   "metadata": {},
   "outputs": [
    {
     "data": {
      "text/plain": [
       "\u001b[36mservicio\u001b[39m: \u001b[32mFeedService\u001b[39m = ammonite.$sess.cmd3$Helper$FeedService@7d40e3c\n",
       "\u001b[36mres7_1\u001b[39m: \u001b[32mMutableList\u001b[39m[(\u001b[32mString\u001b[39m, \u001b[32mParser\u001b[39m)] = \u001b[33mMutableList\u001b[39m(\n",
       "  (\n",
       "    \u001b[32m\"https://www.chicagotribune.com/arcio/rss/category/sports/?query=display_date:[now-2d+TO+now]&sort=display_date:desc\"\u001b[39m,\n",
       "    ammonite.$sess.cmd2$Helper$RSSParser@6ea69848\n",
       "  ),\n",
       "  (\n",
       "    \u001b[32m\"https://www.chicagotribune.com/arcio/rss/category/business/?query=display_date:[now-2d+TO+now]&sort=display_date:desc\"\u001b[39m,\n",
       "    ammonite.$sess.cmd2$Helper$RSSParser@6ea69848\n",
       "  ),\n",
       "  (\n",
       "    \u001b[32m\"https://www.reddit.com/r/Android/hot/.json?count=10\"\u001b[39m,\n",
       "    ammonite.$sess.cmd2$Helper$RedditParser@9c36188\n",
       "  )\n",
       ")\n",
       "\u001b[36mres7_2\u001b[39m: \u001b[32mMutableList\u001b[39m[(\u001b[32mString\u001b[39m, \u001b[32mParser\u001b[39m)] = \u001b[33mMutableList\u001b[39m(\n",
       "  (\n",
       "    \u001b[32m\"https://www.chicagotribune.com/arcio/rss/category/sports/?query=display_date:[now-2d+TO+now]&sort=display_date:desc\"\u001b[39m,\n",
       "    ammonite.$sess.cmd2$Helper$RSSParser@6ea69848\n",
       "  ),\n",
       "  (\n",
       "    \u001b[32m\"https://www.chicagotribune.com/arcio/rss/category/business/?query=display_date:[now-2d+TO+now]&sort=display_date:desc\"\u001b[39m,\n",
       "    ammonite.$sess.cmd2$Helper$RSSParser@6ea69848\n",
       "  ),\n",
       "  (\n",
       "    \u001b[32m\"https://www.reddit.com/r/Android/hot/.json?count=10\"\u001b[39m,\n",
       "    ammonite.$sess.cmd2$Helper$RedditParser@9c36188\n",
       "  )\n",
       ")"
      ]
     },
     "execution_count": 8,
     "metadata": {},
     "output_type": "execute_result"
    }
   ],
   "source": [
    "val servicio = new FeedService\n",
    "servicio.subscribe(\"https://www.chicagotribune.com/arcio/rss/category/%s/?query=display_date:[now-2d+TO+now]&sort=display_date:desc\", List(\"sports\", \"business\"), rss_parser)\n",
    "servicio.subscribe(\"https://www.reddit.com/r/Android/hot/.json?count=10\", List(), reddit_parser)"
   ]
  },
  {
   "cell_type": "code",
   "execution_count": 21,
   "id": "cc26a2f4-77eb-4292-80fc-8d54dc047460",
   "metadata": {},
   "outputs": [
    {
     "data": {
      "text/plain": [
       "\u001b[36mres20\u001b[39m: \u001b[32mSeq\u001b[39m[\u001b[32mString\u001b[39m] = \u001b[33mMutableList\u001b[39m(\n",
       "  \u001b[32m\"Illinois is set to play a Friday game against Maryland this Big Ten football season Illinois will play on a Friday this season, hosting Maryland on Sept. 17, the Big Ten announced.\"\u001b[39m,\n",
       "  \u001b[32m\"Chicago Bull Zach LaVine sells Lakeview mansion for $3M Chicago Bulls guard Zach LaVine on May 21 sold his five-bedroom mansion in the city's Lakeview neighborhood for $3 million.\"\u001b[39m,\n",
       "  \u001b[32m\"Aaron Rodgers doesn\\u2019t attend the 1st day of Green Bay Packers OTAs \\u2014 and remains noncommittal about his future in ESPN interview Green Bay Packers quarterback Aaron Rodgers wasn\\u2019t present for the first day of organized team activities Monday, and his future with the team remains uncertain.\"\u001b[39m,\n",
       "  \u001b[32m\"US travel warning for COVID-19 won\\u2019t affect Olympians, says Japan The Japanese government Tuesday was quick to deny a U.S. warning for Americans to avoid traveling to Japan would have an impact on Olympians wanting to compete in the postponed Tokyo Games.\"\u001b[39m,\n",
       "  \u001b[32m\"Chicago Blackhawks Q&A: What would\\u2019ve happened if Corey Crawford stayed? Why are they so set on their defensive scheme? And is there any hope in next season\\u2019s Central Division? The Chicago Blackhawks have tough evaluations to make for the next phase of the rebuild. Their decisions will illustrate the road map they believe will return them to Stanley Cup contention. Phil Thompson answers readers\\u2019 questions about free-agent targets, the defensive scheme and the outlook for next season\\u2019s realigned Central Division.\"\u001b[39m,\n",
       "  \u001b[32m\"Lucas Giolito and Jack Flaherty \\u2014 former high school teammates \\u2014 square off tonight for a \\u2018very cool moment\\u2019 in the Chicago White Sox-St. Louis Cardinals series Lucas Giolito and Jack Flaherty were high school teammates at Harvard-Westlake School in Los Angeles. The two are scheduled to be opposing starters in Tuesday night's Chicago White Sox-St. Louis Cardinals game at Guaranteed Rate Field.\"\u001b[39m,\n",
       "  \u001b[32m\"Lance Lynn calls his 3-hit outing vs. his former team \\u2018the most satisfying win in my career\\u2019 as the Chicago White Sox end a 3-game skid by beating the St. Louis Cardinals Chicago White Sox starter Lance Lynn has won 109 regular-season games during a big-league career that began in 2011. Monday\\u2019s 5-1 victory against the St. Louis Cardinals stood out.\"\u001b[39m,\n",
       "  \u001b[32m\"PGA of America apologizes to Phil Mickelson and Brooks Koepka for the crowd swarming the 18th hole PGA of America CEO Seth Waugh apologized to winner Phil Mickelson and runner-up Brooks Koepka for fans rushing onto the 18th hole at the PGA Championship.\"\u001b[39m,\n",
       "  \u001b[32m\"Iowa basketball player Jordan Bohannon suffers a serious head injury during an assault Iowa basketball guard Jordan Bohannon was recovering Monday after sust\u001b[39m..."
      ]
     },
     "execution_count": 21,
     "metadata": {},
     "output_type": "execute_result"
    }
   ],
   "source": [
    "servicio.getText()"
   ]
  },
  {
   "cell_type": "markdown",
   "id": "initial-gambling",
   "metadata": {},
   "source": [
    "## 2. Detectar las entidades nombradas"
   ]
  },
  {
   "cell_type": "markdown",
   "id": "portable-tender",
   "metadata": {},
   "source": [
    "### 2.1 Crear el modelo\n",
    "\n",
    "El **modelo** es sólo la función `getNEs`, que recibe una lista de textos.\n",
    "Para cada texto, se separa las palabras del texto usando los espacios, y considera que es una entidad nombrada si empieza con mayúscula."
   ]
  },
  {
   "cell_type": "markdown",
   "id": "charitable-experiment",
   "metadata": {},
   "source": [
    "Este código lista los signos de puntuación y algunas palabras comunes del inglés que se van a sacar del texto."
   ]
  },
  {
   "cell_type": "code",
   "execution_count": 23,
   "id": "experimental-flight",
   "metadata": {
    "tags": []
   },
   "outputs": [
    {
     "data": {
      "text/plain": [
       "\u001b[36mSTOPWORDS\u001b[39m: \u001b[32mSeq\u001b[39m[\u001b[32mString\u001b[39m] = \u001b[33mList\u001b[39m(\n",
       "  \u001b[32m\"i\"\u001b[39m,\n",
       "  \u001b[32m\"me\"\u001b[39m,\n",
       "  \u001b[32m\"my\"\u001b[39m,\n",
       "  \u001b[32m\"myself\"\u001b[39m,\n",
       "  \u001b[32m\"we\"\u001b[39m,\n",
       "  \u001b[32m\"our\"\u001b[39m,\n",
       "  \u001b[32m\"ours\"\u001b[39m,\n",
       "  \u001b[32m\"ourselves\"\u001b[39m,\n",
       "  \u001b[32m\"you\"\u001b[39m,\n",
       "  \u001b[32m\"yours\"\u001b[39m,\n",
       "  \u001b[32m\"yourself\"\u001b[39m,\n",
       "  \u001b[32m\"yourselves\"\u001b[39m,\n",
       "  \u001b[32m\"he\"\u001b[39m,\n",
       "  \u001b[32m\"him\"\u001b[39m,\n",
       "  \u001b[32m\"his\"\u001b[39m,\n",
       "  \u001b[32m\"himself\"\u001b[39m,\n",
       "  \u001b[32m\"she\"\u001b[39m,\n",
       "  \u001b[32m\"her\"\u001b[39m,\n",
       "  \u001b[32m\"hers\"\u001b[39m,\n",
       "  \u001b[32m\"herself\"\u001b[39m,\n",
       "  \u001b[32m\"it\"\u001b[39m,\n",
       "  \u001b[32m\"its\"\u001b[39m,\n",
       "  \u001b[32m\"itself\"\u001b[39m,\n",
       "  \u001b[32m\"they\"\u001b[39m,\n",
       "  \u001b[32m\"them\"\u001b[39m,\n",
       "  \u001b[32m\"your\"\u001b[39m,\n",
       "  \u001b[32m\"their\"\u001b[39m,\n",
       "  \u001b[32m\"theirs\"\u001b[39m,\n",
       "  \u001b[32m\"themselves\"\u001b[39m,\n",
       "  \u001b[32m\"what\"\u001b[39m,\n",
       "  \u001b[32m\"which\"\u001b[39m,\n",
       "  \u001b[32m\"who\"\u001b[39m,\n",
       "  \u001b[32m\"whom\"\u001b[39m,\n",
       "  \u001b[32m\"this\"\u001b[39m,\n",
       "  \u001b[32m\"that\"\u001b[39m,\n",
       "  \u001b[32m\"these\"\u001b[39m,\n",
       "  \u001b[32m\"those\"\u001b[39m,\n",
       "  \u001b[32m\"am\"\u001b[39m,\n",
       "..."
      ]
     },
     "execution_count": 23,
     "metadata": {},
     "output_type": "execute_result"
    }
   ],
   "source": [
    "val STOPWORDS = Seq (\n",
    "    \"i\", \"me\", \"my\", \"myself\", \"we\", \"our\", \"ours\", \"ourselves\", \"you\",\n",
    "    \"yours\", \"yourself\", \"yourselves\", \"he\", \"him\", \"his\", \"himself\", \"she\",\n",
    "    \"her\", \"hers\", \"herself\", \"it\", \"its\", \"itself\", \"they\", \"them\", \"your\",\n",
    "    \"their\", \"theirs\", \"themselves\", \"what\", \"which\", \"who\", \"whom\",\n",
    "    \"this\", \"that\", \"these\", \"those\", \"am\", \"is\", \"are\", \"was\", \"were\",\n",
    "    \"be\", \"been\", \"being\", \"have\", \"has\", \"had\", \"having\", \"do\", \"does\",\n",
    "    \"did\", \"doing\", \"a\", \"an\", \"the\", \"and\", \"but\", \"if\", \"or\",\n",
    "    \"because\", \"as\", \"until\", \"while\", \"of\", \"at\", \"by\", \"for\", \"with\",\n",
    "    \"about\", \"against\", \"between\", \"into\", \"through\", \"during\", \"before\",\n",
    "    \"after\", \"above\", \"below\", \"to\", \"from\", \"up\", \"down\", \"in\", \"out\",\n",
    "    \"off\", \"over\", \"under\", \"again\", \"further\", \"then\", \"once\", \"here\",\n",
    "    \"there\", \"when\", \"where\", \"why\", \"how\", \"all\", \"any\", \"both\", \"each\",\n",
    "    \"few\", \"more\", \"most\", \"other\", \"some\", \"such\", \"no\", \"nor\", \"not\",\n",
    "    \"only\", \"own\", \"same\", \"so\", \"than\", \"too\", \"very\", \"s\", \"t\", \"can\",\n",
    "    \"will\", \"just\", \"don\", \"should\", \"now\", \"on\",\n",
    "    // Contractions without '\n",
    "    \"im\", \"ive\", \"id\", \"Youre\", \"youd\", \"youve\",\n",
    "    \"hes\", \"hed\", \"shes\", \"shed\", \"itd\", \"were\", \"wed\", \"weve\",\n",
    "    \"theyre\", \"theyd\", \"theyve\",\n",
    "    \"shouldnt\", \"couldnt\", \"musnt\", \"cant\", \"wont\",\n",
    "    // Common uppercase words\n",
    "    \"hi\", \"hello\"\n",
    ")"
   ]
  },
  {
   "cell_type": "code",
   "execution_count": 24,
   "id": "042f75de-816f-460f-8669-30318f5d3f12",
   "metadata": {},
   "outputs": [
    {
     "data": {
      "text/plain": [
       "defined \u001b[32mclass\u001b[39m \u001b[36mNERModel\u001b[39m"
      ]
     },
     "execution_count": 24,
     "metadata": {},
     "output_type": "execute_result"
    }
   ],
   "source": [
    "class NERModel(STOPWORDS: Seq[String]) {\n",
    "    \n",
    "    val punctuationSymbols = \".,()!?;:'`´\\n\"\n",
    "    val punctuationRegex = \"\\\\\" + punctuationSymbols.split(\"\").mkString(\"|\\\\\")\n",
    "    \n",
    "    // Extract Named Entitis\n",
    "    def getNEsSingle(text: String): Seq[String] = {\n",
    "      text.replaceAll(punctuationRegex, \"\").split(\" \")\n",
    "        .filter { word:String => word.length > 1 &&\n",
    "                  Character.isUpperCase(word.charAt(0)) &&\n",
    "                  !STOPWORDS.contains(word.toLowerCase) }.toSeq\n",
    "    }\n",
    "    def getNEs(textList: Seq[String]): Seq[Seq[String]] = {\n",
    "        textList.map(getNEsSingle)\n",
    "    }\n",
    "    \n",
    "    // Counts Named Entities\n",
    "    def countNEs(result: Seq[Seq[String]]): Map[String, Int] = {\n",
    "        result.flatten.foldLeft(Map.empty[String, Int]) {\n",
    "         (count, word) => count + (word -> (count.getOrElse(word, 0) + 1)) }\n",
    "    }\n",
    "    \n",
    "    // Sorts Named Entities\n",
    "    def sortNEs(counts: Map[String, Int]): List[(String, Int)] = {\n",
    "        counts.toList.sortBy(_._2)(Ordering[Int].reverse)\n",
    "    } \n",
    "}"
   ]
  },
  {
   "cell_type": "code",
   "execution_count": 25,
   "id": "aquatic-preservation",
   "metadata": {
    "tags": []
   },
   "outputs": [
    {
     "data": {
      "text/plain": [
       "\u001b[36mmodel\u001b[39m: \u001b[32mNERModel\u001b[39m = ammonite.$sess.cmd23$Helper$NERModel@4f88f068"
      ]
     },
     "execution_count": 25,
     "metadata": {},
     "output_type": "execute_result"
    }
   ],
   "source": [
    "val model = new NERModel(STOPWORDS)"
   ]
  },
  {
   "cell_type": "markdown",
   "id": "victorian-moderator",
   "metadata": {},
   "source": [
    "### 2.2 Aplicar el \"Modelo\" a los datos"
   ]
  },
  {
   "cell_type": "code",
   "execution_count": 26,
   "id": "educated-bronze",
   "metadata": {
    "tags": []
   },
   "outputs": [
    {
     "data": {
      "text/plain": [
       "\u001b[36mresult\u001b[39m: \u001b[32mSeq\u001b[39m[\u001b[32mSeq\u001b[39m[\u001b[32mString\u001b[39m]] = \u001b[33mList\u001b[39m(\n",
       "  \u001b[33mArrayBuffer\u001b[39m(\n",
       "    \u001b[32m\"Moronic\"\u001b[39m,\n",
       "    \u001b[32m\"Monday\"\u001b[39m,\n",
       "    \u001b[32m\"May\"\u001b[39m,\n",
       "    \u001b[32m\"Note\"\u001b[39m,\n",
       "    \u001b[32m\"Join\"\u001b[39m,\n",
       "    \u001b[32m\"Ctrl-F\"\u001b[39m,\n",
       "    \u001b[32m\"Note\"\u001b[39m,\n",
       "    \u001b[32m\"Join\"\u001b[39m,\n",
       "    \u001b[32m\"IRC\"\u001b[39m,\n",
       "    \u001b[32m\"Telegram\"\u001b[39m\n",
       "  ),\n",
       "  \u001b[33mArrayBuffer\u001b[39m(\u001b[32m\"Google\"\u001b[39m, \u001b[32m\"Assistant\"\u001b[39m, \u001b[32m\"Android\"\u001b[39m),\n",
       "  \u001b[33mArrayBuffer\u001b[39m(\n",
       "    \u001b[32m\"Arm\"\u001b[39m,\n",
       "    \u001b[32m\"Announces\"\u001b[39m,\n",
       "    \u001b[32m\"Mobile\"\u001b[39m,\n",
       "    \u001b[32m\"Armv9\"\u001b[39m,\n",
       "    \u001b[32m\"CPU\"\u001b[39m,\n",
       "    \u001b[32m\"Microarchitectures\"\u001b[39m,\n",
       "    \u001b[32m\"Cortex-X2\"\u001b[39m,\n",
       "    \u001b[32m\"Cortex-A710\"\u001b[39m,\n",
       "    \u001b[32m\"Cortex-A510\"\u001b[39m\n",
       "  ),\n",
       "  \u001b[33mArrayBuffer\u001b[39m(\u001b[32m\"Anker\"\u001b[39m, \u001b[32m\"Nebula\"\u001b[39m, \u001b[32m\"Android\"\u001b[39m, \u001b[32m\"TV\"\u001b[39m),\n",
       "  \u001b[33mArrayBuffer\u001b[39m(\n",
       "    \u001b[32m\"Galaxy\"\u001b[39m,\n",
       "    \u001b[32m\"Upcycling\"\u001b[39m,\n",
       "    \u001b[32m\"Samsung\"\u001b[39m,\n",
       "    \u001b[32m\"Ruined\"\u001b[39m,\n",
       "    \u001b[32m\"Best\"\u001b[39m,\n",
       "    \u001b[32m\"Idea\"\u001b[39m,\n",
       "    \u001b[32m\"Years\"\u001b[39m\n",
       "  ),\n",
       "  \u001b[33mArrayBuffer\u001b[39m(\u001b[32m\"VideoCardz\"\u001b[39m, \u001b[32m\"Mali-G710\"\u001b[39m, \u001b[32m\"G610\"\u001b[39m, \u001b[32m\"G510\"\u001b[39m, \u001b[32m\"G310\"\u001b[39m),\n",
       "  \u001b[33mArrayBuffer\u001b[39m(\u001b[32m\"Android\"\u001b[39m, \u001b[32m\"Beta\"\u001b[39m),\n",
       "  \u001b[33mArrayBuffer\u001b[39m(\u001b[32m\"Google\"\u001b[39m, \u001b[32m\"Photos\"\u001b[39m),\n",
       "  \u001b[33mArrayBuffer\u001b[39m(\u001b[32m\"Honor\\u2019s\"\u001b[39m, \u001b[32m\"Google\"\u001b[39m),\n",
       "..."
      ]
     },
     "execution_count": 26,
     "metadata": {},
     "output_type": "execute_result"
    }
   ],
   "source": [
    "val result = model.getNEs(redditText)"
   ]
  },
  {
   "cell_type": "markdown",
   "id": "located-cookbook",
   "metadata": {
    "tags": []
   },
   "source": [
    "## 3. Contar y ordenar las entidades\n",
    "\n",
    "Concatenar todas las listas, contar cada Named Entity, y luego ordernar por frecuencia"
   ]
  },
  {
   "cell_type": "code",
   "execution_count": 57,
   "id": "dynamic-nickel",
   "metadata": {
    "tags": []
   },
   "outputs": [
    {
     "data": {
      "text/plain": [
       "\u001b[36mcounts\u001b[39m: \u001b[32mMap\u001b[39m[\u001b[32mString\u001b[39m, \u001b[32mInt\u001b[39m] = \u001b[33mMap\u001b[39m(\n",
       "  \u001b[32m\"Thing\"\u001b[39m -> \u001b[32m1\u001b[39m,\n",
       "  \u001b[32m\"Advertising\"\u001b[39m -> \u001b[32m1\u001b[39m,\n",
       "  \u001b[32m\"PLN\"\u001b[39m -> \u001b[32m5\u001b[39m,\n",
       "  \u001b[32m\"Please\"\u001b[39m -> \u001b[32m1\u001b[39m,\n",
       "  \u001b[32m\"Easy\"\u001b[39m -> \u001b[32m1\u001b[39m,\n",
       "  \u001b[32m\"Locked\"\u001b[39m -> \u001b[32m1\u001b[39m,\n",
       "  \u001b[32m\"One\"\u001b[39m -> \u001b[32m8\u001b[39m,\n",
       "  \u001b[32m\"CEO\"\u001b[39m -> \u001b[32m1\u001b[39m,\n",
       "  \u001b[32m\"Tab\"\u001b[39m -> \u001b[32m3\u001b[39m,\n",
       "  \u001b[32m\"Weinbach\"\u001b[39m -> \u001b[32m3\u001b[39m,\n",
       "  \u001b[32m\"Use\"\u001b[39m -> \u001b[32m1\u001b[39m,\n",
       "  \u001b[32m\"Cheaper\"\u001b[39m -> \u001b[32m1\u001b[39m,\n",
       "  \u001b[32m\"Take\"\u001b[39m -> \u001b[32m1\u001b[39m,\n",
       "  \u001b[32m\"OLED\"\u001b[39m -> \u001b[32m1\u001b[39m,\n",
       "  \u001b[32m\"NPUs\"\u001b[39m -> \u001b[32m1\u001b[39m,\n",
       "  \u001b[32m\"A11\"\u001b[39m -> \u001b[32m3\u001b[39m,\n",
       "  \u001b[32m\"Disagree\"\u001b[39m -> \u001b[32m1\u001b[39m,\n",
       "  \u001b[32m\"Upcycling\"\u001b[39m -> \u001b[32m1\u001b[39m,\n",
       "  \u001b[32m\"ISP\"\u001b[39m -> \u001b[32m1\u001b[39m,\n",
       "  \u001b[32m\"Settings\"\u001b[39m -> \u001b[32m1\u001b[39m,\n",
       "  \u001b[32m\"Lite\"\u001b[39m -> \u001b[32m1\u001b[39m,\n",
       "  \u001b[32m\"Pichai\"\u001b[39m -> \u001b[32m1\u001b[39m,\n",
       "  \u001b[32m\"Users\"\u001b[39m -> \u001b[32m1\u001b[39m,\n",
       "  \u001b[32m\"Reddit\"\u001b[39m -> \u001b[32m1\u001b[39m,\n",
       "  \u001b[32m\"GPS\"\u001b[39m -> \u001b[32m1\u001b[39m,\n",
       "  \u001b[32m\"Google/Samsung/HTC\"\u001b[39m -> \u001b[32m1\u001b[39m,\n",
       "  \u001b[32m\"UI\"\u001b[39m -> \u001b[32m5\u001b[39m,\n",
       "  \u001b[32m\"Added\"\u001b[39m -> \u001b[32m1\u001b[39m,\n",
       "  \u001b[32m\"Ctrl-F\"\u001b[39m -> \u001b[32m2\u001b[39m,\n",
       "  \u001b[32m\"Folder\"\u001b[39m -> \u001b[32m1\u001b[39m,\n",
       "  \u001b[32m\"ROMs\"\u001b[39m -> \u001b[32m1\u001b[39m,\n",
       "  \u001b[32m\"YouTube\"\u001b[39m -> \u001b[32m1\u001b[39m,\n",
       "  \u001b[32m\"Galaxy\"\u001b[39m -> \u001b[32m5\u001b[39m,\n",
       "  \u001b[32m\"Honor\\u2019s\"\u001b[39m -> \u001b[32m1\u001b[39m,\n",
       "  \u001b[32m\"Note\"\u001b[39m -> \u001b[32m5\u001b[39m,\n",
       "  \u001b[32m\"Dual\"\u001b[39m -> \u001b[32m1\u001b[39m,\n",
       "  \u001b[32m\"Xiaomi\"\u001b[39m -> \u001b[32m2\u001b[39m,\n",
       "  \u001b[32m\"Best\"\u001b[39m -> \u001b[32m1\u001b[39m,\n",
       "...\n",
       "\u001b[36msortedNEs\u001b[39m: \u001b[32mList\u001b[39m[(\u001b[32mString\u001b[39m, \u001b[32mInt\u001b[39m)] = \u001b[33mList\u001b[39m(\n",
       "  (\u001b[32m\"Pixel\"\u001b[39m, \u001b[32m20\u001b[39m),\n",
       "  (\u001b[32m\"Google\"\u001b[39m, \u001b[32m20\u001b[39m),\n",
       "  (\u001b[32m\"Android\"\u001b[39m, \u001b[32m17\u001b[39m),\n",
       "  (\u001b[32m\"Apple\"\u001b[39m, \u001b[32m14\u001b[39m),\n",
       "  (\u001b[32m\"One\"\u001b[39m, \u001b[32m8\u001b[39m),\n",
       "  (\u001b[32m\"Samsung\"\u001b[39m, \u001b[32m6\u001b[39m),\n",
       "  (\u001b[32m\"PLN\"\u001b[39m, \u001b[32m5\u001b[39m),\n",
       "  (\u001b[32m\"UI\"\u001b[39m, \u001b[32m5\u001b[39m),\n",
       "  (\u001b[32m\"Galaxy\"\u001b[39m, \u001b[32m5\u001b[39m),\n",
       "  (\u001b[32m\"Note\"\u001b[39m, \u001b[32m5\u001b[39m),\n",
       "  (\u001b[32m\"App\"\u001b[39m, \u001b[32m5\u001b[39m),\n",
       "  (\u001b[32m\"Join\"\u001b[39m, \u001b[32m5\u001b[39m),\n",
       "  (\u001b[32m\"USD\"\u001b[39m, \u001b[32m5\u001b[39m),\n",
       "  (\u001b[32m\"Max\"\u001b[39m, \u001b[32m4\u001b[39m),\n",
       "  (\u001b[32m\"Photos\"\u001b[39m, \u001b[32m4\u001b[39m),\n",
       "  (\u001b[32m\"Bluetooth\"\u001b[39m, \u001b[32m4\u001b[39m),\n",
       "  (\u001b[32m\"Tab\"\u001b[39m, \u001b[32m3\u001b[39m),\n",
       "  (\u001b[32m\"Weinbach\"\u001b[39m, \u001b[32m3\u001b[39m),\n",
       "  (\u001b[32m\"A11\"\u001b[39m, \u001b[32m3\u001b[39m),\n",
       "  (\u001b[32m\"May\"\u001b[39m, \u001b[32m3\u001b[39m),\n",
       "  (\u001b[32m\"Telegram\"\u001b[39m, \u001b[32m3\u001b[39m),\n",
       "  (\u001b[32m\"QS\"\u001b[39m, \u001b[32m3\u001b[39m),\n",
       "  (\u001b[32m\"Also\"\u001b[39m, \u001b[32m3\u001b[39m),\n",
       "  (\u001b[32m\"IRC\"\u001b[39m, \u001b[32m3\u001b[39m),\n",
       "  (\u001b[32m\"Ctrl-F\"\u001b[39m, \u001b[32m2\u001b[39m),\n",
       "  (\u001b[32m\"Xiaomi\"\u001b[39m, \u001b[32m2\u001b[39m),\n",
       "  (\u001b[32m\"POCO\"\u001b[39m, \u001b[32m2\u001b[39m),\n",
       "  (\u001b[32m\"S7\"\u001b[39m, \u001b[32m2\u001b[39m),\n",
       "  (\u001b[32m\"Pro\"\u001b[39m, \u001b[32m2\u001b[39m),\n",
       "  (\u001b[32m\"Saturday\"\u001b[39m, \u001b[32m2\u001b[39m),\n",
       "  (\u001b[32m\"Watch\"\u001b[39m, \u001b[32m2\u001b[39m),\n",
       "  (\u001b[32m\"Music\"\u001b[39m, \u001b[32m2\u001b[39m),\n",
       "  (\u001b[32m\"GB\"\u001b[39m, \u001b[32m2\u001b[39m),\n",
       "  (\u001b[32m\"FE\"\u001b[39m, \u001b[32m2\u001b[39m),\n",
       "  (\u001b[32m\"Sunday\"\u001b[39m, \u001b[32m2\u001b[39m),\n",
       "  (\u001b[32m\"New\"\u001b[39m, \u001b[32m2\u001b[39m),\n",
       "  (\u001b[32m\"Apps\"\u001b[39m, \u001b[32m2\u001b[39m),\n",
       "  (\u001b[32m\"Whitechapel\"\u001b[39m, \u001b[32m2\u001b[39m),\n",
       "..."
      ]
     },
     "execution_count": 57,
     "metadata": {},
     "output_type": "execute_result"
    }
   ],
   "source": [
    "val counts = model.countNEs(result)\n",
    "val sortedNEs = model.sortNEs(counts)"
   ]
  },
  {
   "cell_type": "code",
   "execution_count": null,
   "id": "racial-learning",
   "metadata": {},
   "outputs": [],
   "source": []
  },
  {
   "cell_type": "code",
   "execution_count": null,
   "id": "9aae6081-b68c-4f22-abe6-45d4b33fed7e",
   "metadata": {},
   "outputs": [],
   "source": []
  }
 ],
 "metadata": {
  "kernelspec": {
   "display_name": "Scala",
   "language": "scala",
   "name": "scala"
  },
  "language_info": {
   "codemirror_mode": "text/x-scala",
   "file_extension": ".scala",
   "mimetype": "text/x-scala",
   "name": "scala",
   "nbconvert_exporter": "script",
   "version": "2.11.12"
  }
 },
 "nbformat": 4,
 "nbformat_minor": 5
}
