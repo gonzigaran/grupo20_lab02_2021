{
 "cells": [
  {
   "cell_type": "markdown",
   "id": "pleased-container",
   "metadata": {},
   "source": [
    "# Named Entity Recognition Pipeline\n",
    "\n",
    "El pipeline toma una URL de un feed en formato RSS, obtiene el título y descripción de los artículos en el feed, detecta las NER con un modelo pre-entrenado, y las muestra ordenadas por frecuencia de aparición.\n",
    "\n",
    "### Versiones\n",
    "Probado con:\n",
    "* Almond 0.6.0\n",
    "* Ammonite 1.6.7\n",
    "* Scala library version **2.11.12** -- Copyright 2002-2017, LAMP/EPFL\n",
    "* Java 1.8.0_282\n",
    "\n",
    "Para ver más información ir a (Help -> About Scala Kernel)"
   ]
  },
  {
   "cell_type": "markdown",
   "id": "compliant-nursing",
   "metadata": {
    "tags": []
   },
   "source": [
    "## 1. Obtener texto"
   ]
  },
  {
   "cell_type": "markdown",
   "id": "important-swaziland",
   "metadata": {},
   "source": [
    "### 1.1 Importar librerías"
   ]
  },
  {
   "cell_type": "code",
   "execution_count": 7,
   "id": "automated-russian",
   "metadata": {
    "tags": []
   },
   "outputs": [
    {
     "data": {
      "text/plain": [
       "\u001b[32mimport \u001b[39m\u001b[36m$ivy.$                              \n",
       "// \"org.scala-lang.modules\" %% \"scala-xml\" % \"1.3.0\"\n",
       "\u001b[39m\n",
       "\u001b[32mimport \u001b[39m\u001b[36m$ivy.$                                        \n",
       "\u001b[39m\n",
       "\u001b[32mimport \u001b[39m\u001b[36m$ivy.$                                 \u001b[39m"
      ]
     },
     "execution_count": 7,
     "metadata": {},
     "output_type": "execute_result"
    }
   ],
   "source": [
    "// Equivalent of adding dependencies to maven or sbt files\n",
    "// For example, to add \"org.scalaj\" %% \"scalaj-http\" % \"2.4.2\" \n",
    "import $ivy.`org.scalaj::scalaj-http:2.4.2`\n",
    "// \"org.scala-lang.modules\" %% \"scala-xml\" % \"1.3.0\"\n",
    "import $ivy.`org.scala-lang.modules::scala-xml:1.3.0`\n",
    "import $ivy.`org.json4s::json4s-jackson:3.4.0`"
   ]
  },
  {
   "cell_type": "code",
   "execution_count": 8,
   "id": "composed-porter",
   "metadata": {},
   "outputs": [
    {
     "data": {
      "text/plain": [
       "\u001b[32mimport \u001b[39m\u001b[36mscalaj.http.{Http, HttpResponse}\n",
       "\u001b[39m\n",
       "\u001b[32mimport \u001b[39m\u001b[36mscala.xml.XML\n",
       "\u001b[39m\n",
       "\u001b[32mimport \u001b[39m\u001b[36mscala.collection.mutable.MutableList\n",
       "//import org.json4s.JsonDSL._\n",
       "\u001b[39m\n",
       "\u001b[32mimport \u001b[39m\u001b[36morg.json4s._\n",
       "\u001b[39m\n",
       "\u001b[32mimport \u001b[39m\u001b[36morg.json4s.jackson.JsonMethods._\n",
       "\u001b[39m\n",
       "\u001b[36mformats\u001b[39m: \u001b[32mDefaultFormats\u001b[39m.type = org.json4s.DefaultFormats$@6e756a75"
      ]
     },
     "execution_count": 8,
     "metadata": {},
     "output_type": "execute_result"
    }
   ],
   "source": [
    "import scalaj.http.{Http, HttpResponse}\n",
    "import scala.xml.XML\n",
    "import scala.collection.mutable.MutableList\n",
    "//import org.json4s.JsonDSL._\n",
    "import org.json4s._\n",
    "import org.json4s.jackson.JsonMethods._\n",
    "implicit val formats = DefaultFormats"
   ]
  },
  {
   "cell_type": "markdown",
   "id": "interstate-painting",
   "metadata": {},
   "source": [
    "### 1.1 Obtener el texto del RSS Feed\n",
    "\n",
    "Realizamos una consulta HTTP, que nos devuelve una instancia de HTTPResponse. Dentro del atributo `body` de la HTTPResponse, se encuentra el texto del feed en formato XML. Luego, se parsea el XML para extraer los campos `title` y `description`."
   ]
  },
  {
   "cell_type": "code",
   "execution_count": 9,
   "id": "e28b8389-4886-488b-905b-847edc7522fb",
   "metadata": {},
   "outputs": [
    {
     "data": {
      "text/plain": [
       "defined \u001b[32mclass\u001b[39m \u001b[36mParser\u001b[39m\n",
       "defined \u001b[32mclass\u001b[39m \u001b[36mXMLParser\u001b[39m\n",
       "defined \u001b[32mclass\u001b[39m \u001b[36mJSONParser\u001b[39m"
      ]
     },
     "execution_count": 9,
     "metadata": {},
     "output_type": "execute_result"
    }
   ],
   "source": [
    "abstract class Parser {\n",
    "    // Get the xml content\n",
    "    val emptyText: String\n",
    "    def openURL(url: String): String = {\n",
    "        try {\n",
    "            var response = Http(url)\n",
    "            .timeout(connTimeoutMs = 2000, readTimeoutMs = 5000)\n",
    "            .asString\n",
    "            response.body\n",
    "        } catch {\n",
    "            case e => println(\"Error in http response\")\n",
    "            emptyText \n",
    "        }\n",
    "    }\n",
    "    \n",
    "    // Extract text \n",
    "    def processText(rawText: String): Seq[String] \n",
    "    \n",
    "    // Read the text\n",
    "    def readText(url: String): Seq[String] = {\n",
    "        processText(openURL(url))\n",
    "    }\n",
    "}\n",
    "\n",
    "class RSSarser() extends Parser {\n",
    "    val emptyText = \"<rss></rss>\"\n",
    "    def processText(rawText: String): Seq[String] = {\n",
    "        // convert the `String` to a `scala.xml.Elem`\n",
    "        val xml = XML.loadString(rawText)\n",
    "        // Extract text from title and description\n",
    "        (xml \\\\ \"item\").map { item =>\n",
    "            ((item \\ \"title\").text ++ \" \" ++ (item \\ \"description\").text)\n",
    "        }\n",
    "    }\n",
    "}\n",
    "\n",
    "class RedditParser() extends Parser {\n",
    "    val emptyText = \"{}\"\n",
    "    def processText(rawText: String): Seq[String] = {\n",
    "        (parse(rawText) \\ \"data\" \\ \"children\" \\ \"data\" \\ \"title\" )\n",
    "        .extract[List[String]] ++ (parse(rawText) \\ \"data\" \\ \"children\" \\ \"data\" \\ \"selftext\" )\n",
    "        .extract[List[String]]\n",
    "    }\n",
    "}\n",
    "\n"
   ]
  },
  {
   "cell_type": "code",
   "execution_count": 12,
   "id": "7678da81-353d-46a4-9e00-a3fff0373fe4",
   "metadata": {},
   "outputs": [
    {
     "data": {
      "text/plain": [
       "defined \u001b[32mclass\u001b[39m \u001b[36mFeedService\u001b[39m"
      ]
     },
     "execution_count": 12,
     "metadata": {},
     "output_type": "execute_result"
    }
   ],
   "source": [
    "abstract class FeedService() {\n",
    "    var urls: MutableList[(String, Parser)] = new MutableList[(String, Parser)]()\n",
    "    def subscribe(urlTemplate: String, params: Seq[String], parser: Parser) \n",
    "        // Falta implementar el subscribe. Idea: armar una Seq[urlTemplate++params_i], \n",
    "    //armar una Mutable(urlTemplate++params_i, Parser), concatenar con urls \n",
    "    def getText(): Seq[String]\n",
    "        // Devuelve la url parseada\n",
    "}"
   ]
  },
  {
   "cell_type": "code",
   "execution_count": 10,
   "id": "a6466474-b820-4a1f-a4ec-48ba52014a56",
   "metadata": {},
   "outputs": [
    {
     "data": {
      "text/plain": [
       "\u001b[36mparser\u001b[39m: \u001b[32mXMLParser\u001b[39m = ammonite.$sess.cmd8$Helper$XMLParser@5b874efc"
      ]
     },
     "execution_count": 10,
     "metadata": {},
     "output_type": "execute_result"
    }
   ],
   "source": [
    "val parser = new RSSParser"
   ]
  },
  {
   "cell_type": "code",
   "execution_count": 14,
   "id": "acb82a7d-1414-4607-b099-baa2e9122f0d",
   "metadata": {},
   "outputs": [
    {
     "data": {
      "text/plain": [
       "\u001b[36murl\u001b[39m: \u001b[32mString\u001b[39m = \u001b[32m\"https://www.chicagotribune.com/arcio/rss/category/sports/?query=display_date:[now-2d+TO+now]&sort=display_date:desc\"\u001b[39m\n",
       "\u001b[36mrssText\u001b[39m: \u001b[32mSeq\u001b[39m[\u001b[32mString\u001b[39m] = \u001b[33mList\u001b[39m(\n",
       "  \u001b[32m\"Simone Biles dials up the difficulty. \\u2018Because I can.\\u2019  The Olympic gold medalist\\u2019s new vault is so dangerous that gymnastics, for now, limits the scoring rewards for trying it. Biles says that\\u2019s unfair.\"\u001b[39m,\n",
       "  \u001b[32m\"Connecticut Sun coach Curt Miller apologizes for comment about Las Vegas Aces center Liz Cambage\\u2019s weight Connecticut Sun coach Curt Miller has apologized for making a disparaging remark to a referee about the weight of Las Vegas Aces post player Liz Cambage.\"\u001b[39m,\n",
       "  \u001b[32m\"Aaron Rodgers doesn\\u2019t attend the 1st day of Green Bay Packers OTAs Green Bay Packers quarterback Aaron Rodgers wasn\\u2019t present for the first day of organized team activities Monday, according to a person familiar with the situation.\"\u001b[39m,\n",
       "  \u001b[32m\"Julio Jones says he\\u2019s leaving Falcons, dismisses Cowboys in candid FS1 interview Julio Jones\\u2019 days with the Atlanta Falcons are finished.\"\u001b[39m,\n",
       "  \u001b[32m\"ESPN, please send \\u00c1lex Rodr\\u00edguez and Matt Vasgersian back to the ballpark. Winners and losers from the \\u2018Sunday Night Baseball\\u2019 broadcast of Chicago Cubs-St. Louis Cardinals. ESPN should send \\u00c1lex Rodr\\u00edguez and Matt Vasgersian back to the ballpark, and other observations from the Chicago Cubs and St. Louis Cardinals on \\\"Sunday Night Baseball.\\\"\"\u001b[39m,\n",
       "  \u001b[32m\"Chicago Bulls Q&A: What kind of salary cap space is available? Is Lauri Markkanen gone? And could Derrick Rose return to town? The Chicago Bulls are gearing up for what should be an active offseason after finishing 31-41 in the 2020-21 regular season.\"\u001b[39m,\n",
       "  \u001b[32m\"Column: Joe West, the ump you love to hate, is about to set the major-league record for games umpired Joe West is poised to break the major-league record for games umpired. The controversial ump has been in the middle of spats for 45 years.\"\u001b[39m,\n",
       "  \u001b[32m\"4 takeaways from the Chicago White Sox-New York Yankees series, including the playoff atmosphere and Carlos Rod\\u00f3n displaying a \\u2018nasty\\u2019 slider The Chicago White Sox were not exactly a Broadway \\u2014 or in this case Bronx \\u2014 smash hit. In fact, hitting was where they came up empty in the first two games at Yankee Stadium.\"\u001b[39m,\n",
       "  \u001b[32m\"3 takeaways from the Chicago Cubs\\u2019 first series with the St. Louis Cardinals, including bigger crowds making it seem more like the rivalry\\u2019s \\u2018old days\\u2019 Chicago Cubs pitcher Kyle Hendricks said facing the Cardinals' Yadier Molina with the bases loaded and one out in the sixth inning of a 2-2 game Friday in St. Louis was a moment that stuck out, bringing a sense of normalcy for the first time since 2019.\"\u001b[39m,\n",
       "  \u001b[32m\"Northwestern community keeps pressure on after athletic director Mike Polisky\u001b[39m..."
      ]
     },
     "execution_count": 14,
     "metadata": {},
     "output_type": "execute_result"
    }
   ],
   "source": [
    "val url = \"https://www.chicagotribune.com/arcio/rss/category/sports/?query=display_date:[now-2d+TO+now]&sort=display_date:desc\"\n",
    "val rssText = parser.readText(url)"
   ]
  },
  {
   "cell_type": "code",
   "execution_count": 15,
   "id": "a14ccc0b-7640-4e60-9ea4-fa68d1123951",
   "metadata": {},
   "outputs": [
    {
     "data": {
      "text/plain": [
       "\u001b[36mparser2\u001b[39m: \u001b[32mJSONParser\u001b[39m = ammonite.$sess.cmd8$Helper$JSONParser@10b324c4\n",
       "\u001b[36mreditt\u001b[39m: \u001b[32mString\u001b[39m = \u001b[32m\"https://www.reddit.com/r/Android/hot/.json?count=10\"\u001b[39m\n",
       "\u001b[36mredittText\u001b[39m: \u001b[32mSeq\u001b[39m[\u001b[32mString\u001b[39m] = \u001b[33mList\u001b[39m(\n",
       "  \u001b[32m\"Moronic Monday (May 24 2021) - Your weekly questions thread!\"\u001b[39m,\n",
       "  \u001b[32m\"Honor\\u2019s upcoming phones will have Google apps pre-installed\"\u001b[39m,\n",
       "  \u001b[32m\"4 things to know about Google Photos' storage policy change\"\u001b[39m,\n",
       "  \u001b[32m\"Galaxy Upcycling: How Samsung Ruined Their Best Idea in Years\"\u001b[39m,\n",
       "  \u001b[32m\"LineageOS 18.1 brings Android 11 to three Xiaomi, ASUS, and Sony devices\"\u001b[39m,\n",
       "  \u001b[32m\"Practical application of the Android Neural Network API for the use of Tensorflow Lite models\"\u001b[39m,\n",
       "  \u001b[32m\"Galaxy Tab S7 FE 5G silver 64 GB( German Samsung website)\"\u001b[39m,\n",
       "  \u001b[32m\"Samsung Galaxy Tab S7 FE quietly launches with a Snapdragon 750G and 10,090 mAh battery\"\u001b[39m,\n",
       "  \u001b[32m\"Xiaomi Black Shark 4 review\"\u001b[39m,\n",
       "  \u001b[32m\"New Pixel 6 info from Max Weinbach\"\u001b[39m,\n",
       "  \u001b[32m\"Google Photos Locked Folder: Limits to be aware of\"\u001b[39m,\n",
       "  \u001b[32m\"Sunday Rant/Rage (May 23 2021) - Your weekly complaint thread!\"\u001b[39m,\n",
       "  \u001b[32m\"The man behind the world's largest phone empire (the story of BBK) - TechAltar\"\u001b[39m,\n",
       "  \u001b[32m\"My personal opinion on A12 after 60 hours\"\u001b[39m,\n",
       "  \u001b[32m\"Google Weather readies Material Theme redesign, new menu\"\u001b[39m,\n",
       "  \u001b[32m\"Saturday APPreciation (May 22 2021) - Your weekly app recommendation/request thread!\"\u001b[39m,\n",
       "  \u001b[32m\"Introducing Dark Mode in Microsoft Office for Android\"\u001b[39m,\n",
       "  \u001b[32m\"Why is there no equivalent of Apple One in Google ecosystem?\"\u001b[39m,\n",
       "  \u001b[32m\"MKBHD - Talking Tech and AI with Google CEO Sundar Pichai!\"\u001b[39m,\n",
       "  \u001b[32m\"App Advertising Tracking Transparency: iOS vs Android\"\u001b[39m,\n",
       "  \u001b[32m\"Android 12 beta 2 Cents ;)\"\u001b[39m,\n",
       "  \u001b[32m\"Android 12 Beta introduces support for Bluetooth LE Audio\"\u001b[39m,\n",
       "  \u001b[32m\"Here's how POCO plans to conquer the budget 5G segment with the POCO M3 Pro 5G | Android Central\"\u001b[39m,\n",
       "  \u001b[32m\"This could be how Google solves the under-display camera problem\"\u001b[39m,\n",
       "  \u001b[32m\"[Exclusive] New Google Pixel 6 renders reveal dual cameras, flat display, and more (not Pro)\"\u001b[39m,\n",
       "  \u001b[32m\"Google Photos won't ask you for permission to delete files on Android 12\"\u001b[39m,\n",
       "  \u001b[32m\"\"\"Note 1. Join us at /r/MoronicMondayAndroid, a sub serving as a repository for our retired weekly threads. Just pick any thread and Ctrl-F your way to wisdom! \n",
       "\n",
       "Note 2. Join our IRC, and Telegram chat-rooms! [Please see our wiki for instructions.](https://www.reddit.com/r/Android/wiki/index#wiki_.2Fr.2Fandroid_chat_room\u001b[39m..."
      ]
     },
     "execution_count": 15,
     "metadata": {},
     "output_type": "execute_result"
    }
   ],
   "source": [
    "val parser2 = new RedditParser\n",
    "val reddit = \"https://www.reddit.com/r/Android/hot/.json?count=10\"\n",
    "val redditText = parser2.readText(reddit)"
   ]
  },
  {
   "cell_type": "markdown",
   "id": "initial-gambling",
   "metadata": {},
   "source": [
    "## 2. Detectar las entidades nombradas"
   ]
  },
  {
   "cell_type": "markdown",
   "id": "portable-tender",
   "metadata": {},
   "source": [
    "### 2.1 Crear el modelo\n",
    "\n",
    "El **modelo** es sólo la función `getNEs`, que recibe una lista de textos.\n",
    "Para cada texto, se separa las palabras del texto usando los espacios, y considera que es una entidad nombrada si empieza con mayúscula."
   ]
  },
  {
   "cell_type": "markdown",
   "id": "charitable-experiment",
   "metadata": {},
   "source": [
    "Este código lista los signos de puntuación y algunas palabras comunes del inglés que se van a sacar del texto."
   ]
  },
  {
   "cell_type": "code",
   "execution_count": 53,
   "id": "experimental-flight",
   "metadata": {
    "tags": []
   },
   "outputs": [
    {
     "data": {
      "text/plain": [
       "\u001b[36mSTOPWORDS\u001b[39m: \u001b[32mSeq\u001b[39m[\u001b[32mString\u001b[39m] = \u001b[33mList\u001b[39m(\n",
       "  \u001b[32m\"i\"\u001b[39m,\n",
       "  \u001b[32m\"me\"\u001b[39m,\n",
       "  \u001b[32m\"my\"\u001b[39m,\n",
       "  \u001b[32m\"myself\"\u001b[39m,\n",
       "  \u001b[32m\"we\"\u001b[39m,\n",
       "  \u001b[32m\"our\"\u001b[39m,\n",
       "  \u001b[32m\"ours\"\u001b[39m,\n",
       "  \u001b[32m\"ourselves\"\u001b[39m,\n",
       "  \u001b[32m\"you\"\u001b[39m,\n",
       "  \u001b[32m\"yours\"\u001b[39m,\n",
       "  \u001b[32m\"yourself\"\u001b[39m,\n",
       "  \u001b[32m\"yourselves\"\u001b[39m,\n",
       "  \u001b[32m\"he\"\u001b[39m,\n",
       "  \u001b[32m\"him\"\u001b[39m,\n",
       "  \u001b[32m\"his\"\u001b[39m,\n",
       "  \u001b[32m\"himself\"\u001b[39m,\n",
       "  \u001b[32m\"she\"\u001b[39m,\n",
       "  \u001b[32m\"her\"\u001b[39m,\n",
       "  \u001b[32m\"hers\"\u001b[39m,\n",
       "  \u001b[32m\"herself\"\u001b[39m,\n",
       "  \u001b[32m\"it\"\u001b[39m,\n",
       "  \u001b[32m\"its\"\u001b[39m,\n",
       "  \u001b[32m\"itself\"\u001b[39m,\n",
       "  \u001b[32m\"they\"\u001b[39m,\n",
       "  \u001b[32m\"them\"\u001b[39m,\n",
       "  \u001b[32m\"your\"\u001b[39m,\n",
       "  \u001b[32m\"their\"\u001b[39m,\n",
       "  \u001b[32m\"theirs\"\u001b[39m,\n",
       "  \u001b[32m\"themselves\"\u001b[39m,\n",
       "  \u001b[32m\"what\"\u001b[39m,\n",
       "  \u001b[32m\"which\"\u001b[39m,\n",
       "  \u001b[32m\"who\"\u001b[39m,\n",
       "  \u001b[32m\"whom\"\u001b[39m,\n",
       "  \u001b[32m\"this\"\u001b[39m,\n",
       "  \u001b[32m\"that\"\u001b[39m,\n",
       "  \u001b[32m\"these\"\u001b[39m,\n",
       "  \u001b[32m\"those\"\u001b[39m,\n",
       "  \u001b[32m\"am\"\u001b[39m,\n",
       "..."
      ]
     },
     "execution_count": 53,
     "metadata": {},
     "output_type": "execute_result"
    }
   ],
   "source": [
    "val STOPWORDS = Seq (\n",
    "    \"i\", \"me\", \"my\", \"myself\", \"we\", \"our\", \"ours\", \"ourselves\", \"you\",\n",
    "    \"yours\", \"yourself\", \"yourselves\", \"he\", \"him\", \"his\", \"himself\", \"she\",\n",
    "    \"her\", \"hers\", \"herself\", \"it\", \"its\", \"itself\", \"they\", \"them\", \"your\",\n",
    "    \"their\", \"theirs\", \"themselves\", \"what\", \"which\", \"who\", \"whom\",\n",
    "    \"this\", \"that\", \"these\", \"those\", \"am\", \"is\", \"are\", \"was\", \"were\",\n",
    "    \"be\", \"been\", \"being\", \"have\", \"has\", \"had\", \"having\", \"do\", \"does\",\n",
    "    \"did\", \"doing\", \"a\", \"an\", \"the\", \"and\", \"but\", \"if\", \"or\",\n",
    "    \"because\", \"as\", \"until\", \"while\", \"of\", \"at\", \"by\", \"for\", \"with\",\n",
    "    \"about\", \"against\", \"between\", \"into\", \"through\", \"during\", \"before\",\n",
    "    \"after\", \"above\", \"below\", \"to\", \"from\", \"up\", \"down\", \"in\", \"out\",\n",
    "    \"off\", \"over\", \"under\", \"again\", \"further\", \"then\", \"once\", \"here\",\n",
    "    \"there\", \"when\", \"where\", \"why\", \"how\", \"all\", \"any\", \"both\", \"each\",\n",
    "    \"few\", \"more\", \"most\", \"other\", \"some\", \"such\", \"no\", \"nor\", \"not\",\n",
    "    \"only\", \"own\", \"same\", \"so\", \"than\", \"too\", \"very\", \"s\", \"t\", \"can\",\n",
    "    \"will\", \"just\", \"don\", \"should\", \"now\", \"on\",\n",
    "    // Contractions without '\n",
    "    \"im\", \"ive\", \"id\", \"Youre\", \"youd\", \"youve\",\n",
    "    \"hes\", \"hed\", \"shes\", \"shed\", \"itd\", \"were\", \"wed\", \"weve\",\n",
    "    \"theyre\", \"theyd\", \"theyve\",\n",
    "    \"shouldnt\", \"couldnt\", \"musnt\", \"cant\", \"wont\",\n",
    "    // Common uppercase words\n",
    "    \"hi\", \"hello\"\n",
    ")"
   ]
  },
  {
   "cell_type": "code",
   "execution_count": 54,
   "id": "042f75de-816f-460f-8669-30318f5d3f12",
   "metadata": {},
   "outputs": [
    {
     "data": {
      "text/plain": [
       "defined \u001b[32mclass\u001b[39m \u001b[36mNERModel\u001b[39m"
      ]
     },
     "execution_count": 54,
     "metadata": {},
     "output_type": "execute_result"
    }
   ],
   "source": [
    "class NERModel(STOPWORDS: Seq[String]) {\n",
    "    \n",
    "    val punctuationSymbols = \".,()!?;:'`´\\n\"\n",
    "    val punctuationRegex = \"\\\\\" + punctuationSymbols.split(\"\").mkString(\"|\\\\\")\n",
    "    \n",
    "    // Extract Named Entitis\n",
    "    def getNEsSingle(text: String): Seq[String] = {\n",
    "      text.replaceAll(punctuationRegex, \"\").split(\" \")\n",
    "        .filter { word:String => word.length > 1 &&\n",
    "                  Character.isUpperCase(word.charAt(0)) &&\n",
    "                  !STOPWORDS.contains(word.toLowerCase) }.toSeq\n",
    "    }\n",
    "    def getNEs(textList: Seq[String]): Seq[Seq[String]] = {\n",
    "        textList.map(getNEsSingle)\n",
    "    }\n",
    "    \n",
    "    // Counts Named Entities\n",
    "    def countNEs(result: Seq[Seq[String]]): Map[String, Int] = {\n",
    "        result.flatten.foldLeft(Map.empty[String, Int]) {\n",
    "         (count, word) => count + (word -> (count.getOrElse(word, 0) + 1)) }\n",
    "    }\n",
    "    \n",
    "    // Sorts Named Entities\n",
    "    def sortNEs(counts: Map[String, Int]): List[(String, Int)] = {\n",
    "        counts.toList.sortBy(_._2)(Ordering[Int].reverse)\n",
    "    } \n",
    "}"
   ]
  },
  {
   "cell_type": "code",
   "execution_count": 55,
   "id": "aquatic-preservation",
   "metadata": {
    "tags": []
   },
   "outputs": [
    {
     "data": {
      "text/plain": [
       "\u001b[36mmodel\u001b[39m: \u001b[32mNERModel\u001b[39m = ammonite.$sess.cmd53$Helper$NERModel@4c69d628"
      ]
     },
     "execution_count": 55,
     "metadata": {},
     "output_type": "execute_result"
    }
   ],
   "source": [
    "val model = new NERModel(STOPWORDS)"
   ]
  },
  {
   "cell_type": "markdown",
   "id": "victorian-moderator",
   "metadata": {},
   "source": [
    "### 2.2 Aplicar el \"Modelo\" a los datos"
   ]
  },
  {
   "cell_type": "code",
   "execution_count": 56,
   "id": "educated-bronze",
   "metadata": {
    "tags": []
   },
   "outputs": [
    {
     "data": {
      "text/plain": [
       "\u001b[36mresult\u001b[39m: \u001b[32mSeq\u001b[39m[\u001b[32mSeq\u001b[39m[\u001b[32mString\u001b[39m]] = \u001b[33mList\u001b[39m(\n",
       "  \u001b[33mArrayBuffer\u001b[39m(\u001b[32m\"Moronic\"\u001b[39m, \u001b[32m\"Monday\"\u001b[39m, \u001b[32m\"May\"\u001b[39m),\n",
       "  \u001b[33mArrayBuffer\u001b[39m(\u001b[32m\"Honor\\u2019s\"\u001b[39m, \u001b[32m\"Google\"\u001b[39m),\n",
       "  \u001b[33mArrayBuffer\u001b[39m(\u001b[32m\"Google\"\u001b[39m, \u001b[32m\"Photos\"\u001b[39m),\n",
       "  \u001b[33mArrayBuffer\u001b[39m(\n",
       "    \u001b[32m\"Galaxy\"\u001b[39m,\n",
       "    \u001b[32m\"Upcycling\"\u001b[39m,\n",
       "    \u001b[32m\"Samsung\"\u001b[39m,\n",
       "    \u001b[32m\"Ruined\"\u001b[39m,\n",
       "    \u001b[32m\"Best\"\u001b[39m,\n",
       "    \u001b[32m\"Idea\"\u001b[39m,\n",
       "    \u001b[32m\"Years\"\u001b[39m\n",
       "  ),\n",
       "  \u001b[33mArrayBuffer\u001b[39m(\u001b[32m\"LineageOS\"\u001b[39m, \u001b[32m\"Android\"\u001b[39m, \u001b[32m\"Xiaomi\"\u001b[39m, \u001b[32m\"ASUS\"\u001b[39m, \u001b[32m\"Sony\"\u001b[39m),\n",
       "  \u001b[33mArrayBuffer\u001b[39m(\n",
       "    \u001b[32m\"Practical\"\u001b[39m,\n",
       "    \u001b[32m\"Android\"\u001b[39m,\n",
       "    \u001b[32m\"Neural\"\u001b[39m,\n",
       "    \u001b[32m\"Network\"\u001b[39m,\n",
       "    \u001b[32m\"API\"\u001b[39m,\n",
       "    \u001b[32m\"Tensorflow\"\u001b[39m,\n",
       "    \u001b[32m\"Lite\"\u001b[39m\n",
       "  ),\n",
       "  \u001b[33mArrayBuffer\u001b[39m(\u001b[32m\"Galaxy\"\u001b[39m, \u001b[32m\"Tab\"\u001b[39m, \u001b[32m\"S7\"\u001b[39m, \u001b[32m\"FE\"\u001b[39m, \u001b[32m\"GB\"\u001b[39m, \u001b[32m\"German\"\u001b[39m, \u001b[32m\"Samsung\"\u001b[39m),\n",
       "  \u001b[33mArrayBuffer\u001b[39m(\u001b[32m\"Samsung\"\u001b[39m, \u001b[32m\"Galaxy\"\u001b[39m, \u001b[32m\"Tab\"\u001b[39m, \u001b[32m\"S7\"\u001b[39m, \u001b[32m\"FE\"\u001b[39m, \u001b[32m\"Snapdragon\"\u001b[39m),\n",
       "  \u001b[33mArrayBuffer\u001b[39m(\u001b[32m\"Xiaomi\"\u001b[39m, \u001b[32m\"Black\"\u001b[39m, \u001b[32m\"Shark\"\u001b[39m),\n",
       "  \u001b[33mArrayBuffer\u001b[39m(\u001b[32m\"New\"\u001b[39m, \u001b[32m\"Pixel\"\u001b[39m, \u001b[32m\"Max\"\u001b[39m, \u001b[32m\"Weinbach\"\u001b[39m),\n",
       "  \u001b[33mArrayBuffer\u001b[39m(\u001b[32m\"Google\"\u001b[39m, \u001b[32m\"Photos\"\u001b[39m, \u001b[32m\"Locked\"\u001b[39m, \u001b[32m\"Folder\"\u001b[39m, \u001b[32m\"Limits\"\u001b[39m),\n",
       "  \u001b[33mArrayBuffer\u001b[39m(\u001b[32m\"Sunday\"\u001b[39m, \u001b[32m\"Rant/Rage\"\u001b[39m, \u001b[32m\"May\"\u001b[39m),\n",
       "  \u001b[33mArrayBuffer\u001b[39m(\u001b[32m\"BBK\"\u001b[39m, \u001b[32m\"TechAltar\"\u001b[39m),\n",
       "  \u001b[33mArrayBuffer\u001b[39m(\u001b[32m\"A12\"\u001b[39m),\n",
       "  \u001b[33mArrayBuffer\u001b[39m(\u001b[32m\"Google\"\u001b[39m, \u001b[32m\"Weather\"\u001b[39m, \u001b[32m\"Material\"\u001b[39m, \u001b[32m\"Theme\"\u001b[39m),\n",
       "  \u001b[33mArrayBuffer\u001b[39m(\u001b[32m\"Saturday\"\u001b[39m, \u001b[32m\"APPreciation\"\u001b[39m, \u001b[32m\"May\"\u001b[39m),\n",
       "  \u001b[33mArrayBuffer\u001b[39m(\u001b[32m\"Introducing\"\u001b[39m, \u001b[32m\"Dark\"\u001b[39m, \u001b[32m\"Mode\"\u001b[39m, \u001b[32m\"Microsoft\"\u001b[39m, \u001b[32m\"Office\"\u001b[39m, \u001b[32m\"Android\"\u001b[39m),\n",
       "  \u001b[33mArrayBuffer\u001b[39m(\u001b[32m\"Apple\"\u001b[39m, \u001b[32m\"One\"\u001b[39m, \u001b[32m\"Google\"\u001b[39m),\n",
       "  \u001b[33mArrayBuffer\u001b[39m(\n",
       "    \u001b[32m\"MKBHD\"\u001b[39m,\n",
       "    \u001b[32m\"Talking\"\u001b[39m,\n",
       "    \u001b[32m\"Tech\"\u001b[39m,\n",
       "..."
      ]
     },
     "execution_count": 56,
     "metadata": {},
     "output_type": "execute_result"
    }
   ],
   "source": [
    "val result = model.getNEs(redittText)"
   ]
  },
  {
   "cell_type": "markdown",
   "id": "located-cookbook",
   "metadata": {
    "tags": []
   },
   "source": [
    "## 3. Contar y ordenar las entidades\n",
    "\n",
    "Concatenar todas las listas, contar cada Named Entity, y luego ordernar por frecuencia"
   ]
  },
  {
   "cell_type": "code",
   "execution_count": 57,
   "id": "dynamic-nickel",
   "metadata": {
    "tags": []
   },
   "outputs": [
    {
     "data": {
      "text/plain": [
       "\u001b[36mcounts\u001b[39m: \u001b[32mMap\u001b[39m[\u001b[32mString\u001b[39m, \u001b[32mInt\u001b[39m] = \u001b[33mMap\u001b[39m(\n",
       "  \u001b[32m\"Thing\"\u001b[39m -> \u001b[32m1\u001b[39m,\n",
       "  \u001b[32m\"Advertising\"\u001b[39m -> \u001b[32m1\u001b[39m,\n",
       "  \u001b[32m\"PLN\"\u001b[39m -> \u001b[32m5\u001b[39m,\n",
       "  \u001b[32m\"Please\"\u001b[39m -> \u001b[32m1\u001b[39m,\n",
       "  \u001b[32m\"Easy\"\u001b[39m -> \u001b[32m1\u001b[39m,\n",
       "  \u001b[32m\"Locked\"\u001b[39m -> \u001b[32m1\u001b[39m,\n",
       "  \u001b[32m\"One\"\u001b[39m -> \u001b[32m8\u001b[39m,\n",
       "  \u001b[32m\"CEO\"\u001b[39m -> \u001b[32m1\u001b[39m,\n",
       "  \u001b[32m\"Tab\"\u001b[39m -> \u001b[32m3\u001b[39m,\n",
       "  \u001b[32m\"Weinbach\"\u001b[39m -> \u001b[32m3\u001b[39m,\n",
       "  \u001b[32m\"Use\"\u001b[39m -> \u001b[32m1\u001b[39m,\n",
       "  \u001b[32m\"Cheaper\"\u001b[39m -> \u001b[32m1\u001b[39m,\n",
       "  \u001b[32m\"Take\"\u001b[39m -> \u001b[32m1\u001b[39m,\n",
       "  \u001b[32m\"OLED\"\u001b[39m -> \u001b[32m1\u001b[39m,\n",
       "  \u001b[32m\"NPUs\"\u001b[39m -> \u001b[32m1\u001b[39m,\n",
       "  \u001b[32m\"A11\"\u001b[39m -> \u001b[32m3\u001b[39m,\n",
       "  \u001b[32m\"Disagree\"\u001b[39m -> \u001b[32m1\u001b[39m,\n",
       "  \u001b[32m\"Upcycling\"\u001b[39m -> \u001b[32m1\u001b[39m,\n",
       "  \u001b[32m\"ISP\"\u001b[39m -> \u001b[32m1\u001b[39m,\n",
       "  \u001b[32m\"Settings\"\u001b[39m -> \u001b[32m1\u001b[39m,\n",
       "  \u001b[32m\"Lite\"\u001b[39m -> \u001b[32m1\u001b[39m,\n",
       "  \u001b[32m\"Pichai\"\u001b[39m -> \u001b[32m1\u001b[39m,\n",
       "  \u001b[32m\"Users\"\u001b[39m -> \u001b[32m1\u001b[39m,\n",
       "  \u001b[32m\"Reddit\"\u001b[39m -> \u001b[32m1\u001b[39m,\n",
       "  \u001b[32m\"GPS\"\u001b[39m -> \u001b[32m1\u001b[39m,\n",
       "  \u001b[32m\"Google/Samsung/HTC\"\u001b[39m -> \u001b[32m1\u001b[39m,\n",
       "  \u001b[32m\"UI\"\u001b[39m -> \u001b[32m5\u001b[39m,\n",
       "  \u001b[32m\"Added\"\u001b[39m -> \u001b[32m1\u001b[39m,\n",
       "  \u001b[32m\"Ctrl-F\"\u001b[39m -> \u001b[32m2\u001b[39m,\n",
       "  \u001b[32m\"Folder\"\u001b[39m -> \u001b[32m1\u001b[39m,\n",
       "  \u001b[32m\"ROMs\"\u001b[39m -> \u001b[32m1\u001b[39m,\n",
       "  \u001b[32m\"YouTube\"\u001b[39m -> \u001b[32m1\u001b[39m,\n",
       "  \u001b[32m\"Galaxy\"\u001b[39m -> \u001b[32m5\u001b[39m,\n",
       "  \u001b[32m\"Honor\\u2019s\"\u001b[39m -> \u001b[32m1\u001b[39m,\n",
       "  \u001b[32m\"Note\"\u001b[39m -> \u001b[32m5\u001b[39m,\n",
       "  \u001b[32m\"Dual\"\u001b[39m -> \u001b[32m1\u001b[39m,\n",
       "  \u001b[32m\"Xiaomi\"\u001b[39m -> \u001b[32m2\u001b[39m,\n",
       "  \u001b[32m\"Best\"\u001b[39m -> \u001b[32m1\u001b[39m,\n",
       "...\n",
       "\u001b[36msortedNEs\u001b[39m: \u001b[32mList\u001b[39m[(\u001b[32mString\u001b[39m, \u001b[32mInt\u001b[39m)] = \u001b[33mList\u001b[39m(\n",
       "  (\u001b[32m\"Pixel\"\u001b[39m, \u001b[32m20\u001b[39m),\n",
       "  (\u001b[32m\"Google\"\u001b[39m, \u001b[32m20\u001b[39m),\n",
       "  (\u001b[32m\"Android\"\u001b[39m, \u001b[32m17\u001b[39m),\n",
       "  (\u001b[32m\"Apple\"\u001b[39m, \u001b[32m14\u001b[39m),\n",
       "  (\u001b[32m\"One\"\u001b[39m, \u001b[32m8\u001b[39m),\n",
       "  (\u001b[32m\"Samsung\"\u001b[39m, \u001b[32m6\u001b[39m),\n",
       "  (\u001b[32m\"PLN\"\u001b[39m, \u001b[32m5\u001b[39m),\n",
       "  (\u001b[32m\"UI\"\u001b[39m, \u001b[32m5\u001b[39m),\n",
       "  (\u001b[32m\"Galaxy\"\u001b[39m, \u001b[32m5\u001b[39m),\n",
       "  (\u001b[32m\"Note\"\u001b[39m, \u001b[32m5\u001b[39m),\n",
       "  (\u001b[32m\"App\"\u001b[39m, \u001b[32m5\u001b[39m),\n",
       "  (\u001b[32m\"Join\"\u001b[39m, \u001b[32m5\u001b[39m),\n",
       "  (\u001b[32m\"USD\"\u001b[39m, \u001b[32m5\u001b[39m),\n",
       "  (\u001b[32m\"Max\"\u001b[39m, \u001b[32m4\u001b[39m),\n",
       "  (\u001b[32m\"Photos\"\u001b[39m, \u001b[32m4\u001b[39m),\n",
       "  (\u001b[32m\"Bluetooth\"\u001b[39m, \u001b[32m4\u001b[39m),\n",
       "  (\u001b[32m\"Tab\"\u001b[39m, \u001b[32m3\u001b[39m),\n",
       "  (\u001b[32m\"Weinbach\"\u001b[39m, \u001b[32m3\u001b[39m),\n",
       "  (\u001b[32m\"A11\"\u001b[39m, \u001b[32m3\u001b[39m),\n",
       "  (\u001b[32m\"May\"\u001b[39m, \u001b[32m3\u001b[39m),\n",
       "  (\u001b[32m\"Telegram\"\u001b[39m, \u001b[32m3\u001b[39m),\n",
       "  (\u001b[32m\"QS\"\u001b[39m, \u001b[32m3\u001b[39m),\n",
       "  (\u001b[32m\"Also\"\u001b[39m, \u001b[32m3\u001b[39m),\n",
       "  (\u001b[32m\"IRC\"\u001b[39m, \u001b[32m3\u001b[39m),\n",
       "  (\u001b[32m\"Ctrl-F\"\u001b[39m, \u001b[32m2\u001b[39m),\n",
       "  (\u001b[32m\"Xiaomi\"\u001b[39m, \u001b[32m2\u001b[39m),\n",
       "  (\u001b[32m\"POCO\"\u001b[39m, \u001b[32m2\u001b[39m),\n",
       "  (\u001b[32m\"S7\"\u001b[39m, \u001b[32m2\u001b[39m),\n",
       "  (\u001b[32m\"Pro\"\u001b[39m, \u001b[32m2\u001b[39m),\n",
       "  (\u001b[32m\"Saturday\"\u001b[39m, \u001b[32m2\u001b[39m),\n",
       "  (\u001b[32m\"Watch\"\u001b[39m, \u001b[32m2\u001b[39m),\n",
       "  (\u001b[32m\"Music\"\u001b[39m, \u001b[32m2\u001b[39m),\n",
       "  (\u001b[32m\"GB\"\u001b[39m, \u001b[32m2\u001b[39m),\n",
       "  (\u001b[32m\"FE\"\u001b[39m, \u001b[32m2\u001b[39m),\n",
       "  (\u001b[32m\"Sunday\"\u001b[39m, \u001b[32m2\u001b[39m),\n",
       "  (\u001b[32m\"New\"\u001b[39m, \u001b[32m2\u001b[39m),\n",
       "  (\u001b[32m\"Apps\"\u001b[39m, \u001b[32m2\u001b[39m),\n",
       "  (\u001b[32m\"Whitechapel\"\u001b[39m, \u001b[32m2\u001b[39m),\n",
       "..."
      ]
     },
     "execution_count": 57,
     "metadata": {},
     "output_type": "execute_result"
    }
   ],
   "source": [
    "val counts = model.countNEs(result)\n",
    "val sortedNEs = model.sortNEs(counts)"
   ]
  },
  {
   "cell_type": "code",
   "execution_count": null,
   "id": "racial-learning",
   "metadata": {},
   "outputs": [],
   "source": []
  },
  {
   "cell_type": "code",
   "execution_count": null,
   "id": "9aae6081-b68c-4f22-abe6-45d4b33fed7e",
   "metadata": {},
   "outputs": [],
   "source": []
  }
 ],
 "metadata": {
  "kernelspec": {
   "display_name": "Scala",
   "language": "scala",
   "name": "scala"
  },
  "language_info": {
   "codemirror_mode": "text/x-scala",
   "file_extension": ".scala",
   "mimetype": "text/x-scala",
   "name": "scala",
   "nbconvert_exporter": "script",
   "version": "2.11.12"
  }
 },
 "nbformat": 4,
 "nbformat_minor": 5
}
